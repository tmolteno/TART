{
 "cells": [
  {
   "cell_type": "markdown",
   "metadata": {},
   "source": [
    "# Three-arm Antenna Position Calibration\n",
    "\n",
    "Author: Tim Molteno. tim@elec.ac.nz.\n",
    "\n",
    "The antennas are laid out on three arms which are placed approximately 120 degrees apart.  This notebook will use measurements to infer the actual layout of the antennas.\n",
    "\n",
    "Arm 1 will point geographically north (NOT magnetic). This arm forms the y-axis and will be used as a reference.\n",
    "\n",
    "The other reference point is the center of the array. This is assumed to be the point [0,0]. Make sure that a marker is present at this reference point at the same height as the level of the antennas (otherwise the distances will be wrong)."
   ]
  },
  {
   "cell_type": "code",
   "execution_count": 1,
   "metadata": {},
   "outputs": [],
   "source": [
    "import numpy as np\n",
    "from scipy.optimize import minimize "
   ]
  },
  {
   "cell_type": "code",
   "execution_count": 2,
   "metadata": {},
   "outputs": [],
   "source": [
    "x0 = [0,0]"
   ]
  },
  {
   "cell_type": "code",
   "execution_count": 3,
   "metadata": {},
   "outputs": [
    {
     "data": {
      "text/plain": [
       "A 0      210.0\n",
       "A 1      410.0\n",
       "A 2      384.0\n",
       "A 3      638.0\n",
       "A 4      212.0\n",
       "A 5      753.0\n",
       "A 6     1261.0\n",
       "A 7     1436.0\n",
       "A 8     1707.0\n",
       "A 9     1864.0\n",
       "A 10    2199.0\n",
       "A 11    2386.0\n",
       "A 12     937.0\n",
       "A 13    1084.0\n",
       "A 14    1621.0\n",
       "A 15    1924.0\n",
       "A 16    2091.0\n",
       "A 17    2408.0\n",
       "A 18     914.0\n",
       "A 19    1254.0\n",
       "A 20    1575.0\n",
       "A 21    1696.0\n",
       "A 22    1856.0\n",
       "A 23    2076.0\n",
       "Name: 0, dtype: float64"
      ]
     },
     "execution_count": 3,
     "metadata": {},
     "output_type": "execute_result"
    }
   ],
   "source": [
    "# pip install pandas\n",
    "# pip install odfpy\n",
    "\n",
    "import pandas as pd\n",
    "\n",
    "#pd.read_excel('three_arm_measurements.ods', engine='odf')\n",
    "cols = [f\"A {i}\" for i in range(24)]\n",
    "data = pd.read_excel('three_arm_measurements.ods', \"Sheet1\", usecols=cols)\n",
    "radius = data.loc[0]\n",
    "radius"
   ]
  },
  {
   "cell_type": "code",
   "execution_count": null,
   "metadata": {},
   "outputs": [],
   "source": []
  },
  {
   "cell_type": "raw",
   "metadata": {},
   "source": [
    "## Finding the antennas\n",
    "\n",
    "This is done by measuring the distance from each antenna to x0 as well as each other antenna. The distance $m_0$ are the measurements to $x_0$. The array m_ij are the distances between antennas."
   ]
  },
  {
   "cell_type": "code",
   "execution_count": 4,
   "metadata": {},
   "outputs": [],
   "source": [
    "n_ant = 24\n",
    "m_0 = np.zeros(24)\n",
    "m_ij = np.zeros((24,24))\n",
    "\n",
    "radius = data.loc[0]\n",
    "\n",
    "for i in range(24):\n",
    "    m_ij[i,:] = data.loc[i+1]"
   ]
  },
  {
   "cell_type": "markdown",
   "metadata": {},
   "source": [
    "The following are the measured distances from [x1, x0, x2] from the reference points in millimeters. Note that their order must be the same as the order of the variable called 'reference_points'. In this case, they are x1,x0,x2."
   ]
  },
  {
   "cell_type": "code",
   "execution_count": 5,
   "metadata": {},
   "outputs": [
    {
     "data": {
      "text/plain": [
       "array([[   0.,  198.,  509.,  756.,  365.,  872., 1054., 1225., 1489.,\n",
       "        1656., 1984., 2183., 1047., 1189., 1718., 2026., 2187., 2506.,\n",
       "        1027., 1372., 1691., 1814., 1969., 2192.],\n",
       "       [ 198.,    0.,  673.,  894.,  545., 1021.,  855., 1027., 1293.,\n",
       "        1459., 1790., 1981., 1170., 1313., 1831., 2132., 2293., 2613.,\n",
       "        1173., 1506., 1823., 1945., 2098., 2316.],\n",
       "       [ 509.,  673.,    0.,  258.,  524., 1001., 1467., 1634., 1893.,\n",
       "        2056., 2384., 2575.,  557.,  701., 1234., 1541., 1705., 2026.,\n",
       "        1152., 1488., 1807., 1928., 2082., 2305.],\n",
       "       [ 756.,  894.,  258.,    0.,  772., 1214., 1639., 1802., 2054.,\n",
       "        2213., 2534., 2721.,  299.,  444.,  976., 1284., 1447., 1768.,\n",
       "        1357., 1682., 1992., 2113., 2261., 2479.],\n",
       "       [ 365.,  545.,  524.,  772.,    0.,  535., 1385., 1558., 1819.,\n",
       "        1984., 2312., 2507., 1066., 1209., 1735., 2042., 2205., 2525.,\n",
       "         697., 1042., 1366., 1490., 1644., 1867.],\n",
       "       [ 872., 1021., 1001., 1214.,  535.,    0., 1775., 1938., 2187.,\n",
       "        2348., 2668., 2859., 1477., 1608., 2109., 2405., 2562., 2873.,\n",
       "         159.,  507.,  831.,  956., 1109., 1333.],\n",
       "       [1054.,  855., 1467., 1639., 1385., 1775.,    0.,  172.,  437.,\n",
       "         600.,  931., 1127., 1866., 1982., 2437., 2710., 2860., 3157.,\n",
       "        1905., 2199., 2484., 2598., 2740., 2946.],\n",
       "       [1225., 1027., 1634., 1802., 1558., 1938.,  172.,    0.,  264.,\n",
       "         432.,  758.,  955., 2016., 2133., 2577., 2846., 2991., 3285.,\n",
       "        2065., 2355., 2636., 2745., 2887., 3088.],\n",
       "       [1489., 1293., 1893., 2054., 1819., 2187.,  437.,  264.,    0.,\n",
       "         164.,  492.,  692., 2262., 2364., 2792., 3058., 3198., 3484.,\n",
       "        2314., 2593., 2867., 2971., 3112., 3307.],\n",
       "       [1656., 1459., 2056., 2213., 1984., 2348.,  600.,  432.,  164.,\n",
       "           0.,  328.,  523., 2417., 2522., 2935., 3195., 3335., 3613.,\n",
       "        2469., 2742., 3013., 3118., 3254., 3447.],\n",
       "       [1984., 1790., 2384., 2534., 2312., 2668.,  931.,  758.,  492.,\n",
       "         328.,    0.,  193., 2725., 2827., 3226., 3474., 3609., 3884.,\n",
       "        2785., 3047., 3307., 3414., 3548., 3737.],\n",
       "       [2183., 1981., 2575., 2721., 2507., 2859., 1127.,  955.,  692.,\n",
       "         523.,  193.,    0., 2913., 3011., 3404., 3647., 3778., 4048.,\n",
       "        2976., 3236., 3493., 3595., 3723., 3913.],\n",
       "       [1047., 1170.,  557.,  299., 1066., 1477., 1866., 2016., 2262.,\n",
       "        2417., 2725., 2913.,    0.,  143.,  675.,  978., 1144., 1463.,\n",
       "        1618., 1924., 2223., 2338., 2487.,   nan],\n",
       "       [1189., 1313.,  701.,  444., 1209., 1608., 1982., 2133., 2364.,\n",
       "        2522., 2827., 3011.,  143.,    0.,   nan,   nan,   nan,   nan,\n",
       "          nan,   nan,   nan,   nan,   nan,   nan],\n",
       "       [1718., 1831., 1234.,  976., 1735., 2109., 2437., 2577., 2792.,\n",
       "        2935., 3226., 3404.,  675.,   nan,    0.,   nan,   nan,   nan,\n",
       "          nan,   nan,   nan,   nan,   nan,   nan],\n",
       "       [2026., 2132., 1541., 1284., 2042., 2405., 2710., 2846., 3058.,\n",
       "        3195., 3474., 3647.,  978.,   nan,   nan,    0.,   nan,   nan,\n",
       "          nan,   nan,   nan,   nan,   nan,   nan],\n",
       "       [2187., 2293., 1705., 1447., 2205., 2562., 2860., 2991., 3198.,\n",
       "        3335., 3609., 3778., 1144.,   nan,   nan,   nan,    0.,   nan,\n",
       "          nan,   nan,   nan,   nan,   nan,   nan],\n",
       "       [2506., 2613., 2026., 1768., 2525., 2873., 3157., 3285., 3484.,\n",
       "        3613., 3884., 4048., 1463.,   nan,   nan,   nan,   nan,    0.,\n",
       "          nan,   nan,   nan,   nan,   nan,   nan],\n",
       "       [1027., 1173., 1152., 1357.,  697.,  159., 1905., 2065., 2314.,\n",
       "        2469., 2785., 2976., 1618.,   nan,   nan,   nan,   nan,   nan,\n",
       "           0.,   nan,   nan,   nan,   nan,   nan],\n",
       "       [1372., 1506., 1488., 1682., 1042.,  507., 2199., 2355., 2593.,\n",
       "        2742., 3047., 3236., 1924.,   nan,   nan,   nan,   nan,   nan,\n",
       "          nan,    0.,   nan,   nan,   nan,   nan],\n",
       "       [1691., 1823., 1807., 1992., 1366.,  831., 2484., 2636., 2867.,\n",
       "        3013., 3307., 3493., 2223.,   nan,   nan,   nan,   nan,   nan,\n",
       "          nan,   nan,    0.,   nan,   nan,   nan],\n",
       "       [1814., 1945., 1928., 2113., 1490.,  956., 2598., 2745., 2971.,\n",
       "        3118., 3414., 3595., 2338.,   nan,   nan,   nan,   nan,   nan,\n",
       "          nan,   nan,   nan,    0.,   nan,   nan],\n",
       "       [1969., 2098., 2082., 2261., 1644., 1109., 2740., 2887., 3112.,\n",
       "        3254., 3548., 3723., 2487.,   nan,   nan,   nan,   nan,   nan,\n",
       "          nan,   nan,   nan,   nan,    0.,   nan],\n",
       "       [2192., 2316., 2305., 2479., 1867., 1333., 2946., 3088., 3307.,\n",
       "        3447., 3737., 3913.,   nan,   nan,   nan,   nan,   nan,   nan,\n",
       "          nan,   nan,   nan,   nan,   nan,    0.]])"
      ]
     },
     "execution_count": 5,
     "metadata": {},
     "output_type": "execute_result"
    }
   ],
   "source": [
    "for i in range(n_ant):\n",
    "    for j in range(n_ant):\n",
    "        if not np.isnan(m_ij[i,j]):\n",
    "            m_ij[j,i] = m_ij[i,j]\n",
    "\n",
    "m_ij\n"
   ]
  },
  {
   "cell_type": "code",
   "execution_count": 6,
   "metadata": {},
   "outputs": [
    {
     "data": {
      "text/plain": [
       "A 0      210.0\n",
       "A 1      410.0\n",
       "A 2      384.0\n",
       "A 3      638.0\n",
       "A 4      212.0\n",
       "A 5      753.0\n",
       "A 6     1261.0\n",
       "A 7     1436.0\n",
       "A 8     1707.0\n",
       "A 9     1864.0\n",
       "A 10    2199.0\n",
       "A 11    2386.0\n",
       "A 12     937.0\n",
       "A 13    1084.0\n",
       "A 14    1621.0\n",
       "A 15    1924.0\n",
       "A 16    2091.0\n",
       "A 17    2408.0\n",
       "A 18     914.0\n",
       "A 19    1254.0\n",
       "A 20    1575.0\n",
       "A 21    1696.0\n",
       "A 22    1856.0\n",
       "A 23    2076.0\n",
       "Name: 0, dtype: float64"
      ]
     },
     "execution_count": 6,
     "metadata": {},
     "output_type": "execute_result"
    }
   ],
   "source": [
    "radius"
   ]
  },
  {
   "cell_type": "markdown",
   "metadata": {},
   "source": [
    "## Plot the Initial Guess Points\n",
    "\n",
    "Initial Guesses are from JSON queried from the telescope API. These are converted to millimeters."
   ]
  },
  {
   "cell_type": "code",
   "execution_count": 7,
   "metadata": {
    "scrolled": true
   },
   "outputs": [],
   "source": [
    "import requests\n",
    "import json\n",
    "\n",
    "def get_data(path):\n",
    "    server = \"https://tart.elec.ac.nz/rhodes\"\n",
    "\n",
    "    r = requests.get('{}/{}'.format(server, path))\n",
    "    return json.loads(r.text)\n",
    "\n",
    "def get_pos():\n",
    "    return np.array(get_data('api/v1/imaging/antenna_positions'))\n",
    "\n",
    "if False:\n",
    "    with open('original_rhodes_positions.json', \"r\") as f:\n",
    "        data = f.read()\n",
    "    cal_json = json.loads(data)\n",
    "    current_pos = cal_json['antenna_positions'] # get_pos()\n",
    "    current_pos = np.array(current_pos)\n",
    "\n",
    "if False:\n",
    "    current_pos = get_pos()\n",
    "    json_result = {}\n",
    "    json_result[\"antenna_positions\"] = current_pos.tolist()\n",
    "    print(json.dumps(json_result, indent=4, separators=(',', ': ')))\n",
    "\n",
    "current_pos = np.array([[ 0.        ,  0.21036822,  0.        ],\n",
    "       [ 0.        ,  0.40894464,  0.        ],\n",
    "       [ 0.33652171, -0.1942909 ,  0.        ],\n",
    "       [ 0.55195215, -0.31866972,  0.        ],\n",
    "       [-0.18186395, -0.1049992 ,  0.        ],\n",
    "       [-0.65058666, -0.37561638,  0.        ],\n",
    "       [ 0.        ,  1.26747133,  0.        ],\n",
    "       [ 0.        ,  1.44403899,  0.        ],\n",
    "       [ 0.        ,  1.71019648,  0.        ],\n",
    "       [ 0.        ,  1.86051529,  0.        ],\n",
    "       [ 0.        ,  2.20143587,  0.        ],\n",
    "       [ 0.        ,  2.38582938,  0.        ],\n",
    "       [ 0.81594596, -0.47108662,  0.        ],\n",
    "       [ 0.94307482, -0.5444845 ,  0.        ],\n",
    "       [ 1.40247705, -0.8097205 ,  0.        ],\n",
    "       [ 1.66872406, -0.96343829,  0.        ],\n",
    "       [ 1.80943056, -1.04467522,  0.        ],\n",
    "       [ 2.08400692, -1.20320196,  0.        ],\n",
    "       [-0.78741312, -0.45461318,  0.        ],\n",
    "       [-1.08399029, -0.62584208,  0.        ],\n",
    "       [-1.36391741, -0.78745808,  0.        ],\n",
    "       [-1.46598234, -0.8463853 ,  0.        ],\n",
    "       [-1.60875644, -0.92881597,  0.        ],\n",
    "       [-1.80004538, -1.03925669,  0.        ]])"
   ]
  },
  {
   "cell_type": "code",
   "execution_count": 8,
   "metadata": {},
   "outputs": [
    {
     "name": "stdout",
     "output_type": "stream",
     "text": [
      "0.0 210.36822\n",
      "0.0 408.94464000000005\n",
      "336.52171 -194.2909\n",
      "551.95215 -318.66972\n",
      "-181.86395 -104.9992\n",
      "-650.5866599999999 -375.61638000000005\n",
      "0.0 1267.47133\n",
      "0.0 1444.03899\n",
      "0.0 1710.19648\n",
      "0.0 1860.5152899999998\n",
      "0.0 2201.4358700000003\n",
      "0.0 2385.82938\n",
      "815.94596 -471.08662000000004\n",
      "943.0748199999999 -544.4845\n",
      "1402.47705 -809.7204999999999\n",
      "1668.72406 -963.43829\n",
      "1809.43056 -1044.67522\n",
      "2084.0069200000003 -1203.2019599999999\n",
      "-787.4131199999999 -454.61318\n",
      "-1083.99029 -625.84208\n",
      "-1363.91741 -787.45808\n",
      "-1465.98234 -846.3853\n",
      "-1608.75644 -928.81597\n",
      "-1800.04538 -1039.25669\n"
     ]
    },
    {
     "data": {
      "image/png": "[encoded data removed]",
      "text/plain": [
       "<Figure size 864x864 with 1 Axes>"
      ]
     },
     "metadata": {
      "needs_background": "light"
     },
     "output_type": "display_data"
    }
   ],
   "source": [
    "def i_y(i):\n",
    "    return 2*i+1\n",
    "\n",
    "def i_x(i):\n",
    "    return 2*i\n",
    "\n",
    "\n",
    "initial_guess = np.zeros(2*n_ant)\n",
    "\n",
    "for i in range(n_ant):\n",
    "    x,y = current_pos[i][0:2]*1000\n",
    "    initial_guess[i_x(i)] = x\n",
    "    initial_guess[i_y(i)] = y\n",
    "    \n",
    "    print(x,y)\n",
    "initial_guess\n",
    "\n",
    "pos_i = current_pos*1000\n",
    "import matplotlib.pyplot as plt\n",
    "\n",
    "fig, ax = plt.subplots(figsize=(12,12))\n",
    "\n",
    "ax.scatter(pos_i[:,0], pos_i[:,1])\n",
    "for i in range(0,pos_i.shape[0]):\n",
    "    ax.text(pos_i[i,0], pos_i[i,1],f\"{i}\")\n",
    "\n",
    "ax.grid(True)\n",
    "ax.set_title('Initial positions')\n",
    "ax.set_xlabel('x (mm)')\n",
    "ax.set_ylabel('y (mm)')\n",
    "plt.savefig('initial_positions.png')\n",
    "plt.show()"
   ]
  },
  {
   "cell_type": "markdown",
   "metadata": {},
   "source": [
    "## Criteria for Optimality\n",
    "\n",
    "The function below is minimized when the positions (in variable x) are consistent with the measured distances m[i,j]. The initial value of this function is more than 3 million.\n",
    "\n",
    "Note that the x input is a 1D vector of with 48 entries as [p0.x, p0.y, p1.x, p1.y]"
   ]
  },
  {
   "cell_type": "code",
   "execution_count": 9,
   "metadata": {},
   "outputs": [
    {
     "name": "stdout",
     "output_type": "stream",
     "text": [
      "617089.0728069706\n"
     ]
    },
    {
     "data": {
      "text/plain": [
       "      fun: 39930.707928368516\n",
       " hess_inv: <48x48 LbfgsInvHessProduct with dtype=float64>\n",
       "      jac: array([ 4.98353623e+02,  6.54835666e-03,  2.99229579e+02,  4.36557111e-03,\n",
       "        1.45519037e-03,  3.63797592e-03,  0.00000000e+00,  2.91038074e-03,\n",
       "        2.91038074e-03,  5.82076147e-03,  9.45873739e-03, -1.45519037e-03,\n",
       "       -6.85555282e+01, -1.45520691e-03, -1.47621905e+02, -8.00363802e-03,\n",
       "       -2.11448788e+02,  2.47385175e-02, -2.06085680e+02, -1.52796726e-02,\n",
       "       -2.36312191e+02,  0.00000000e+00, -2.63161202e+02, -1.45520691e-03,\n",
       "        0.00000000e+00,  3.63797592e-03, -1.01863326e-02, -2.91038074e-03,\n",
       "        4.36562074e-03, -9.65693432e+01,  8.73124147e-03, -2.09268017e+02,\n",
       "       -1.30968622e-02, -2.62995100e+02, -6.54843111e-03, -3.02616826e+02,\n",
       "       -5.82076147e-03,  7.27595184e-03,  2.91041382e-03, -1.45519037e-03,\n",
       "        0.00000000e+00,  4.80649379e+00, -4.36562074e-03,  6.17808347e+01,\n",
       "       -7.27603456e-04,  6.61522266e+01,  1.45520691e-03,  7.36058208e+01])\n",
       "  message: 'CONVERGENCE: REL_REDUCTION_OF_F_<=_FACTR*EPSMCH'\n",
       "     nfev: 1715\n",
       "      nit: 33\n",
       "     njev: 35\n",
       "   status: 0\n",
       "  success: True\n",
       "        x: array([-2.00000000e+00,  1.81542492e+02, -2.00000000e+00,  3.79887454e+02,\n",
       "        3.29260469e+02, -1.96362654e+02,  5.62135604e+02, -3.06832582e+02,\n",
       "       -1.91904761e+02, -1.35704555e+02, -6.49259492e+02, -4.15771984e+02,\n",
       "        2.00000000e+00,  1.23219502e+03,  2.00000000e+00,  1.40468999e+03,\n",
       "        2.00000000e+00,  1.66797845e+03,  2.00000000e+00,  1.83315833e+03,\n",
       "        2.00000000e+00,  2.16205829e+03,  2.00000000e+00,  2.35795401e+03,\n",
       "        8.33050882e+02, -4.35285143e+02,  9.62683424e+02, -4.98933782e+02,\n",
       "        1.43536206e+03, -7.39720500e+02,  1.69764998e+03, -8.93438290e+02,\n",
       "        1.83739618e+03, -9.74675220e+02,  2.11311515e+03, -1.13320196e+03,\n",
       "       -7.77323365e+02, -5.07938917e+02, -1.07149416e+03, -6.89242717e+02,\n",
       "       -1.34774963e+03, -8.57458080e+02, -1.45766166e+03, -9.16385300e+02,\n",
       "       -1.58973899e+03, -9.98815970e+02, -1.78438897e+03, -1.10925669e+03])"
      ]
     },
     "execution_count": 9,
     "metadata": {},
     "output_type": "execute_result"
    }
   ],
   "source": [
    "def dist(a,b):\n",
    "    return np.sqrt((a[0]-b[0])**2 + (a[1]-b[1])**2)\n",
    "\n",
    "\n",
    "def p(x, i):\n",
    "    return [x[i_x(i)],x[i_y(i)]]\n",
    "\n",
    "max_err = 70\n",
    "def bounds():\n",
    "    ret = [(0,0)]*48\n",
    "    for i in range(24):\n",
    "        _x,_y = pos_i[i,0], pos_i[i,1]\n",
    "        ret[i_x(i)] = (_x - max_err, _x + max_err)\n",
    "        ret[i_y(i)] = (_y - max_err, _y + max_err)\n",
    "    # x-component of the north arm set to zero.\n",
    "    for i in [0,1,6,7,8,9,10,11]:\n",
    "        xval = pos_i[i,0]\n",
    "        ret[i_x(i)] = ( - 2, + 2)\n",
    "    \n",
    "    return ret\n",
    "\n",
    "bnd = bounds()\n",
    "\n",
    "center = [0,0]\n",
    "\n",
    "def radius_model(x):\n",
    "    ret = []\n",
    "    \n",
    "    for i in range(n_ant):\n",
    "        p_i = p(x,i)\n",
    "        ret.append(dist(center, p_i))\n",
    "        \n",
    "    return np.array(ret)\n",
    "\n",
    "non_nan_ij = []\n",
    "for i in range(n_ant):\n",
    "    for j in range(n_ant):\n",
    "        if not np.isnan(m_ij[i,j]):\n",
    "            non_nan_ij.append(m_ij[i,j])\n",
    "non_nan_ij = np.array(non_nan_ij)    \n",
    "\n",
    "def m_ij_model(x):\n",
    "    ret = []\n",
    "    for i in range(n_ant):\n",
    "        p_i = p(x,i)\n",
    "\n",
    "        for j in range(n_ant):\n",
    "            p_j = p(x,j)\n",
    "            if not np.isnan(m_ij[i,j]):\n",
    "                ret.append(dist(p_j, p_i))\n",
    "                \n",
    "    return np.array(ret)\n",
    "    \n",
    "def radius_residual(x):\n",
    "    predict = radius_model(x)\n",
    "    return predict - radius\n",
    "\n",
    "def m_ij_residual(x):\n",
    "    predict = m_ij_model(x)\n",
    "    return predict - non_nan_ij\n",
    "\n",
    "\n",
    "def f(x):\n",
    "    ret = 0\n",
    "    for i in range(n_ant):\n",
    "        p_i = p(x,i)\n",
    "        ret += (dist(center, p_i) - m_0[i])**2\n",
    "        for j in range(n_ant):\n",
    "            p_j = p(x,j)\n",
    "            if not np.isnan(m_ij[i,j]):\n",
    "                ret += (dist(p_j, p_i) - m_ij[i,j])**2\n",
    "    return ret\n",
    "\n",
    "def f(x):\n",
    "    ret = np.sum(radius_residual(x)**2)\n",
    "    ret += np.sum(m_ij_residual(x)**2)\n",
    "    return ret\n",
    "\n",
    "#for i in range(48):\n",
    "#    print(bnd[i])\n",
    "print(f(initial_guess))\n",
    "res = minimize(f, initial_guess, bounds=bnd)\n",
    "res"
   ]
  },
  {
   "cell_type": "code",
   "execution_count": 10,
   "metadata": {},
   "outputs": [
    {
     "name": "stdout",
     "output_type": "stream",
     "text": [
      "Ant 0:\tJac: 498.35, \t000.01\n",
      "Ant 1:\tJac: 299.23, \t000.00\n",
      "Ant 2:\tJac: 000.00, \t000.00\n",
      "Ant 3:\tJac: 000.00, \t000.00\n",
      "Ant 4:\tJac: 000.00, \t000.01\n",
      "Ant 5:\tJac: 000.01, \t-00.00\n",
      "Ant 6:\tJac: -68.56, \t-00.00\n",
      "Ant 7:\tJac: -147.62, \t-00.01\n",
      "Ant 8:\tJac: -211.45, \t000.02\n",
      "Ant 9:\tJac: -206.09, \t-00.02\n",
      "Ant 10:\tJac: -236.31, \t000.00\n",
      "Ant 11:\tJac: -263.16, \t-00.00\n",
      "Ant 12:\tJac: 000.00, \t000.00\n",
      "Ant 13:\tJac: -00.01, \t-00.00\n",
      "Ant 14:\tJac: 000.00, \t-96.57\n",
      "Ant 15:\tJac: 000.01, \t-209.27\n",
      "Ant 16:\tJac: -00.01, \t-263.00\n",
      "Ant 17:\tJac: -00.01, \t-302.62\n",
      "Ant 18:\tJac: -00.01, \t000.01\n",
      "Ant 19:\tJac: 000.00, \t-00.00\n",
      "Ant 20:\tJac: 000.00, \t004.81\n",
      "Ant 21:\tJac: -00.00, \t061.78\n",
      "Ant 22:\tJac: -00.00, \t066.15\n",
      "Ant 23:\tJac: 000.00, \t073.61\n"
     ]
    }
   ],
   "source": [
    "err = res.jac.reshape((24,2))\n",
    "rms = err # np.sqrt(np.sum(err**2, axis=1))\n",
    "for i in range(24):\n",
    "    print(f\"Ant {i}:\\tJac: {rms[i,0]:06.2f}, \\t{rms[i,1]:06.2f}\")"
   ]
  },
  {
   "cell_type": "markdown",
   "metadata": {},
   "source": [
    "The optimized positions are now known. The final value of the function is 32. Far closer to zero than 3 million!\n",
    "\n",
    "We can recover the x,y coordinates by reshaping the array"
   ]
  },
  {
   "cell_type": "code",
   "execution_count": 11,
   "metadata": {},
   "outputs": [
    {
     "data": {
      "text/plain": [
       "array([[-2.00000000e+00,  1.81542492e+02],\n",
       "       [-2.00000000e+00,  3.79887454e+02],\n",
       "       [ 3.29260469e+02, -1.96362654e+02],\n",
       "       [ 5.62135604e+02, -3.06832582e+02],\n",
       "       [-1.91904761e+02, -1.35704555e+02],\n",
       "       [-6.49259492e+02, -4.15771984e+02],\n",
       "       [ 2.00000000e+00,  1.23219502e+03],\n",
       "       [ 2.00000000e+00,  1.40468999e+03],\n",
       "       [ 2.00000000e+00,  1.66797845e+03],\n",
       "       [ 2.00000000e+00,  1.83315833e+03],\n",
       "       [ 2.00000000e+00,  2.16205829e+03],\n",
       "       [ 2.00000000e+00,  2.35795401e+03],\n",
       "       [ 8.33050882e+02, -4.35285143e+02],\n",
       "       [ 9.62683424e+02, -4.98933782e+02],\n",
       "       [ 1.43536206e+03, -7.39720500e+02],\n",
       "       [ 1.69764998e+03, -8.93438290e+02],\n",
       "       [ 1.83739618e+03, -9.74675220e+02],\n",
       "       [ 2.11311515e+03, -1.13320196e+03],\n",
       "       [-7.77323365e+02, -5.07938917e+02],\n",
       "       [-1.07149416e+03, -6.89242717e+02],\n",
       "       [-1.34774963e+03, -8.57458080e+02],\n",
       "       [-1.45766166e+03, -9.16385300e+02],\n",
       "       [-1.58973899e+03, -9.98815970e+02],\n",
       "       [-1.78438897e+03, -1.10925669e+03]])"
      ]
     },
     "execution_count": 11,
     "metadata": {},
     "output_type": "execute_result"
    }
   ],
   "source": [
    "pos = res.x.reshape((24,2))\n",
    "pos"
   ]
  },
  {
   "cell_type": "code",
   "execution_count": 12,
   "metadata": {},
   "outputs": [
    {
     "data": {
      "image/png": "[encoded data removed]",
      "text/plain": [
       "<Figure size 864x864 with 1 Axes>"
      ]
     },
     "metadata": {
      "needs_background": "light"
     },
     "output_type": "display_data"
    }
   ],
   "source": [
    "fig, ax = plt.subplots(figsize=(12,12))\n",
    "\n",
    "ax.scatter(pos_i[:,0], pos_i[:,1], label='initial')\n",
    "ax.scatter(pos[:,0], pos[:,1], label='final')\n",
    "\n",
    "ax.grid(True)\n",
    "ax.set_title('Final Solution')\n",
    "ax.set_xlabel('x (mm)')\n",
    "ax.set_ylabel('y (mm)')\n",
    "ax.legend()\n",
    "plt.savefig('final_positions.png')\n",
    "plt.show()"
   ]
  },
  {
   "cell_type": "code",
   "execution_count": 13,
   "metadata": {},
   "outputs": [
    {
     "data": {
      "image/png": "[encoded data removed]",
      "text/plain": [
       "<Figure size 864x864 with 1 Axes>"
      ]
     },
     "metadata": {
      "needs_background": "light"
     },
     "output_type": "display_data"
    }
   ],
   "source": [
    "# Differences plot\n",
    "diff = pos - pos_i[:,0:2]\n",
    "\n",
    "\n",
    "fig, ax = plt.subplots(figsize=(12,12))\n",
    "\n",
    "ax.scatter(diff[:,0], diff[:,1], color='red')\n",
    "\n",
    "for i in range(0,diff.shape[0]):\n",
    "    ax.text(diff[i,0], diff[i,1],f\"{i}\")\n",
    "\n",
    "ax.grid(True)\n",
    "ax.set_title(\"Differences from initial position\")\n",
    "ax.set_xlabel('x (mm)')\n",
    "ax.set_xlabel('y (mm)')\n",
    "plt.savefig('differences.png')\n",
    "plt.show()"
   ]
  },
  {
   "cell_type": "code",
   "execution_count": 14,
   "metadata": {},
   "outputs": [
    {
     "data": {
      "text/plain": [
       "A 0    -28.446492\n",
       "A 1    -30.107281\n",
       "A 2     -0.632359\n",
       "A 3      2.423821\n",
       "A 4     23.038643\n",
       "A 5     17.976155\n",
       "A 6    -28.803353\n",
       "A 7    -31.308588\n",
       "A 8    -39.020349\n",
       "A 9    -30.840583\n",
       "A 10   -36.940785\n",
       "A 11   -28.045146\n",
       "A 12     2.918575\n",
       "A 13     0.294376\n",
       "A 14    -6.239753\n",
       "A 15    -5.602902\n",
       "A 16   -11.092186\n",
       "A 17   -10.208867\n",
       "A 18    14.565322\n",
       "A 19    20.031109\n",
       "A 20    22.392694\n",
       "A 21    25.783825\n",
       "A 22    21.472612\n",
       "A 23    25.069824\n",
       "Name: 0, dtype: float64"
      ]
     },
     "execution_count": 14,
     "metadata": {},
     "output_type": "execute_result"
    }
   ],
   "source": [
    "# Residual plot\n",
    "rres = radius_residual(res.x)\n",
    "rres"
   ]
  },
  {
   "cell_type": "code",
   "execution_count": 15,
   "metadata": {},
   "outputs": [
    {
     "data": {
      "image/png": "[encoded data removed]",
      "text/plain": [
       "<Figure size 432x288 with 1 Axes>"
      ]
     },
     "metadata": {
      "needs_background": "light"
     },
     "output_type": "display_data"
    }
   ],
   "source": [
    "# ij resdual\n",
    "ijres = m_ij_residual(res.x)\n",
    "plt.hist(ijres, bins='fd');\n",
    "plt.title(\"Histogram of residuals\")\n",
    "plt.xlabel(\"Residual (mm)\")\n",
    "plt.grid(True)\n",
    "plt.savefig(\"residual_histogram.png\")"
   ]
  },
  {
   "cell_type": "markdown",
   "metadata": {},
   "source": [
    "The API expects 3D coordinates (with a z value which is zero in this case). Therefore we add a column of zeros."
   ]
  },
  {
   "cell_type": "code",
   "execution_count": 16,
   "metadata": {},
   "outputs": [
    {
     "data": {
      "text/plain": [
       "array([[-2.000e-03,  1.820e-01,  0.000e+00],\n",
       "       [-2.000e-03,  3.800e-01,  0.000e+00],\n",
       "       [ 3.290e-01, -1.960e-01,  0.000e+00],\n",
       "       [ 5.620e-01, -3.070e-01,  0.000e+00],\n",
       "       [-1.920e-01, -1.360e-01,  0.000e+00],\n",
       "       [-6.490e-01, -4.160e-01,  0.000e+00],\n",
       "       [ 2.000e-03,  1.232e+00,  0.000e+00],\n",
       "       [ 2.000e-03,  1.405e+00,  0.000e+00],\n",
       "       [ 2.000e-03,  1.668e+00,  0.000e+00],\n",
       "       [ 2.000e-03,  1.833e+00,  0.000e+00],\n",
       "       [ 2.000e-03,  2.162e+00,  0.000e+00],\n",
       "       [ 2.000e-03,  2.358e+00,  0.000e+00],\n",
       "       [ 8.330e-01, -4.350e-01,  0.000e+00],\n",
       "       [ 9.630e-01, -4.990e-01,  0.000e+00],\n",
       "       [ 1.435e+00, -7.400e-01,  0.000e+00],\n",
       "       [ 1.698e+00, -8.930e-01,  0.000e+00],\n",
       "       [ 1.837e+00, -9.750e-01,  0.000e+00],\n",
       "       [ 2.113e+00, -1.133e+00,  0.000e+00],\n",
       "       [-7.770e-01, -5.080e-01,  0.000e+00],\n",
       "       [-1.071e+00, -6.890e-01,  0.000e+00],\n",
       "       [-1.348e+00, -8.570e-01,  0.000e+00],\n",
       "       [-1.458e+00, -9.160e-01,  0.000e+00],\n",
       "       [-1.590e+00, -9.990e-01,  0.000e+00],\n",
       "       [-1.784e+00, -1.109e+00,  0.000e+00]])"
      ]
     },
     "execution_count": 16,
     "metadata": {},
     "output_type": "execute_result"
    }
   ],
   "source": [
    "result = np.zeros((n_ant, 3))\n",
    "result[:,:-1] = np.round(pos/1000.0, 3)\n",
    "result"
   ]
  },
  {
   "cell_type": "code",
   "execution_count": 17,
   "metadata": {},
   "outputs": [
    {
     "name": "stdout",
     "output_type": "stream",
     "text": [
      "{\n",
      "    \"antenna_positions\": [\n",
      "        [\n",
      "            -0.002,\n",
      "            0.182,\n",
      "            0.0\n",
      "        ],\n",
      "        [\n",
      "            -0.002,\n",
      "            0.38,\n",
      "            0.0\n",
      "        ],\n",
      "        [\n",
      "            0.329,\n",
      "            -0.196,\n",
      "            0.0\n",
      "        ],\n",
      "        [\n",
      "            0.562,\n",
      "            -0.307,\n",
      "            0.0\n",
      "        ],\n",
      "        [\n",
      "            -0.192,\n",
      "            -0.136,\n",
      "            0.0\n",
      "        ],\n",
      "        [\n",
      "            -0.649,\n",
      "            -0.416,\n",
      "            0.0\n",
      "        ],\n",
      "        [\n",
      "            0.002,\n",
      "            1.232,\n",
      "            0.0\n",
      "        ],\n",
      "        [\n",
      "            0.002,\n",
      "            1.405,\n",
      "            0.0\n",
      "        ],\n",
      "        [\n",
      "            0.002,\n",
      "            1.668,\n",
      "            0.0\n",
      "        ],\n",
      "        [\n",
      "            0.002,\n",
      "            1.833,\n",
      "            0.0\n",
      "        ],\n",
      "        [\n",
      "            0.002,\n",
      "            2.162,\n",
      "            0.0\n",
      "        ],\n",
      "        [\n",
      "            0.002,\n",
      "            2.358,\n",
      "            0.0\n",
      "        ],\n",
      "        [\n",
      "            0.833,\n",
      "            -0.435,\n",
      "            0.0\n",
      "        ],\n",
      "        [\n",
      "            0.963,\n",
      "            -0.499,\n",
      "            0.0\n",
      "        ],\n",
      "        [\n",
      "            1.435,\n",
      "            -0.74,\n",
      "            0.0\n",
      "        ],\n",
      "        [\n",
      "            1.698,\n",
      "            -0.893,\n",
      "            0.0\n",
      "        ],\n",
      "        [\n",
      "            1.837,\n",
      "            -0.975,\n",
      "            0.0\n",
      "        ],\n",
      "        [\n",
      "            2.113,\n",
      "            -1.133,\n",
      "            0.0\n",
      "        ],\n",
      "        [\n",
      "            -0.777,\n",
      "            -0.508,\n",
      "            0.0\n",
      "        ],\n",
      "        [\n",
      "            -1.071,\n",
      "            -0.689,\n",
      "            0.0\n",
      "        ],\n",
      "        [\n",
      "            -1.348,\n",
      "            -0.857,\n",
      "            0.0\n",
      "        ],\n",
      "        [\n",
      "            -1.458,\n",
      "            -0.916,\n",
      "            0.0\n",
      "        ],\n",
      "        [\n",
      "            -1.59,\n",
      "            -0.999,\n",
      "            0.0\n",
      "        ],\n",
      "        [\n",
      "            -1.784,\n",
      "            -1.109,\n",
      "            0.0\n",
      "        ]\n",
      "    ]\n",
      "}\n"
     ]
    }
   ],
   "source": [
    "json_result = {}\n",
    "json_result[\"antenna_positions\"] = result.tolist()\n",
    "print(json.dumps(json_result, indent=4, separators=(',', ': ')))"
   ]
  },
  {
   "cell_type": "markdown",
   "metadata": {
    "collapsed": true
   },
   "source": [
    "The position file above is in a format suitable for uploading to the telescope api. Also for using as the calibrated_antenna_positions.json file in TART/software/containers/telescope_web_api/config_data.\n",
    "\n",
    "\n",
    "    tart_upload_antenna_positions --api https://tart.elec.ac.nz/rhodes --pw=xxxx --file rhodes_antenna_positions.json\n"
   ]
  },
  {
   "cell_type": "code",
   "execution_count": null,
   "metadata": {},
   "outputs": [],
   "source": []
  }
 ],
 "metadata": {
  "kernelspec": {
   "display_name": "Python 3 (ipykernel)",
   "language": "python",
   "name": "python3"
  },
  "language_info": {
   "codemirror_mode": {
    "name": "ipython",
    "version": 3
   },
   "file_extension": ".py",
   "mimetype": "text/x-python",
   "name": "python",
   "nbconvert_exporter": "python",
   "pygments_lexer": "ipython3",
   "version": "3.10.5"
  }
 },
 "nbformat": 4,
 "nbformat_minor": 2
}
