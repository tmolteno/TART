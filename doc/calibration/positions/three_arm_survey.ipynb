{
 "cells": [
  {
   "cell_type": "markdown",
   "metadata": {},
   "source": [
    "# Antenna Position Measurement\n",
    "\n",
    "Author: Tim Molteno. tim@elec.ac.nz.\n",
    "\n",
    "The antennas are laid out on three arms which are placed approximately 120 degrees apart.  This notebook will use measurements to infer the actual layout of the antennas.\n",
    "\n",
    "Arm 1 will point geographically north (NOT magnetic). This arm forms the y-axis and will be used as a reference.\n",
    "\n",
    "The other reference point is the center of the array. This is assumed to be the point [0,0]. Make sure that a marker is present at this reference point at the same height as the level of the antennas (otherwise the distances will be wrong)."
   ]
  },
  {
   "cell_type": "code",
   "execution_count": 1,
   "metadata": {},
   "outputs": [],
   "source": [
    "import numpy as np\n",
    "from scipy.optimize import minimize "
   ]
  },
  {
   "cell_type": "code",
   "execution_count": 2,
   "metadata": {},
   "outputs": [],
   "source": [
    "x0 = [0,0]"
   ]
  },
  {
   "cell_type": "code",
   "execution_count": 9,
   "metadata": {},
   "outputs": [
    {
     "data": {
      "text/html": [
       "<div>\n",
       "<style scoped>\n",
       "    .dataframe tbody tr th:only-of-type {\n",
       "        vertical-align: middle;\n",
       "    }\n",
       "\n",
       "    .dataframe tbody tr th {\n",
       "        vertical-align: top;\n",
       "    }\n",
       "\n",
       "    .dataframe thead th {\n",
       "        text-align: right;\n",
       "    }\n",
       "</style>\n",
       "<table border=\"1\" class=\"dataframe\">\n",
       "  <thead>\n",
       "    <tr style=\"text-align: right;\">\n",
       "      <th></th>\n",
       "      <th>A 0</th>\n",
       "      <th>A 1</th>\n",
       "      <th>A 2</th>\n",
       "      <th>A 3</th>\n",
       "      <th>A 4</th>\n",
       "      <th>A 5</th>\n",
       "      <th>A 6</th>\n",
       "      <th>A 7</th>\n",
       "      <th>A 8</th>\n",
       "      <th>A 9</th>\n",
       "      <th>...</th>\n",
       "      <th>A 14</th>\n",
       "      <th>A 15</th>\n",
       "      <th>A 16</th>\n",
       "      <th>A 17</th>\n",
       "      <th>A 18</th>\n",
       "      <th>A 19</th>\n",
       "      <th>A 20</th>\n",
       "      <th>A 21</th>\n",
       "      <th>A 22</th>\n",
       "      <th>A 23</th>\n",
       "    </tr>\n",
       "  </thead>\n",
       "  <tbody>\n",
       "    <tr>\n",
       "      <th>0</th>\n",
       "      <td>210.0</td>\n",
       "      <td>410.0</td>\n",
       "      <td>384.0</td>\n",
       "      <td>638.0</td>\n",
       "      <td>212.0</td>\n",
       "      <td>753.0</td>\n",
       "      <td>1261.0</td>\n",
       "      <td>1436.0</td>\n",
       "      <td>1707.0</td>\n",
       "      <td>1864.0</td>\n",
       "      <td>...</td>\n",
       "      <td>1621.0</td>\n",
       "      <td>1924.0</td>\n",
       "      <td>2091.0</td>\n",
       "      <td>2408.0</td>\n",
       "      <td>914.0</td>\n",
       "      <td>1254.0</td>\n",
       "      <td>1575.0</td>\n",
       "      <td>1696.0</td>\n",
       "      <td>1856.0</td>\n",
       "      <td>2076.0</td>\n",
       "    </tr>\n",
       "    <tr>\n",
       "      <th>1</th>\n",
       "      <td>0.0</td>\n",
       "      <td>198.0</td>\n",
       "      <td>509.0</td>\n",
       "      <td>756.0</td>\n",
       "      <td>365.0</td>\n",
       "      <td>872.0</td>\n",
       "      <td>1054.0</td>\n",
       "      <td>1226.0</td>\n",
       "      <td>1489.0</td>\n",
       "      <td>1657.0</td>\n",
       "      <td>...</td>\n",
       "      <td>1718.0</td>\n",
       "      <td>2026.0</td>\n",
       "      <td>2187.0</td>\n",
       "      <td>2506.0</td>\n",
       "      <td>1027.0</td>\n",
       "      <td>1372.0</td>\n",
       "      <td>1691.0</td>\n",
       "      <td>1814.0</td>\n",
       "      <td>1969.0</td>\n",
       "      <td>2192.0</td>\n",
       "    </tr>\n",
       "  </tbody>\n",
       "</table>\n",
       "<p>2 rows × 24 columns</p>\n",
       "</div>"
      ],
      "text/plain": [
       "     A 0    A 1    A 2    A 3    A 4    A 5     A 6     A 7     A 8     A 9  \\\n",
       "0  210.0  410.0  384.0  638.0  212.0  753.0  1261.0  1436.0  1707.0  1864.0   \n",
       "1    0.0  198.0  509.0  756.0  365.0  872.0  1054.0  1226.0  1489.0  1657.0   \n",
       "\n",
       "   ...    A 14    A 15    A 16    A 17    A 18    A 19    A 20    A 21  \\\n",
       "0  ...  1621.0  1924.0  2091.0  2408.0   914.0  1254.0  1575.0  1696.0   \n",
       "1  ...  1718.0  2026.0  2187.0  2506.0  1027.0  1372.0  1691.0  1814.0   \n",
       "\n",
       "     A 22    A 23  \n",
       "0  1856.0  2076.0  \n",
       "1  1969.0  2192.0  \n",
       "\n",
       "[2 rows x 24 columns]"
      ]
     },
     "execution_count": 9,
     "metadata": {},
     "output_type": "execute_result"
    }
   ],
   "source": [
    "# pip install pandas\n",
    "# pip install odfpy\n",
    "\n",
    "import pandas as pd\n",
    "\n",
    "#pd.read_excel('three_arm_measurements.ods', engine='odf')\n",
    "cols = [f\"A {i}\" for i in range(24)]\n",
    "data = pd.read_excel('tart_rhodes_measurements.ods', \"Sheet1\", usecols=cols)\n",
    "radius = data.loc[0]\n",
    "radius"
   ]
  },
  {
   "cell_type": "code",
   "execution_count": null,
   "metadata": {},
   "outputs": [],
   "source": []
  },
  {
   "cell_type": "raw",
   "metadata": {},
   "source": [
    "## Finding the antennas\n",
    "\n",
    "This is done by measuring the distance from each antenna to x0 as well as each other antenna. The distance $m_0$ are the measurements to $x_0$. The array m_ij are the distances between antennas."
   ]
  },
  {
   "cell_type": "code",
   "execution_count": 30,
   "metadata": {},
   "outputs": [],
   "source": [
    "n_ant = 24\n",
    "m_0 = np.zeros(24)\n",
    "m_ij = np.zeros((24,24))\n",
    "\n",
    "radius = data.loc[0]\n",
    "\n",
    "for i in range(24):\n",
    "    m_ij[i,:] = data.loc[i+1]"
   ]
  },
  {
   "cell_type": "markdown",
   "metadata": {},
   "source": [
    "The following are the measured distances from [x1, x0, x2] from the reference points in millimeters. Note that their order must be the same as the order of the variable called 'reference_points'. In this case, they are x1,x0,x2."
   ]
  },
  {
   "cell_type": "code",
   "execution_count": 13,
   "metadata": {},
   "outputs": [
    {
     "data": {
      "text/plain": [
       "array([[   0.,  198.,  509.,  756.,  365.,  872., 1054., 1226., 1489.,\n",
       "        1657., 1988., 2183., 1048., 1189., 1718., 2026., 2187., 2506.,\n",
       "        1027., 1372., 1691., 1814., 1969., 2192.],\n",
       "       [  nan,    0.,   nan,   nan,   nan,   nan,   nan,   nan,   nan,\n",
       "          nan,   nan,   nan,   nan,   nan,   nan,   nan,   nan,   nan,\n",
       "          nan,   nan,   nan,   nan,   nan,   nan],\n",
       "       [  nan,   nan,    0.,   nan,   nan,   nan,   nan,   nan,   nan,\n",
       "          nan,   nan,   nan,   nan,   nan,   nan,   nan,   nan,   nan,\n",
       "          nan,   nan,   nan,   nan,   nan,   nan],\n",
       "       [  nan,   nan,   nan,    0.,   nan,   nan,   nan,   nan,   nan,\n",
       "          nan,   nan,   nan,   nan,   nan,   nan,   nan,   nan,   nan,\n",
       "          nan,   nan,   nan,   nan,   nan,   nan],\n",
       "       [  nan,   nan,   nan,   nan,    0.,   nan,   nan,   nan,   nan,\n",
       "          nan,   nan,   nan,   nan,   nan,   nan,   nan,   nan,   nan,\n",
       "          nan,   nan,   nan,   nan,   nan,   nan],\n",
       "       [  nan,   nan,   nan,   nan,   nan,    0.,   nan,   nan,   nan,\n",
       "          nan,   nan,   nan,   nan,   nan,   nan,   nan,   nan,   nan,\n",
       "          nan,   nan,   nan,   nan,   nan,   nan],\n",
       "       [  nan,   nan,   nan,   nan,   nan,   nan,    0.,   nan,   nan,\n",
       "          nan,   nan,   nan,   nan,   nan,   nan,   nan,   nan,   nan,\n",
       "          nan,   nan,   nan,   nan,   nan,   nan],\n",
       "       [  nan,   nan,   nan,   nan,   nan,   nan,   nan,    0.,   nan,\n",
       "          nan,   nan,   nan,   nan,   nan,   nan,   nan,   nan,   nan,\n",
       "          nan,   nan,   nan,   nan,   nan,   nan],\n",
       "       [  nan,   nan,   nan,   nan,   nan,   nan,   nan,   nan,    0.,\n",
       "          nan,   nan,   nan,   nan,   nan,   nan,   nan,   nan,   nan,\n",
       "          nan,   nan,   nan,   nan,   nan,   nan],\n",
       "       [  nan,   nan,   nan,   nan,   nan,   nan,   nan,   nan,   nan,\n",
       "           0.,   nan,   nan,   nan,   nan,   nan,   nan,   nan,   nan,\n",
       "          nan,   nan,   nan,   nan,   nan,   nan],\n",
       "       [  nan,   nan,   nan,   nan,   nan,   nan,   nan,   nan,   nan,\n",
       "          nan,    0.,   nan,   nan,   nan,   nan,   nan,   nan,   nan,\n",
       "          nan,   nan,   nan,   nan,   nan,   nan],\n",
       "       [  nan,   nan,   nan,   nan,   nan,   nan,   nan,   nan,   nan,\n",
       "          nan,   nan,    0.,   nan,   nan,   nan,   nan,   nan,   nan,\n",
       "          nan,   nan,   nan,   nan,   nan,   nan],\n",
       "       [  nan,   nan,   nan,   nan,   nan,   nan,   nan,   nan,   nan,\n",
       "          nan,   nan,   nan,    0.,   nan,   nan,   nan,   nan,   nan,\n",
       "          nan,   nan,   nan,   nan,   nan,   nan],\n",
       "       [  nan,   nan,   nan,   nan,   nan,   nan,   nan,   nan,   nan,\n",
       "          nan,   nan,   nan,   nan,    0.,   nan,   nan,   nan,   nan,\n",
       "          nan,   nan,   nan,   nan,   nan,   nan],\n",
       "       [  nan,   nan,   nan,   nan,   nan,   nan,   nan,   nan,   nan,\n",
       "          nan,   nan,   nan,   nan,   nan,    0.,   nan,   nan,   nan,\n",
       "          nan,   nan,   nan,   nan,   nan,   nan],\n",
       "       [  nan,   nan,   nan,   nan,   nan,   nan,   nan,   nan,   nan,\n",
       "          nan,   nan,   nan,   nan,   nan,   nan,    0.,   nan,   nan,\n",
       "          nan,   nan,   nan,   nan,   nan,   nan],\n",
       "       [  nan,   nan,   nan,   nan,   nan,   nan,   nan,   nan,   nan,\n",
       "          nan,   nan,   nan,   nan,   nan,   nan,   nan,    0.,   nan,\n",
       "          nan,   nan,   nan,   nan,   nan,   nan],\n",
       "       [  nan,   nan,   nan,   nan,   nan,   nan,   nan,   nan,   nan,\n",
       "          nan,   nan,   nan,   nan,   nan,   nan,   nan,   nan,    0.,\n",
       "          nan,   nan,   nan,   nan,   nan,   nan],\n",
       "       [  nan,   nan,   nan,   nan,   nan,   nan,   nan,   nan,   nan,\n",
       "          nan,   nan,   nan,   nan,   nan,   nan,   nan,   nan,   nan,\n",
       "           0.,   nan,   nan,   nan,   nan,   nan],\n",
       "       [  nan,   nan,   nan,   nan,   nan,   nan,   nan,   nan,   nan,\n",
       "          nan,   nan,   nan,   nan,   nan,   nan,   nan,   nan,   nan,\n",
       "          nan,    0.,   nan,   nan,   nan,   nan],\n",
       "       [  nan,   nan,   nan,   nan,   nan,   nan,   nan,   nan,   nan,\n",
       "          nan,   nan,   nan,   nan,   nan,   nan,   nan,   nan,   nan,\n",
       "          nan,   nan,    0.,   nan,   nan,   nan],\n",
       "       [  nan,   nan,   nan,   nan,   nan,   nan,   nan,   nan,   nan,\n",
       "          nan,   nan,   nan,   nan,   nan,   nan,   nan,   nan,   nan,\n",
       "          nan,   nan,   nan,    0.,   nan,   nan],\n",
       "       [  nan,   nan,   nan,   nan,   nan,   nan,   nan,   nan,   nan,\n",
       "          nan,   nan,   nan,   nan,   nan,   nan,   nan,   nan,   nan,\n",
       "          nan,   nan,   nan,   nan,    0.,   nan],\n",
       "       [  nan,   nan,   nan,   nan,   nan,   nan,   nan,   nan,   nan,\n",
       "          nan,   nan,   nan,   nan,   nan,   nan,   nan,   nan,   nan,\n",
       "          nan,   nan,   nan,   nan,   nan,    0.]])"
      ]
     },
     "execution_count": 13,
     "metadata": {},
     "output_type": "execute_result"
    }
   ],
   "source": [
    "m_ij"
   ]
  },
  {
   "cell_type": "code",
   "execution_count": 31,
   "metadata": {},
   "outputs": [
    {
     "data": {
      "text/plain": [
       "A 0      210.0\n",
       "A 1      410.0\n",
       "A 2      384.0\n",
       "A 3      638.0\n",
       "A 4      212.0\n",
       "A 5      753.0\n",
       "A 6     1261.0\n",
       "A 7     1436.0\n",
       "A 8     1707.0\n",
       "A 9     1864.0\n",
       "A 10    2199.0\n",
       "A 11    2386.0\n",
       "A 12     937.0\n",
       "A 13    1084.0\n",
       "A 14    1621.0\n",
       "A 15    1924.0\n",
       "A 16    2091.0\n",
       "A 17    2408.0\n",
       "A 18     914.0\n",
       "A 19    1254.0\n",
       "A 20    1575.0\n",
       "A 21    1696.0\n",
       "A 22    1856.0\n",
       "A 23    2076.0\n",
       "Name: 0, dtype: float64"
      ]
     },
     "execution_count": 31,
     "metadata": {},
     "output_type": "execute_result"
    }
   ],
   "source": [
    "radius"
   ]
  },
  {
   "cell_type": "markdown",
   "metadata": {},
   "source": [
    "## Plot the Initial Guess Points\n",
    "\n",
    "Initial Guesses are from JSON queried from the telescope API. These are converted to millimeters."
   ]
  },
  {
   "cell_type": "code",
   "execution_count": 15,
   "metadata": {
    "scrolled": true
   },
   "outputs": [
    {
     "data": {
      "text/plain": [
       "array([[-0.03053484,  0.20814037,  0.        ],\n",
       "       [-0.0593581 ,  0.40461381,  0.        ],\n",
       "       [ 0.36115908, -0.14338736,  0.        ],\n",
       "       [ 0.59236158, -0.23517936,  0.        ],\n",
       "       [-0.16469739, -0.13028469,  0.        ],\n",
       "       [-0.58917625, -0.46607082,  0.        ],\n",
       "       [-0.18397281,  1.25404847,  0.        ],\n",
       "       [-0.20960151,  1.42874624,  0.        ],\n",
       "       [-0.24823413,  1.69208505,  0.        ],\n",
       "       [-0.27005283,  1.84081194,  0.        ],\n",
       "       [-0.31953728,  2.17812208,  0.        ],\n",
       "       [-0.3463019 ,  2.36056282,  0.        ],\n",
       "       [ 0.87568285, -0.34766355,  0.        ],\n",
       "       [ 1.01211905, -0.40183145,  0.        ],\n",
       "       [ 1.50515496, -0.59757653,  0.        ],\n",
       "       [ 1.7908944 , -0.71102079,  0.        ],\n",
       "       [ 1.94190228, -0.77097393,  0.        ],\n",
       "       [ 2.23658088, -0.88796721,  0.        ],\n",
       "       [-0.71308734, -0.56409131,  0.        ],\n",
       "       [-0.98166989, -0.77655488,  0.        ],\n",
       "       [-1.23517403, -0.9770906 ,  0.        ],\n",
       "       [-1.32760482, -1.05020844,  0.        ],\n",
       "       [-1.45690213, -1.15248972,  0.        ],\n",
       "       [-1.63013486, -1.28952634,  0.        ]])"
      ]
     },
     "execution_count": 15,
     "metadata": {},
     "output_type": "execute_result"
    }
   ],
   "source": [
    "import requests\n",
    "import json\n",
    "\n",
    "def get_data(path):\n",
    "    server = \"https://tart.elec.ac.nz/rhodes\"\n",
    "\n",
    "    r = requests.get('{}/{}'.format(server, path))\n",
    "    return json.loads(r.text)\n",
    "\n",
    "def get_pos():\n",
    "    return np.array(get_data('api/v1/imaging/antenna_positions'))\n",
    "\n",
    "current_pos = get_pos()\n",
    "current_pos\n"
   ]
  },
  {
   "cell_type": "code",
   "execution_count": 16,
   "metadata": {},
   "outputs": [
    {
     "data": {
      "image/png": "[encoded data removed]",
      "text/plain": [
       "<Figure size 432x288 with 1 Axes>"
      ]
     },
     "metadata": {
      "needs_background": "light"
     },
     "output_type": "display_data"
    }
   ],
   "source": [
    "initial_guess = np.zeros(2*n_ant)\n",
    "\n",
    "for i in range(n_ant):\n",
    "    initial_guess[2*i:2*i+2] = current_pos[i][0:2]*1000\n",
    "    #print(current_pos[i][0:2]*1000)\n",
    "initial_guess\n",
    "\n",
    "pos_i = current_pos*1000\n",
    "import matplotlib.pyplot as plt\n",
    "plt.scatter(pos_i[:,0], pos_i[:,1])\n",
    "plt.xlim(-2500,2500)\n",
    "plt.ylim(-2500,2500)\n",
    "plt.show()"
   ]
  },
  {
   "cell_type": "markdown",
   "metadata": {},
   "source": [
    "## Criteria for Optimality\n",
    "\n",
    "The function below is minimized when the positions (in variable x) are consistent with the measured distances m[i,j]. The initial value of this function is more than 3 million.\n",
    "\n",
    "Note that the x input is a 1D vector of with 48 entries as [p0.x, p0.y, p1.x, p1.y]"
   ]
  },
  {
   "cell_type": "code",
   "execution_count": 26,
   "metadata": {},
   "outputs": [
    {
     "name": "stdout",
     "output_type": "stream",
     "text": [
      "2469.0878530600353\n"
     ]
    },
    {
     "data": {
      "text/plain": [
       "      fun: 21.33333644036783\n",
       " hess_inv: array([[   1.61709218,    0.54343329,   -2.77496517, ...,   14.48573461,\n",
       "          -9.87709846,   14.96446196],\n",
       "       [   0.54343329,    0.30949621,   -2.34476467, ...,    5.9408704 ,\n",
       "          -4.1169557 ,    6.19656003],\n",
       "       [  -2.77496517,   -2.34476467,  276.18666423, ...,  -38.04027257,\n",
       "          26.84134768,  -39.90885698],\n",
       "       ...,\n",
       "       [  14.48573461,    5.9408704 ,  -38.04027257, ...,  205.1712244 ,\n",
       "         -93.06990415,  141.07731181],\n",
       "       [  -9.87709846,   -4.1169557 ,   26.84134768, ...,  -93.06990415,\n",
       "         108.12495618, -156.47865049],\n",
       "       [  14.96446196,    6.19656003,  -39.90885698, ...,  141.07731181,\n",
       "        -156.47865049,  227.79908463]])\n",
       "      jac: array([-3.91006470e-05, -1.36375427e-04, -1.14440918e-05,  1.18732452e-04,\n",
       "       -4.52995300e-06,  4.05311584e-06, -3.50475311e-05,  2.19345093e-05,\n",
       "       -5.00679016e-06,  1.66893005e-06,  1.54972076e-05,  1.14440918e-05,\n",
       "        1.93119049e-05, -4.14848328e-05,  2.45571136e-05, -1.14440918e-04,\n",
       "       -9.53674316e-07,  1.03950500e-04, -2.38418579e-07,  2.62260437e-05,\n",
       "       -1.74045563e-05,  1.11579895e-04, -1.23977661e-05,  3.05175781e-05,\n",
       "        4.76837158e-06, -3.81469727e-06, -3.95774841e-05,  1.64508820e-05,\n",
       "        3.57627869e-06, -1.66893005e-06,  6.19888306e-06, -1.43051147e-06,\n",
       "        1.19209290e-06, -3.33786011e-06,  1.35898590e-05, -1.14440918e-05,\n",
       "       -1.07288361e-05, -2.62260437e-06, -5.14984131e-05, -4.62532043e-05,\n",
       "        3.83853912e-05,  3.86238098e-05,  5.31673431e-05,  4.64916229e-05,\n",
       "        4.69684601e-05,  3.76701355e-05,  6.05583191e-05,  4.86373901e-05])\n",
       "  message: 'Desired error not necessarily achieved due to precision loss.'\n",
       "     nfev: 15300\n",
       "      nit: 263\n",
       "     njev: 312\n",
       "   status: 2\n",
       "  success: False\n",
       "        x: array([  -10.9172467 ,   212.38606852,   -43.51403296,   407.68441913,\n",
       "         358.38770429,  -137.89217893,   586.71633972,  -250.61509525,\n",
       "        -180.83116255,  -110.65302882,  -648.83843622,  -382.12259267,\n",
       "        -327.23935719,  1217.799481  ,  -282.09104183,  1408.02008497,\n",
       "         -87.60713412,  1702.08013552,  -495.83677663,  1796.84233484,\n",
       "        -372.95685091,  2167.14207183,  -796.69340807,  2249.06104048,\n",
       "         861.73432396,  -367.94422264,  1006.03119407,  -403.67956636,\n",
       "        1514.38482869,  -578.1691707 ,  1771.38482843,  -750.9805747 ,\n",
       "        1947.89957028,  -760.24219951,  2228.32595414,  -912.70329433,\n",
       "        -795.12163046,  -450.75227905, -1055.37835564,  -677.26841767,\n",
       "       -1323.71073359,  -853.47230749, -1410.92790166,  -941.11555699,\n",
       "       -1568.83371887,  -991.71406285, -1729.71866994, -1147.97619249])"
      ]
     },
     "execution_count": 26,
     "metadata": {},
     "output_type": "execute_result"
    }
   ],
   "source": [
    "def dist(a,b):\n",
    "    return np.sqrt((a[0]-b[0])**2 + (a[1]-b[1])**2)\n",
    "\n",
    "def p(x, i):\n",
    "    return [x[2*i],x[2*i+1]]\n",
    "\n",
    "center = [0,0]\n",
    "def f(x):\n",
    "    ret = 0\n",
    "    for i in range(n_ant):\n",
    "        p_i = p(x,i)\n",
    "        ret += (dist(center, p_i) - m_0[i])**2\n",
    "        for j in range(n_ant):\n",
    "            p_j = p(x,j)\n",
    "            if not np.isnan(m_ij[i,j]):\n",
    "                ret += (dist(p_j, p_i) - m_ij[i,j])**2\n",
    "    return ret\n",
    "\n",
    "print(f(initial_guess))\n",
    "res = minimize(f, initial_guess)\n",
    "res"
   ]
  },
  {
   "cell_type": "markdown",
   "metadata": {},
   "source": [
    "The optimized positions are now known. The final value of the function is 32. Far closer to zero than 3 million!\n",
    "\n",
    "We can recover the x,y coordinates by reshaping the array"
   ]
  },
  {
   "cell_type": "code",
   "execution_count": 27,
   "metadata": {},
   "outputs": [
    {
     "data": {
      "text/plain": [
       "array([[  -10.9172467 ,   212.38606852],\n",
       "       [  -43.51403296,   407.68441913],\n",
       "       [  358.38770429,  -137.89217893],\n",
       "       [  586.71633972,  -250.61509525],\n",
       "       [ -180.83116255,  -110.65302882],\n",
       "       [ -648.83843622,  -382.12259267],\n",
       "       [ -327.23935719,  1217.799481  ],\n",
       "       [ -282.09104183,  1408.02008497],\n",
       "       [  -87.60713412,  1702.08013552],\n",
       "       [ -495.83677663,  1796.84233484],\n",
       "       [ -372.95685091,  2167.14207183],\n",
       "       [ -796.69340807,  2249.06104048],\n",
       "       [  861.73432396,  -367.94422264],\n",
       "       [ 1006.03119407,  -403.67956636],\n",
       "       [ 1514.38482869,  -578.1691707 ],\n",
       "       [ 1771.38482843,  -750.9805747 ],\n",
       "       [ 1947.89957028,  -760.24219951],\n",
       "       [ 2228.32595414,  -912.70329433],\n",
       "       [ -795.12163046,  -450.75227905],\n",
       "       [-1055.37835564,  -677.26841767],\n",
       "       [-1323.71073359,  -853.47230749],\n",
       "       [-1410.92790166,  -941.11555699],\n",
       "       [-1568.83371887,  -991.71406285],\n",
       "       [-1729.71866994, -1147.97619249]])"
      ]
     },
     "execution_count": 27,
     "metadata": {},
     "output_type": "execute_result"
    }
   ],
   "source": [
    "pos = res.x.reshape((24,2))\n",
    "pos"
   ]
  },
  {
   "cell_type": "code",
   "execution_count": 28,
   "metadata": {},
   "outputs": [
    {
     "data": {
      "image/png": "[encoded data removed]",
      "text/plain": [
       "<Figure size 432x288 with 1 Axes>"
      ]
     },
     "metadata": {
      "needs_background": "light"
     },
     "output_type": "display_data"
    }
   ],
   "source": [
    "plt.scatter(pos[:,0], pos[:,1], color='red')\n",
    "plt.scatter(pos_i[:,0], pos_i[:,1], color='blue')\n",
    "\n",
    "plt.xlim(-2500,2500)\n",
    "plt.ylim(-2500,2500)\n",
    "plt.grid(True)\n",
    "plt.show()"
   ]
  },
  {
   "cell_type": "markdown",
   "metadata": {},
   "source": [
    "The API expects 3D coordinates (with a z value which is zero in this case). Therefore we add a column of zeros."
   ]
  },
  {
   "cell_type": "code",
   "execution_count": 24,
   "metadata": {},
   "outputs": [
    {
     "data": {
      "text/plain": [
       "array([[-0.021,  0.205,  0.   ],\n",
       "       [-0.059,  0.4  ,  0.   ],\n",
       "       [ 0.355, -0.138,  0.   ],\n",
       "       [ 0.593, -0.236,  0.   ],\n",
       "       [-0.165, -0.13 ,  0.   ],\n",
       "       [-0.584, -0.46 ,  0.   ],\n",
       "       [-0.183,  1.247,  0.   ],\n",
       "       [-0.208,  1.417,  0.   ],\n",
       "       [-0.246,  1.677,  0.   ],\n",
       "       [-0.27 ,  1.843,  0.   ],\n",
       "       [-0.318,  2.171,  0.   ],\n",
       "       [-0.347,  2.364,  0.   ],\n",
       "       [ 0.871, -0.345,  0.   ],\n",
       "       [ 1.004, -0.397,  0.   ],\n",
       "       [ 1.499, -0.594,  0.   ],\n",
       "       [ 1.787, -0.709,  0.   ],\n",
       "       [ 1.937, -0.769,  0.   ],\n",
       "       [ 2.234, -0.887,  0.   ],\n",
       "       [-0.708, -0.558,  0.   ],\n",
       "       [-0.981, -0.775,  0.   ],\n",
       "       [-1.233, -0.975,  0.   ],\n",
       "       [-1.329, -1.052,  0.   ],\n",
       "       [-1.452, -1.148,  0.   ],\n",
       "       [-1.627, -1.287,  0.   ]])"
      ]
     },
     "execution_count": 24,
     "metadata": {},
     "output_type": "execute_result"
    }
   ],
   "source": [
    "result = np.zeros((n_ant, 3))\n",
    "result[:,:-1] = np.round(pos/1000.0, 3)\n",
    "result"
   ]
  },
  {
   "cell_type": "code",
   "execution_count": 25,
   "metadata": {},
   "outputs": [
    {
     "name": "stdout",
     "output_type": "stream",
     "text": [
      "{\n",
      "    \"rhodes_antenna_positions\": [\n",
      "        [\n",
      "            -0.021,\n",
      "            0.205,\n",
      "            0.0\n",
      "        ],\n",
      "        [\n",
      "            -0.059,\n",
      "            0.4,\n",
      "            0.0\n",
      "        ],\n",
      "        [\n",
      "            0.355,\n",
      "            -0.138,\n",
      "            0.0\n",
      "        ],\n",
      "        [\n",
      "            0.593,\n",
      "            -0.236,\n",
      "            0.0\n",
      "        ],\n",
      "        [\n",
      "            -0.165,\n",
      "            -0.13,\n",
      "            0.0\n",
      "        ],\n",
      "        [\n",
      "            -0.584,\n",
      "            -0.46,\n",
      "            0.0\n",
      "        ],\n",
      "        [\n",
      "            -0.183,\n",
      "            1.247,\n",
      "            0.0\n",
      "        ],\n",
      "        [\n",
      "            -0.208,\n",
      "            1.417,\n",
      "            0.0\n",
      "        ],\n",
      "        [\n",
      "            -0.246,\n",
      "            1.677,\n",
      "            0.0\n",
      "        ],\n",
      "        [\n",
      "            -0.27,\n",
      "            1.843,\n",
      "            0.0\n",
      "        ],\n",
      "        [\n",
      "            -0.318,\n",
      "            2.171,\n",
      "            0.0\n",
      "        ],\n",
      "        [\n",
      "            -0.347,\n",
      "            2.364,\n",
      "            0.0\n",
      "        ],\n",
      "        [\n",
      "            0.871,\n",
      "            -0.345,\n",
      "            0.0\n",
      "        ],\n",
      "        [\n",
      "            1.004,\n",
      "            -0.397,\n",
      "            0.0\n",
      "        ],\n",
      "        [\n",
      "            1.499,\n",
      "            -0.594,\n",
      "            0.0\n",
      "        ],\n",
      "        [\n",
      "            1.787,\n",
      "            -0.709,\n",
      "            0.0\n",
      "        ],\n",
      "        [\n",
      "            1.937,\n",
      "            -0.769,\n",
      "            0.0\n",
      "        ],\n",
      "        [\n",
      "            2.234,\n",
      "            -0.887,\n",
      "            0.0\n",
      "        ],\n",
      "        [\n",
      "            -0.708,\n",
      "            -0.558,\n",
      "            0.0\n",
      "        ],\n",
      "        [\n",
      "            -0.981,\n",
      "            -0.775,\n",
      "            0.0\n",
      "        ],\n",
      "        [\n",
      "            -1.233,\n",
      "            -0.975,\n",
      "            0.0\n",
      "        ],\n",
      "        [\n",
      "            -1.329,\n",
      "            -1.052,\n",
      "            0.0\n",
      "        ],\n",
      "        [\n",
      "            -1.452,\n",
      "            -1.148,\n",
      "            0.0\n",
      "        ],\n",
      "        [\n",
      "            -1.627,\n",
      "            -1.287,\n",
      "            0.0\n",
      "        ]\n",
      "    ]\n",
      "}\n"
     ]
    }
   ],
   "source": [
    "json_result = {}\n",
    "json_result[\"antenna_positions\"] = result.tolist()\n",
    "print(json.dumps(json_result, indent=4, separators=(',', ': ')))"
   ]
  },
  {
   "cell_type": "markdown",
   "metadata": {
    "collapsed": true
   },
   "source": [
    "The position file above is in a format suitable for uploading to the telescope api. Also for using as the calibrated_antenna_positions.json file in TART/software/containers/telescope_web_api/config_data.\n",
    "\n",
    "\n",
    "    tart_upload_antenna_positions --api https://tart.elec.ac.nz/rhodes --pw=xxxx --file rhodes_antenna_positions.json\n"
   ]
  },
  {
   "cell_type": "code",
   "execution_count": null,
   "metadata": {},
   "outputs": [],
   "source": []
  }
 ],
 "metadata": {
  "kernelspec": {
   "display_name": "Python 3 (ipykernel)",
   "language": "python",
   "name": "python3"
  },
  "language_info": {
   "codemirror_mode": {
    "name": "ipython",
    "version": 3
   },
   "file_extension": ".py",
   "mimetype": "text/x-python",
   "name": "python",
   "nbconvert_exporter": "python",
   "pygments_lexer": "ipython3",
   "version": "3.10.5"
  }
 },
 "nbformat": 4,
 "nbformat_minor": 2
}
