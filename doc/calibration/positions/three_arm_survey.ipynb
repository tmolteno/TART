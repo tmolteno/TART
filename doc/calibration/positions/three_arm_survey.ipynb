{
 "cells": [
  {
   "cell_type": "markdown",
   "metadata": {},
   "source": [
    "# Three-arm Antenna Position Calibration\n",
    "\n",
    "Author: Tim Molteno. tim@elec.ac.nz.\n",
    "\n",
    "The antennas are laid out on three arms which are placed approximately 120 degrees apart.  This notebook will use measurements to infer the actual layout of the antennas.\n",
    "\n",
    "Arm 1 will point geographically north (NOT magnetic). This arm forms the y-axis and will be used as a reference. We will assume that the x positions along this arm are approximately zero.\n",
    "\n",
    "The other reference point is the center of the array. This is assumed to be the point [0,0]. Make sure that a marker is present at this reference point at the same height as the level of the antennas (otherwise the distances will be wrong)."
   ]
  },
  {
   "cell_type": "code",
   "execution_count": 1,
   "metadata": {},
   "outputs": [],
   "source": [
    "import numpy as np\n",
    "from scipy.optimize import minimize "
   ]
  },
  {
   "cell_type": "code",
   "execution_count": 2,
   "metadata": {},
   "outputs": [],
   "source": [
    "x0 = [0,0]"
   ]
  },
  {
   "cell_type": "code",
   "execution_count": 3,
   "metadata": {},
   "outputs": [
    {
     "data": {
      "text/plain": [
       "A 0      210.0\n",
       "A 1      410.0\n",
       "A 2      384.0\n",
       "A 3      638.0\n",
       "A 4      212.0\n",
       "A 5      753.0\n",
       "A 6     1261.0\n",
       "A 7     1436.0\n",
       "A 8     1707.0\n",
       "A 9     1864.0\n",
       "A 10    2199.0\n",
       "A 11    2386.0\n",
       "A 12     937.0\n",
       "A 13    1084.0\n",
       "A 14    1621.0\n",
       "A 15    1924.0\n",
       "A 16    2091.0\n",
       "A 17    2408.0\n",
       "A 18     914.0\n",
       "A 19    1254.0\n",
       "A 20    1575.0\n",
       "A 21    1696.0\n",
       "A 22    1856.0\n",
       "A 23    2076.0\n",
       "Name: 0, dtype: float64"
      ]
     },
     "execution_count": 3,
     "metadata": {},
     "output_type": "execute_result"
    }
   ],
   "source": [
    "# pip install pandas\n",
    "# pip install odfpy\n",
    "\n",
    "import pandas as pd\n",
    "\n",
    "#pd.read_excel('three_arm_measurements.ods', engine='odf')\n",
    "cols = [f\"A {i}\" for i in range(24)]\n",
    "data = pd.read_excel('three_arm_measurements.ods', \"Sheet1\", usecols=cols)\n",
    "radius = data.loc[0]\n",
    "radius"
   ]
  },
  {
   "cell_type": "code",
   "execution_count": null,
   "metadata": {},
   "outputs": [],
   "source": []
  },
  {
   "cell_type": "markdown",
   "metadata": {},
   "source": [
    "## Finding the antennas\n",
    "\n",
    "This is done by measuring the distance from each antenna to x0 as well as each other antenna. The distance $m_0$ are the measurements to $x_0$. The array m_ij are the distances between antennas."
   ]
  },
  {
   "cell_type": "code",
   "execution_count": 4,
   "metadata": {},
   "outputs": [],
   "source": [
    "n_ant = 24\n",
    "m_0 = np.zeros(24)\n",
    "m_ij = np.zeros((24,24))\n",
    "\n",
    "radius = data.loc[0]\n",
    "\n",
    "for i in range(24):\n",
    "    m_ij[i,:] = data.loc[i+1]"
   ]
  },
  {
   "cell_type": "markdown",
   "metadata": {},
   "source": [
    "The following are the measured distances from [x1, x0, x2] from the reference points in millimeters. Note that their order must be the same as the order of the variable called 'reference_points'. In this case, they are x1,x0,x2."
   ]
  },
  {
   "cell_type": "code",
   "execution_count": 5,
   "metadata": {},
   "outputs": [
    {
     "data": {
      "text/plain": [
       "array([[   0.,  198.,  509.,  756.,  365.,  872., 1054., 1225., 1489.,\n",
       "        1656., 1984., 2183., 1046., 1189., 1713., 2023., 2187., 2506.,\n",
       "        1027., 1372., 1691., 1814., 1969., 2192.],\n",
       "       [ 198.,    0.,  673.,  894.,  545., 1021.,  855., 1027., 1293.,\n",
       "        1459., 1790., 1981., 1169., 1313., 1823., 2127., 2293., 2613.,\n",
       "        1173., 1506., 1823., 1945., 2098., 2316.],\n",
       "       [ 509.,  673.,    0.,  258.,  524., 1001., 1467., 1634., 1893.,\n",
       "        2056., 2384., 2575.,  557.,  701., 1229., 1538., 1705., 2026.,\n",
       "        1152., 1488., 1807., 1928., 2082., 2305.],\n",
       "       [ 756.,  894.,  258.,    0.,  772., 1214., 1639., 1802., 2054.,\n",
       "        2213., 2534., 2721.,  299.,  444.,  973., 1284., 1447., 1768.,\n",
       "        1357., 1682., 1992., 2113., 2261., 2479.],\n",
       "       [ 365.,  545.,  524.,  772.,    0.,  535., 1385., 1558., 1819.,\n",
       "        1984., 2312., 2507., 1066., 1209., 1735., 2037., 2205., 2525.,\n",
       "         697., 1042., 1366., 1490., 1644., 1867.],\n",
       "       [ 872., 1021., 1001., 1214.,  535.,    0., 1775., 1938., 2187.,\n",
       "        2348., 2668., 2859., 1477., 1608., 2104., 2405., 2562., 2873.,\n",
       "         159.,  507.,  831.,  956., 1109., 1333.],\n",
       "       [1054.,  855., 1467., 1639., 1385., 1775.,    0.,  172.,  437.,\n",
       "         600.,  931., 1127., 1865., 1982., 2435., 2710., 2860., 3157.,\n",
       "        1905., 2199., 2484., 2598., 2740., 2946.],\n",
       "       [1225., 1027., 1634., 1802., 1558., 1938.,  172.,    0.,  264.,\n",
       "         432.,  758.,  955., 2016., 2133., 2574., 2844., 2991., 3285.,\n",
       "        2065., 2355., 2636., 2745., 2887., 3088.],\n",
       "       [1489., 1293., 1893., 2054., 1819., 2187.,  437.,  264.,    0.,\n",
       "         164.,  492.,  692., 2262., 2364., 2796., 3058., 3198., 3484.,\n",
       "        2314., 2593., 2867., 2971., 3112., 3307.],\n",
       "       [1656., 1459., 2056., 2213., 1984., 2348.,  600.,  432.,  164.,\n",
       "           0.,  328.,  523., 2415., 2522., 2935., 3195., 3335., 3613.,\n",
       "        2469., 2742., 3013., 3118., 3254., 3447.],\n",
       "       [1984., 1790., 2384., 2534., 2312., 2668.,  931.,  758.,  492.,\n",
       "         328.,    0.,  193., 2726., 2827., 3227., 3474., 3609., 3884.,\n",
       "        2785., 3047., 3307., 3414., 3548., 3737.],\n",
       "       [2183., 1981., 2575., 2721., 2507., 2859., 1127.,  955.,  692.,\n",
       "         523.,  193.,    0., 2913., 3011., 3404., 3647., 3778., 4048.,\n",
       "        2976., 3236., 3493., 3595., 3723., 3913.],\n",
       "       [1046., 1169.,  557.,  299., 1066., 1477., 1865., 2016., 2262.,\n",
       "        2415., 2726., 2913.,    0.,  143.,  673.,  978., 1144., 1463.,\n",
       "        1614., 1924., 2223., 2338., 2485., 2697.],\n",
       "       [1189., 1313.,  701.,  444., 1209., 1608., 1982., 2133., 2364.,\n",
       "        2522., 2827., 3011.,  143.,    0.,  529.,  837.,  999., 1321.,\n",
       "        1743., 2048., 2342., 2467., 2498., 2807.],\n",
       "       [1713., 1823., 1229.,  973., 1735., 2104., 2435., 2574., 2796.,\n",
       "        2935., 3227., 3404.,  673.,  529.,    0.,  305.,  468.,  789.,\n",
       "        2233., 2519., 2799., 2906., 3043., 3245.],\n",
       "       [2023., 2127., 1538., 1284., 2037., 2405., 2710., 2844., 3058.,\n",
       "        3195., 3474., 3647.,  978.,  837.,  305.,    0.,  162.,  483.,\n",
       "        2523., 2798., 3068., 3177., 3308., 3506.],\n",
       "       [2187., 2293., 1705., 1447., 2205., 2562., 2860., 2991., 3198.,\n",
       "        3335., 3609., 3778., 1144.,  999.,  468.,  162.,    0.,   nan,\n",
       "          nan,   nan,   nan,   nan,   nan,   nan],\n",
       "       [2506., 2613., 2026., 1768., 2525., 2873., 3157., 3285., 3484.,\n",
       "        3613., 3884., 4048., 1463., 1321.,  789.,  483.,   nan,    0.,\n",
       "          nan,   nan,   nan,   nan,   nan,   nan],\n",
       "       [1027., 1173., 1152., 1357.,  697.,  159., 1905., 2065., 2314.,\n",
       "        2469., 2785., 2976., 1614., 1743., 2233., 2523.,   nan,   nan,\n",
       "           0.,   nan,   nan,   nan,   nan,   nan],\n",
       "       [1372., 1506., 1488., 1682., 1042.,  507., 2199., 2355., 2593.,\n",
       "        2742., 3047., 3236., 1924., 2048., 2519., 2798.,   nan,   nan,\n",
       "          nan,    0.,   nan,   nan,   nan,   nan],\n",
       "       [1691., 1823., 1807., 1992., 1366.,  831., 2484., 2636., 2867.,\n",
       "        3013., 3307., 3493., 2223., 2342., 2799., 3068.,   nan,   nan,\n",
       "          nan,   nan,    0.,   nan,   nan,   nan],\n",
       "       [1814., 1945., 1928., 2113., 1490.,  956., 2598., 2745., 2971.,\n",
       "        3118., 3414., 3595., 2338., 2467., 2906., 3177.,   nan,   nan,\n",
       "          nan,   nan,   nan,    0.,   nan,   nan],\n",
       "       [1969., 2098., 2082., 2261., 1644., 1109., 2740., 2887., 3112.,\n",
       "        3254., 3548., 3723., 2485., 2498., 3043., 3308.,   nan,   nan,\n",
       "          nan,   nan,   nan,   nan,    0.,   nan],\n",
       "       [2192., 2316., 2305., 2479., 1867., 1333., 2946., 3088., 3307.,\n",
       "        3447., 3737., 3913., 2697., 2807., 3245., 3506.,   nan,   nan,\n",
       "          nan,   nan,   nan,   nan,   nan,    0.]])"
      ]
     },
     "execution_count": 5,
     "metadata": {},
     "output_type": "execute_result"
    }
   ],
   "source": [
    "for i in range(n_ant):\n",
    "    for j in range(n_ant):\n",
    "        if not np.isnan(m_ij[i,j]):\n",
    "            m_ij[j,i] = m_ij[i,j]\n",
    "\n",
    "m_ij\n"
   ]
  },
  {
   "cell_type": "markdown",
   "metadata": {},
   "source": [
    "## Plot the Initial Guess Points\n",
    "\n",
    "Initial Guesses are from JSON queried from the telescope API. These are converted to millimeters."
   ]
  },
  {
   "cell_type": "code",
   "execution_count": 6,
   "metadata": {
    "scrolled": true
   },
   "outputs": [],
   "source": [
    "import requests\n",
    "import json\n",
    "\n",
    "def get_data(path):\n",
    "    server = \"https://tart.elec.ac.nz/rhodes\"\n",
    "\n",
    "    r = requests.get('{}/{}'.format(server, path))\n",
    "    return json.loads(r.text)\n",
    "\n",
    "def get_pos():\n",
    "    return np.array(get_data('api/v1/imaging/antenna_positions'))\n",
    "\n",
    "if False:\n",
    "    with open('original_rhodes_positions.json', \"r\") as f:\n",
    "        data = f.read()\n",
    "    cal_json = json.loads(data)\n",
    "    current_pos = cal_json['antenna_positions'] # get_pos()\n",
    "    current_pos = np.array(current_pos)\n",
    "\n",
    "if False:\n",
    "    current_pos = get_pos()\n",
    "    json_result = {}\n",
    "    json_result[\"antenna_positions\"] = current_pos.tolist()\n",
    "    print(json.dumps(json_result, indent=4, separators=(',', ': ')))\n",
    "\n",
    "current_pos = np.array([[ 0.        ,  0.21036822,  0.        ],\n",
    "       [ 0.        ,  0.40894464,  0.        ],\n",
    "       [ 0.33652171, -0.1942909 ,  0.        ],\n",
    "       [ 0.55195215, -0.31866972,  0.        ],\n",
    "       [-0.18186395, -0.1049992 ,  0.        ],\n",
    "       [-0.65058666, -0.37561638,  0.        ],\n",
    "       [ 0.        ,  1.26747133,  0.        ],\n",
    "       [ 0.        ,  1.44403899,  0.        ],\n",
    "       [ 0.        ,  1.71019648,  0.        ],\n",
    "       [ 0.        ,  1.86051529,  0.        ],\n",
    "       [ 0.        ,  2.20143587,  0.        ],\n",
    "       [ 0.        ,  2.38582938,  0.        ],\n",
    "       [ 0.81594596, -0.47108662,  0.        ],\n",
    "       [ 0.94307482, -0.5444845 ,  0.        ],\n",
    "       [ 1.40247705, -0.8097205 ,  0.        ],\n",
    "       [ 1.66872406, -0.96343829,  0.        ],\n",
    "       [ 1.80943056, -1.04467522,  0.        ],\n",
    "       [ 2.08400692, -1.20320196,  0.        ],\n",
    "       [-0.78741312, -0.45461318,  0.        ],\n",
    "       [-1.08399029, -0.62584208,  0.        ],\n",
    "       [-1.36391741, -0.78745808,  0.        ],\n",
    "       [-1.46598234, -0.8463853 ,  0.        ],\n",
    "       [-1.60875644, -0.92881597,  0.        ],\n",
    "       [-1.80004538, -1.03925669,  0.        ]])"
   ]
  },
  {
   "cell_type": "code",
   "execution_count": 7,
   "metadata": {},
   "outputs": [
    {
     "name": "stdout",
     "output_type": "stream",
     "text": [
      "0.0 210.36822\n",
      "0.0 408.94464000000005\n",
      "336.52171 -194.2909\n",
      "551.95215 -318.66972\n",
      "-181.86395 -104.9992\n",
      "-650.5866599999999 -375.61638000000005\n",
      "0.0 1267.47133\n",
      "0.0 1444.03899\n",
      "0.0 1710.19648\n",
      "0.0 1860.5152899999998\n",
      "0.0 2201.4358700000003\n",
      "0.0 2385.82938\n",
      "815.94596 -471.08662000000004\n",
      "943.0748199999999 -544.4845\n",
      "1402.47705 -809.7204999999999\n",
      "1668.72406 -963.43829\n",
      "1809.43056 -1044.67522\n",
      "2084.0069200000003 -1203.2019599999999\n",
      "-787.4131199999999 -454.61318\n",
      "-1083.99029 -625.84208\n",
      "-1363.91741 -787.45808\n",
      "-1465.98234 -846.3853\n",
      "-1608.75644 -928.81597\n",
      "-1800.04538 -1039.25669\n"
     ]
    },
    {
     "data": {
      "image/png": "[encoded data removed]",
      "text/plain": [
       "<Figure size 864x864 with 1 Axes>"
      ]
     },
     "metadata": {
      "needs_background": "light"
     },
     "output_type": "display_data"
    }
   ],
   "source": [
    "def i_y(i):\n",
    "    return 2*i+1\n",
    "\n",
    "def i_x(i):\n",
    "    return 2*i\n",
    "\n",
    "\n",
    "initial_guess = np.zeros(2*n_ant)\n",
    "\n",
    "for i in range(n_ant):\n",
    "    x,y = current_pos[i][0:2]*1000\n",
    "    initial_guess[i_x(i)] = x\n",
    "    initial_guess[i_y(i)] = y\n",
    "    \n",
    "    print(x,y)\n",
    "initial_guess\n",
    "\n",
    "pos_i = current_pos*1000\n",
    "import matplotlib.pyplot as plt\n",
    "\n",
    "fig, ax = plt.subplots(figsize=(12,12))\n",
    "\n",
    "ax.scatter(pos_i[:,0], pos_i[:,1])\n",
    "for i in range(0,pos_i.shape[0]):\n",
    "    ax.text(pos_i[i,0], pos_i[i,1],f\"{i}\")\n",
    "\n",
    "ax.grid(True)\n",
    "ax.set_title('Initial positions')\n",
    "ax.set_xlabel('x (mm)')\n",
    "ax.set_ylabel('y (mm)')\n",
    "plt.savefig('initial_positions.png')\n",
    "plt.show()"
   ]
  },
  {
   "cell_type": "markdown",
   "metadata": {},
   "source": [
    "## Criteria for Optimality\n",
    "\n",
    "The function below is minimized when the positions (in variable x) are consistent with the measured distances m[i,j]. The initial value of this function is more than 3 million.\n",
    "\n",
    "Note that the x input is a 1D vector of with 48 entries as [p0.x, p0.y, p1.x, p1.y]"
   ]
  },
  {
   "cell_type": "code",
   "execution_count": 8,
   "metadata": {},
   "outputs": [
    {
     "name": "stdout",
     "output_type": "stream",
     "text": [
      "662006.2323637417\n"
     ]
    }
   ],
   "source": [
    "def dist(a,b):\n",
    "    return np.sqrt((a[0]-b[0])**2 + (a[1]-b[1])**2)\n",
    "\n",
    "\n",
    "def p(x, i):\n",
    "    return [x[i_x(i)],x[i_y(i)]]\n",
    "\n",
    "max_err = 1200\n",
    "def bounds():\n",
    "    ret = [(0,0)]*48\n",
    "    for i in range(24):\n",
    "        _x,_y = pos_i[i,0], pos_i[i,1]\n",
    "        ret[i_x(i)] = (_x - max_err, _x + max_err)\n",
    "        ret[i_y(i)] = (_y - max_err, _y + max_err)\n",
    "    # x-component of the north arm set to zero.\n",
    "    for i in [0,1,6,7,8,9,10,11]:\n",
    "        xval = pos_i[i,0]\n",
    "        ret[i_x(i)] = ( - 2, + 2)\n",
    "    \n",
    "    return ret\n",
    "\n",
    "bnd = bounds()\n",
    "\n",
    "center = [0,0]\n",
    "\n",
    "def radius_model(x):\n",
    "    ret = []\n",
    "    \n",
    "    for i in range(n_ant):\n",
    "        p_i = p(x,i)\n",
    "        ret.append(dist(center, p_i))\n",
    "        \n",
    "    return np.array(ret)\n",
    "\n",
    "non_nan_ij = []\n",
    "non_nan_indices = []\n",
    "for i in range(n_ant):\n",
    "    for j in range(n_ant):\n",
    "        if not np.isnan(m_ij[i,j]):\n",
    "            non_nan_ij.append(m_ij[i,j])\n",
    "            non_nan_indices.append([i,j])\n",
    "non_nan_ij = np.array(non_nan_ij)\n",
    "non_nan_indices = np.array(non_nan_indices)\n",
    "\n",
    "def m_ij_model(x):\n",
    "    ret = []\n",
    "    for i in range(n_ant):\n",
    "        p_i = p(x,i)\n",
    "\n",
    "        for j in range(n_ant):\n",
    "            p_j = p(x,j)\n",
    "            if not np.isnan(m_ij[i,j]):\n",
    "                ret.append(dist(p_j, p_i))\n",
    "                \n",
    "    return np.array(ret)\n",
    "    \n",
    "def radius_residual(x):\n",
    "    predict = radius_model(x)\n",
    "    return predict - radius\n",
    "\n",
    "def m_ij_residual(x):\n",
    "    predict = m_ij_model(x)\n",
    "    return predict - non_nan_ij\n",
    "\n",
    "\n",
    "def f(x):\n",
    "    ret = 0\n",
    "    for i in range(n_ant):\n",
    "        p_i = p(x,i)\n",
    "        ret += (dist(center, p_i) - m_0[i])**2\n",
    "        for j in range(n_ant):\n",
    "            p_j = p(x,j)\n",
    "            if not np.isnan(m_ij[i,j]):\n",
    "                ret += (dist(p_j, p_i) - m_ij[i,j])**2\n",
    "    return ret\n",
    "\n",
    "def f(x):\n",
    "    # This is the final criterion for optimality. The sum of squared residuals.\n",
    "    ret = np.sum(radius_residual(x)**2)\n",
    "    ret += np.sum(m_ij_residual(x)**2)\n",
    "    return ret\n",
    "\n",
    "print(f(initial_guess))"
   ]
  },
  {
   "cell_type": "markdown",
   "metadata": {},
   "source": [
    "We can see that the initial value of this optimality condition is about 600,000."
   ]
  },
  {
   "cell_type": "code",
   "execution_count": 9,
   "metadata": {},
   "outputs": [
    {
     "data": {
      "text/plain": [
       "      fun: 18555.484476675192\n",
       " hess_inv: <48x48 LbfgsInvHessProduct with dtype=float64>\n",
       "      jac: array([ 3.13426428e+01,  2.54658314e-03,  3.24180293e+00,  3.27417833e-03,\n",
       "       -3.63797592e-04, -1.45519037e-03,  2.18278555e-03,  1.09139278e-03,\n",
       "       -3.63797592e-04,  4.36557731e-03, -5.09316629e-03, -5.09316629e-03,\n",
       "        1.45519153e-02, -1.09140518e-03, -4.72937248e-03, -7.27603456e-04,\n",
       "        1.01863407e-02, -2.54661210e-03,  7.27595758e-04,  3.63801728e-04,\n",
       "        4.36557457e-03, -8.36743975e-03, -3.31710910e+00,  3.63801728e-03,\n",
       "       -3.63797592e-03, -7.27595184e-04,  5.09316629e-03, -1.81898796e-03,\n",
       "       -1.09140518e-03, -1.81898796e-03, -2.54661210e-03, -8.36734462e-03,\n",
       "        1.45520691e-03,  6.18455907e-03, -7.63983629e-03, -9.45884493e-03,\n",
       "        0.00000000e+00,  3.63797592e-04,  1.45520691e-03,  2.18278555e-03,\n",
       "        7.27603456e-04, -2.54658314e-03, -2.91041382e-03,  1.81898796e-03,\n",
       "        7.27603456e-04, -1.01863326e-02, -4.00181901e-03,  6.54843111e-03])\n",
       "  message: 'CONVERGENCE: REL_REDUCTION_OF_F_<=_FACTR*EPSMCH'\n",
       "     nfev: 3234\n",
       "      nit: 62\n",
       "     njev: 66\n",
       "   status: 0\n",
       "  success: True\n",
       "        x: array([-2.00000000e+00,  2.07931748e+02, -2.00000000e+00,  4.06403029e+02,\n",
       "        3.45776649e+02, -1.64594379e+02,  5.79393553e+02, -2.72438636e+02,\n",
       "       -1.75629176e+02, -1.12436427e+02, -6.27158479e+02, -3.99822685e+02,\n",
       "       -1.49862541e+00,  1.26055081e+03,  1.35879335e+00,  1.43325171e+03,\n",
       "        1.67338546e+00,  1.69723404e+03,  5.34856329e-01,  1.86233906e+03,\n",
       "        2.19682211e-01,  2.19173586e+03,  2.00000000e+00,  2.38774332e+03,\n",
       "        8.50544014e+02, -3.98618229e+02,  9.73091742e+02, -4.68925948e+02,\n",
       "        1.46282967e+03, -6.83921297e+02,  1.73978604e+03, -8.16475497e+02,\n",
       "        1.88796177e+03, -8.86273483e+02,  2.17693451e+03, -1.02533613e+03,\n",
       "       -7.62698663e+02, -4.86369341e+02, -1.05686361e+03, -6.68820930e+02,\n",
       "       -1.33158606e+03, -8.39309842e+02, -1.43828022e+03, -9.03764619e+02,\n",
       "       -1.54836211e+03, -1.00336532e+03, -1.75585941e+03, -1.10625269e+03])"
      ]
     },
     "execution_count": 9,
     "metadata": {},
     "output_type": "execute_result"
    }
   ],
   "source": [
    "res = minimize(f, initial_guess, bounds=bnd)\n",
    "res"
   ]
  },
  {
   "cell_type": "code",
   "execution_count": 10,
   "metadata": {},
   "outputs": [
    {
     "name": "stdout",
     "output_type": "stream",
     "text": [
      "Ant 0:\tJac: 031.34, \t000.00\n",
      "Ant 1:\tJac: 003.24, \t000.00\n",
      "Ant 2:\tJac: -00.00, \t-00.00\n",
      "Ant 3:\tJac: 000.00, \t000.00\n",
      "Ant 4:\tJac: -00.00, \t000.00\n",
      "Ant 5:\tJac: -00.01, \t-00.01\n",
      "Ant 6:\tJac: 000.01, \t-00.00\n",
      "Ant 7:\tJac: -00.00, \t-00.00\n",
      "Ant 8:\tJac: 000.01, \t-00.00\n",
      "Ant 9:\tJac: 000.00, \t000.00\n",
      "Ant 10:\tJac: 000.00, \t-00.01\n",
      "Ant 11:\tJac: -03.32, \t000.00\n",
      "Ant 12:\tJac: -00.00, \t-00.00\n",
      "Ant 13:\tJac: 000.01, \t-00.00\n",
      "Ant 14:\tJac: -00.00, \t-00.00\n",
      "Ant 15:\tJac: -00.00, \t-00.01\n",
      "Ant 16:\tJac: 000.00, \t000.01\n",
      "Ant 17:\tJac: -00.01, \t-00.01\n",
      "Ant 18:\tJac: 000.00, \t000.00\n",
      "Ant 19:\tJac: 000.00, \t000.00\n",
      "Ant 20:\tJac: 000.00, \t-00.00\n",
      "Ant 21:\tJac: -00.00, \t000.00\n",
      "Ant 22:\tJac: 000.00, \t-00.01\n",
      "Ant 23:\tJac: -00.00, \t000.01\n"
     ]
    }
   ],
   "source": [
    "err = res.jac.reshape((24,2))\n",
    "rms = err # np.sqrt(np.sum(err**2, axis=1))\n",
    "for i in range(24):\n",
    "    print(f\"Ant {i}:\\tJac: {rms[i,0]:06.2f}, \\t{rms[i,1]:06.2f}\")"
   ]
  },
  {
   "cell_type": "markdown",
   "metadata": {},
   "source": [
    "The optimized positions are now known. The final value of the function is 32. Far closer to zero than 3 million!\n",
    "\n",
    "We can recover the x,y coordinates by reshaping the array"
   ]
  },
  {
   "cell_type": "code",
   "execution_count": 11,
   "metadata": {},
   "outputs": [
    {
     "data": {
      "text/plain": [
       "array([[-2.00000000e+00,  2.07931748e+02],\n",
       "       [-2.00000000e+00,  4.06403029e+02],\n",
       "       [ 3.45776649e+02, -1.64594379e+02],\n",
       "       [ 5.79393553e+02, -2.72438636e+02],\n",
       "       [-1.75629176e+02, -1.12436427e+02],\n",
       "       [-6.27158479e+02, -3.99822685e+02],\n",
       "       [-1.49862541e+00,  1.26055081e+03],\n",
       "       [ 1.35879335e+00,  1.43325171e+03],\n",
       "       [ 1.67338546e+00,  1.69723404e+03],\n",
       "       [ 5.34856329e-01,  1.86233906e+03],\n",
       "       [ 2.19682211e-01,  2.19173586e+03],\n",
       "       [ 2.00000000e+00,  2.38774332e+03],\n",
       "       [ 8.50544014e+02, -3.98618229e+02],\n",
       "       [ 9.73091742e+02, -4.68925948e+02],\n",
       "       [ 1.46282967e+03, -6.83921297e+02],\n",
       "       [ 1.73978604e+03, -8.16475497e+02],\n",
       "       [ 1.88796177e+03, -8.86273483e+02],\n",
       "       [ 2.17693451e+03, -1.02533613e+03],\n",
       "       [-7.62698663e+02, -4.86369341e+02],\n",
       "       [-1.05686361e+03, -6.68820930e+02],\n",
       "       [-1.33158606e+03, -8.39309842e+02],\n",
       "       [-1.43828022e+03, -9.03764619e+02],\n",
       "       [-1.54836211e+03, -1.00336532e+03],\n",
       "       [-1.75585941e+03, -1.10625269e+03]])"
      ]
     },
     "execution_count": 11,
     "metadata": {},
     "output_type": "execute_result"
    }
   ],
   "source": [
    "pos = res.x.reshape((24,2))\n",
    "pos"
   ]
  },
  {
   "cell_type": "code",
   "execution_count": 12,
   "metadata": {},
   "outputs": [
    {
     "data": {
      "image/png": "[encoded data removed]",
      "text/plain": [
       "<Figure size 864x864 with 1 Axes>"
      ]
     },
     "metadata": {
      "needs_background": "light"
     },
     "output_type": "display_data"
    }
   ],
   "source": [
    "fig, ax = plt.subplots(figsize=(12,12))\n",
    "\n",
    "ax.scatter(pos_i[:,0], pos_i[:,1], label='initial')\n",
    "ax.scatter(pos[:,0], pos[:,1], label='final')\n",
    "\n",
    "ax.grid(True)\n",
    "ax.set_title('Final Solution')\n",
    "ax.set_xlabel('x (mm)')\n",
    "ax.set_ylabel('y (mm)')\n",
    "ax.legend()\n",
    "plt.savefig('final_positions.png')\n",
    "plt.show()"
   ]
  },
  {
   "cell_type": "code",
   "execution_count": 13,
   "metadata": {},
   "outputs": [
    {
     "data": {
      "image/png": "[encoded data removed]",
      "text/plain": [
       "<Figure size 864x864 with 1 Axes>"
      ]
     },
     "metadata": {
      "needs_background": "light"
     },
     "output_type": "display_data"
    }
   ],
   "source": [
    "# Differences plot\n",
    "diff = pos - pos_i[:,0:2]\n",
    "\n",
    "\n",
    "fig, ax = plt.subplots(figsize=(12,12))\n",
    "\n",
    "ax.scatter(diff[:,0], diff[:,1], color='red')\n",
    "\n",
    "for i in range(0,diff.shape[0]):\n",
    "    ax.text(diff[i,0], diff[i,1],f\"{i}\")\n",
    "\n",
    "ax.grid(True)\n",
    "ax.set_title(\"Differences from initial position\")\n",
    "ax.set_xlabel('x (mm)')\n",
    "ax.set_xlabel('y (mm)')\n",
    "plt.savefig('differences.png')\n",
    "plt.show()"
   ]
  },
  {
   "cell_type": "code",
   "execution_count": 14,
   "metadata": {},
   "outputs": [
    {
     "data": {
      "text/plain": [
       "A 0     -2.058633\n",
       "A 1     -3.592050\n",
       "A 2     -1.047261\n",
       "A 3      2.249717\n",
       "A 4     -3.463294\n",
       "A 5     -9.235294\n",
       "A 6     -0.448300\n",
       "A 7     -2.747641\n",
       "A 8     -9.765133\n",
       "A 9     -1.660864\n",
       "A 10    -7.264131\n",
       "A 11     1.744161\n",
       "A 12     2.319761\n",
       "A 13    -3.815255\n",
       "A 14    -6.187632\n",
       "A 15    -2.155132\n",
       "A 16    -5.363327\n",
       "A 17    -1.683721\n",
       "A 18    -9.420326\n",
       "A 19    -3.287352\n",
       "A 20    -0.972542\n",
       "A 21     2.658438\n",
       "A 22   -10.961463\n",
       "A 23    -0.707905\n",
       "Name: 0, dtype: float64"
      ]
     },
     "execution_count": 14,
     "metadata": {},
     "output_type": "execute_result"
    }
   ],
   "source": [
    "# Residual plot\n",
    "rres = radius_residual(res.x)\n",
    "rres"
   ]
  },
  {
   "cell_type": "code",
   "execution_count": 15,
   "metadata": {},
   "outputs": [
    {
     "data": {
      "image/png": "[encoded data removed]",
      "text/plain": [
       "<Figure size 432x288 with 1 Axes>"
      ]
     },
     "metadata": {
      "needs_background": "light"
     },
     "output_type": "display_data"
    }
   ],
   "source": [
    "# ij resdual\n",
    "ijres = m_ij_residual(res.x)\n",
    "plt.hist(ijres, bins='fd');\n",
    "plt.title(\"Histogram of residuals\")\n",
    "plt.xlabel(\"Residual (mm)\")\n",
    "plt.grid(True)\n",
    "plt.savefig(\"residual_histogram.png\")"
   ]
  },
  {
   "cell_type": "markdown",
   "metadata": {},
   "source": [
    "The API expects 3D coordinates (with a z value which is zero in this case). Therefore we add a column of zeros."
   ]
  },
  {
   "cell_type": "code",
   "execution_count": 16,
   "metadata": {},
   "outputs": [
    {
     "name": "stdout",
     "output_type": "stream",
     "text": [
      "95th percentile of residuals is 6.60 mm\n",
      " res[2,22] = -10.5\n",
      " res[3,22] = -11.2\n",
      " res[4,22] = -7.5\n",
      " res[5,22] = -7.7\n",
      " res[8,13] = 10.0\n",
      " res[12,22] = -11.0\n",
      " res[13,8] = 10.0\n",
      " res[13,18] = -7.1\n",
      " res[13,19] = -8.2\n",
      " res[13,20] = -7.7\n",
      " res[13,21] = -16.7\n",
      " res[13,22] = 79.5\n",
      " res[14,22] = -14.9\n",
      " res[15,22] = -14.5\n",
      " res[18,13] = -7.1\n",
      " res[19,13] = -8.2\n",
      " res[20,13] = -7.7\n",
      " res[21,13] = -16.7\n",
      " res[22,2] = -10.5\n",
      " res[22,3] = -11.2\n",
      " res[22,4] = -7.5\n",
      " res[22,5] = -7.7\n",
      " res[22,12] = -11.0\n",
      " res[22,13] = 79.5\n",
      " res[22,14] = -14.9\n",
      " res[22,15] = -14.5\n"
     ]
    }
   ],
   "source": [
    "absres = np.abs(ijres)\n",
    "p95 = np.percentile(absres, 95)\n",
    "\n",
    "print(f\"95th percentile of residuals is {p95:4.2f} mm\")\n",
    "ijres_matrix = np.zeros_like(m_ij)\n",
    "for r, i, j in zip(ijres, non_nan_indices[:,0], non_nan_indices[:,1]):\n",
    "    if np.abs(r) > p95:\n",
    "        print(f\" res[{i},{j}] = {r:3.1f}\")\n",
    "    ijres_matrix[i,j] = r\n",
    "    \n"
   ]
  },
  {
   "cell_type": "markdown",
   "metadata": {},
   "source": [
    "## Output best estimates\n",
    "\n",
    "Write some json files..."
   ]
  },
  {
   "cell_type": "code",
   "execution_count": 17,
   "metadata": {},
   "outputs": [
    {
     "data": {
      "text/plain": [
       "array([[-2.000e-03,  2.080e-01,  0.000e+00],\n",
       "       [-2.000e-03,  4.060e-01,  0.000e+00],\n",
       "       [ 3.460e-01, -1.650e-01,  0.000e+00],\n",
       "       [ 5.790e-01, -2.720e-01,  0.000e+00],\n",
       "       [-1.760e-01, -1.120e-01,  0.000e+00],\n",
       "       [-6.270e-01, -4.000e-01,  0.000e+00],\n",
       "       [-1.000e-03,  1.261e+00,  0.000e+00],\n",
       "       [ 1.000e-03,  1.433e+00,  0.000e+00],\n",
       "       [ 2.000e-03,  1.697e+00,  0.000e+00],\n",
       "       [ 1.000e-03,  1.862e+00,  0.000e+00],\n",
       "       [ 0.000e+00,  2.192e+00,  0.000e+00],\n",
       "       [ 2.000e-03,  2.388e+00,  0.000e+00],\n",
       "       [ 8.510e-01, -3.990e-01,  0.000e+00],\n",
       "       [ 9.730e-01, -4.690e-01,  0.000e+00],\n",
       "       [ 1.463e+00, -6.840e-01,  0.000e+00],\n",
       "       [ 1.740e+00, -8.160e-01,  0.000e+00],\n",
       "       [ 1.888e+00, -8.860e-01,  0.000e+00],\n",
       "       [ 2.177e+00, -1.025e+00,  0.000e+00],\n",
       "       [-7.630e-01, -4.860e-01,  0.000e+00],\n",
       "       [-1.057e+00, -6.690e-01,  0.000e+00],\n",
       "       [-1.332e+00, -8.390e-01,  0.000e+00],\n",
       "       [-1.438e+00, -9.040e-01,  0.000e+00],\n",
       "       [-1.548e+00, -1.003e+00,  0.000e+00],\n",
       "       [-1.756e+00, -1.106e+00,  0.000e+00]])"
      ]
     },
     "execution_count": 17,
     "metadata": {},
     "output_type": "execute_result"
    }
   ],
   "source": [
    "result = np.zeros((n_ant, 3))\n",
    "result[:,:-1] = np.round(pos/1000.0, 3)\n",
    "result"
   ]
  },
  {
   "cell_type": "code",
   "execution_count": 18,
   "metadata": {},
   "outputs": [
    {
     "name": "stdout",
     "output_type": "stream",
     "text": [
      "{\n",
      "    \"antenna_positions\": [\n",
      "        [\n",
      "            -0.002,\n",
      "            0.208,\n",
      "            0.0\n",
      "        ],\n",
      "        [\n",
      "            -0.002,\n",
      "            0.406,\n",
      "            0.0\n",
      "        ],\n",
      "        [\n",
      "            0.346,\n",
      "            -0.165,\n",
      "            0.0\n",
      "        ],\n",
      "        [\n",
      "            0.579,\n",
      "            -0.272,\n",
      "            0.0\n",
      "        ],\n",
      "        [\n",
      "            -0.176,\n",
      "            -0.112,\n",
      "            0.0\n",
      "        ],\n",
      "        [\n",
      "            -0.627,\n",
      "            -0.4,\n",
      "            0.0\n",
      "        ],\n",
      "        [\n",
      "            -0.001,\n",
      "            1.261,\n",
      "            0.0\n",
      "        ],\n",
      "        [\n",
      "            0.001,\n",
      "            1.433,\n",
      "            0.0\n",
      "        ],\n",
      "        [\n",
      "            0.002,\n",
      "            1.697,\n",
      "            0.0\n",
      "        ],\n",
      "        [\n",
      "            0.001,\n",
      "            1.862,\n",
      "            0.0\n",
      "        ],\n",
      "        [\n",
      "            0.0,\n",
      "            2.192,\n",
      "            0.0\n",
      "        ],\n",
      "        [\n",
      "            0.002,\n",
      "            2.388,\n",
      "            0.0\n",
      "        ],\n",
      "        [\n",
      "            0.851,\n",
      "            -0.399,\n",
      "            0.0\n",
      "        ],\n",
      "        [\n",
      "            0.973,\n",
      "            -0.469,\n",
      "            0.0\n",
      "        ],\n",
      "        [\n",
      "            1.463,\n",
      "            -0.684,\n",
      "            0.0\n",
      "        ],\n",
      "        [\n",
      "            1.74,\n",
      "            -0.816,\n",
      "            0.0\n",
      "        ],\n",
      "        [\n",
      "            1.888,\n",
      "            -0.886,\n",
      "            0.0\n",
      "        ],\n",
      "        [\n",
      "            2.177,\n",
      "            -1.025,\n",
      "            0.0\n",
      "        ],\n",
      "        [\n",
      "            -0.763,\n",
      "            -0.486,\n",
      "            0.0\n",
      "        ],\n",
      "        [\n",
      "            -1.057,\n",
      "            -0.669,\n",
      "            0.0\n",
      "        ],\n",
      "        [\n",
      "            -1.332,\n",
      "            -0.839,\n",
      "            0.0\n",
      "        ],\n",
      "        [\n",
      "            -1.438,\n",
      "            -0.904,\n",
      "            0.0\n",
      "        ],\n",
      "        [\n",
      "            -1.548,\n",
      "            -1.003,\n",
      "            0.0\n",
      "        ],\n",
      "        [\n",
      "            -1.756,\n",
      "            -1.106,\n",
      "            0.0\n",
      "        ]\n",
      "    ]\n",
      "}\n"
     ]
    }
   ],
   "source": [
    "json_result = {}\n",
    "json_result[\"antenna_positions\"] = result.tolist()\n",
    "print(json.dumps(json_result, indent=4, separators=(',', ': ')))"
   ]
  },
  {
   "cell_type": "markdown",
   "metadata": {
    "collapsed": true
   },
   "source": [
    "The position file above is in a format suitable for uploading to the telescope api. Also for using as the calibrated_antenna_positions.json file in TART/software/containers/telescope_web_api/config_data.\n",
    "\n",
    "\n",
    "    tart_upload_antenna_positions --api https://tart.elec.ac.nz/rhodes --pw=xxxx --file rhodes_antenna_positions.json\n"
   ]
  },
  {
   "cell_type": "code",
   "execution_count": null,
   "metadata": {},
   "outputs": [],
   "source": []
  }
 ],
 "metadata": {
  "kernelspec": {
   "display_name": "Python 3 (ipykernel)",
   "language": "python",
   "name": "python3"
  },
  "language_info": {
   "codemirror_mode": {
    "name": "ipython",
    "version": 3
   },
   "file_extension": ".py",
   "mimetype": "text/x-python",
   "name": "python",
   "nbconvert_exporter": "python",
   "pygments_lexer": "ipython3",
   "version": "3.10.5"
  }
 },
 "nbformat": 4,
 "nbformat_minor": 2
}
