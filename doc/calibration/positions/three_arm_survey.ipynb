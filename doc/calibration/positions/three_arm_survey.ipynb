{
 "cells": [
  {
   "cell_type": "markdown",
   "metadata": {},
   "source": [
    "# Antenna Position Measurement\n",
    "\n",
    "Author: Tim Molteno. tim@elec.ac.nz.\n",
    "\n",
    "The antennas are laid out on three arms which are placed approximately 120 degrees apart.  This notebook will use measurements to infer the actual layout of the antennas.\n",
    "\n",
    "Arm 1 will point geographically north (NOT magnetic). This arm forms the y-axis and will be used as a reference.\n",
    "\n",
    "The other reference point is the center of the array. This is assumed to be the point [0,0]. Make sure that a marker is present at this reference point at the same height as the level of the antennas (otherwise the distances will be wrong)."
   ]
  },
  {
   "cell_type": "code",
   "execution_count": 1,
   "metadata": {},
   "outputs": [],
   "source": [
    "import numpy as np\n",
    "from scipy.optimize import minimize "
   ]
  },
  {
   "cell_type": "code",
   "execution_count": 2,
   "metadata": {},
   "outputs": [],
   "source": [
    "x0 = [0,0]"
   ]
  },
  {
   "cell_type": "code",
   "execution_count": 3,
   "metadata": {},
   "outputs": [
    {
     "data": {
      "text/plain": [
       "A 0      210.0\n",
       "A 1      410.0\n",
       "A 2      384.0\n",
       "A 3      638.0\n",
       "A 4      212.0\n",
       "A 5      753.0\n",
       "A 6     1261.0\n",
       "A 7     1436.0\n",
       "A 8     1707.0\n",
       "A 9     1864.0\n",
       "A 10    2199.0\n",
       "A 11    2386.0\n",
       "A 12     937.0\n",
       "A 13    1084.0\n",
       "A 14    1621.0\n",
       "A 15    1924.0\n",
       "A 16    2091.0\n",
       "A 17    2408.0\n",
       "A 18     914.0\n",
       "A 19    1254.0\n",
       "A 20    1575.0\n",
       "A 21    1696.0\n",
       "A 22    1856.0\n",
       "A 23    2076.0\n",
       "Name: 0, dtype: float64"
      ]
     },
     "execution_count": 3,
     "metadata": {},
     "output_type": "execute_result"
    }
   ],
   "source": [
    "# pip install pandas\n",
    "# pip install odfpy\n",
    "\n",
    "import pandas as pd\n",
    "\n",
    "#pd.read_excel('three_arm_measurements.ods', engine='odf')\n",
    "cols = [f\"A {i}\" for i in range(24)]\n",
    "data = pd.read_excel('three_arm_measurements.ods', \"Sheet1\", usecols=cols)\n",
    "radius = data.loc[0]\n",
    "radius"
   ]
  },
  {
   "cell_type": "code",
   "execution_count": null,
   "metadata": {},
   "outputs": [],
   "source": []
  },
  {
   "cell_type": "raw",
   "metadata": {},
   "source": [
    "## Finding the antennas\n",
    "\n",
    "This is done by measuring the distance from each antenna to x0 as well as each other antenna. The distance $m_0$ are the measurements to $x_0$. The array m_ij are the distances between antennas."
   ]
  },
  {
   "cell_type": "code",
   "execution_count": 4,
   "metadata": {},
   "outputs": [],
   "source": [
    "n_ant = 24\n",
    "m_0 = np.zeros(24)\n",
    "m_ij = np.zeros((24,24))\n",
    "\n",
    "radius = data.loc[0]\n",
    "\n",
    "for i in range(24):\n",
    "    m_ij[i,:] = data.loc[i+1]"
   ]
  },
  {
   "cell_type": "markdown",
   "metadata": {},
   "source": [
    "The following are the measured distances from [x1, x0, x2] from the reference points in millimeters. Note that their order must be the same as the order of the variable called 'reference_points'. In this case, they are x1,x0,x2."
   ]
  },
  {
   "cell_type": "code",
   "execution_count": 5,
   "metadata": {},
   "outputs": [
    {
     "data": {
      "text/plain": [
       "array([[   0.,  198.,  509.,  756.,  365.,  872., 1054., 1225., 1489.,\n",
       "        1656., 1984., 2183., 1047., 1189., 1718., 2026., 2187., 2506.,\n",
       "        1027., 1372., 1691., 1814., 1969., 2192.],\n",
       "       [ 198.,    0.,  673.,  894.,  545., 1021.,  855., 1027., 1293.,\n",
       "        1459., 1790., 1981., 1170., 1313., 1831., 2132., 2293., 2613.,\n",
       "        1173., 1506., 1823., 1945., 2098., 2316.],\n",
       "       [ 509.,  673.,    0.,  258.,  524., 1001., 1467., 1634., 1893.,\n",
       "        2056., 2384., 2575.,  557.,  701., 1234., 1541., 1705., 2026.,\n",
       "        1152., 1488., 1807., 1928., 2082., 2305.],\n",
       "       [ 756.,  894.,  258.,    0.,  772., 1214., 1639., 1802., 2054.,\n",
       "        2213., 2534., 2721.,  299.,  444.,  976., 1284., 1447., 1768.,\n",
       "        1357., 1682., 1992., 2113., 2261., 2479.],\n",
       "       [ 365.,  545.,  524.,  772.,    0.,  535., 1385., 1558., 1819.,\n",
       "        1984., 2312., 2507., 1066., 1209., 1735., 2042., 2205., 2525.,\n",
       "         697., 1042., 1366., 1490., 1644., 1867.],\n",
       "       [ 872., 1021., 1001., 1214.,  535.,    0., 1775., 1938., 2187.,\n",
       "        2348., 2668., 2859., 1477., 1608., 2109., 2405., 2562., 2873.,\n",
       "         159.,  507.,  831.,  956., 1109., 1333.],\n",
       "       [1054.,  855., 1467., 1639., 1385., 1775.,    0.,  172.,  437.,\n",
       "         600.,  931., 1127., 1866., 1982., 2437., 2710., 2860., 3157.,\n",
       "        1905., 2199., 2484., 2598., 2740., 2946.],\n",
       "       [1225., 1027., 1634., 1802., 1558., 1938.,  172.,    0.,  264.,\n",
       "         432.,  758.,  955., 2016., 2133., 2577., 2846., 2991., 3285.,\n",
       "        2065., 2355., 2636., 2745., 2887., 3088.],\n",
       "       [1489., 1293., 1893., 2054., 1819., 2187.,  437.,  264.,    0.,\n",
       "         164.,  492.,  692., 2262., 2364., 2792., 3058., 3198., 3484.,\n",
       "        2314., 2593., 2867., 2971., 3112., 3307.],\n",
       "       [1656., 1459., 2056., 2213., 1984., 2348.,  600.,  432.,  164.,\n",
       "           0.,  328.,  523., 2417., 2522., 2935., 3195., 3335., 3613.,\n",
       "        2469., 2742., 3013., 3118., 3254., 3447.],\n",
       "       [1984., 1790., 2384., 2534., 2312., 2668.,  931.,  758.,  492.,\n",
       "         328.,    0.,  193., 2725., 2827., 3226., 3474., 3609., 3884.,\n",
       "        2785., 3047., 3307., 3414., 3548., 3737.],\n",
       "       [2183., 1981., 2575., 2721., 2507., 2859., 1127.,  955.,  692.,\n",
       "         523.,  193.,    0., 2913., 3011., 3404., 3647., 3778., 4048.,\n",
       "        2976., 3236., 3493., 3595., 3723., 3913.],\n",
       "       [1047., 1170.,  557.,  299., 1066., 1477., 1866., 2016., 2262.,\n",
       "        2417., 2725., 2913.,    0.,  143.,  675.,  978., 1144., 1463.,\n",
       "        1618., 1924., 2223., 2338., 2487.,   nan],\n",
       "       [1189., 1313.,  701.,  444., 1209., 1608., 1982., 2133., 2364.,\n",
       "        2522., 2827., 3011.,  143.,    0.,   nan,   nan,   nan,   nan,\n",
       "          nan,   nan,   nan,   nan,   nan,   nan],\n",
       "       [1718., 1831., 1234.,  976., 1735., 2109., 2437., 2577., 2792.,\n",
       "        2935., 3226., 3404.,  675.,   nan,    0.,   nan,   nan,   nan,\n",
       "          nan,   nan,   nan,   nan,   nan,   nan],\n",
       "       [2026., 2132., 1541., 1284., 2042., 2405., 2710., 2846., 3058.,\n",
       "        3195., 3474., 3647.,  978.,   nan,   nan,    0.,   nan,   nan,\n",
       "          nan,   nan,   nan,   nan,   nan,   nan],\n",
       "       [2187., 2293., 1705., 1447., 2205., 2562., 2860., 2991., 3198.,\n",
       "        3335., 3609., 3778., 1144.,   nan,   nan,   nan,    0.,   nan,\n",
       "          nan,   nan,   nan,   nan,   nan,   nan],\n",
       "       [2506., 2613., 2026., 1768., 2525., 2873., 3157., 3285., 3484.,\n",
       "        3613., 3884., 4048., 1463.,   nan,   nan,   nan,   nan,    0.,\n",
       "          nan,   nan,   nan,   nan,   nan,   nan],\n",
       "       [1027., 1173., 1152., 1357.,  697.,  159., 1905., 2065., 2314.,\n",
       "        2469., 2785., 2976., 1618.,   nan,   nan,   nan,   nan,   nan,\n",
       "           0.,   nan,   nan,   nan,   nan,   nan],\n",
       "       [1372., 1506., 1488., 1682., 1042.,  507., 2199., 2355., 2593.,\n",
       "        2742., 3047., 3236., 1924.,   nan,   nan,   nan,   nan,   nan,\n",
       "          nan,    0.,   nan,   nan,   nan,   nan],\n",
       "       [1691., 1823., 1807., 1992., 1366.,  831., 2484., 2636., 2867.,\n",
       "        3013., 3307., 3493., 2223.,   nan,   nan,   nan,   nan,   nan,\n",
       "          nan,   nan,    0.,   nan,   nan,   nan],\n",
       "       [1814., 1945., 1928., 2113., 1490.,  956., 2598., 2745., 2971.,\n",
       "        3118., 3414., 3595., 2338.,   nan,   nan,   nan,   nan,   nan,\n",
       "          nan,   nan,   nan,    0.,   nan,   nan],\n",
       "       [1969., 2098., 2082., 2261., 1644., 1109., 2740., 2887., 3112.,\n",
       "        3254., 3548., 3723., 2487.,   nan,   nan,   nan,   nan,   nan,\n",
       "          nan,   nan,   nan,   nan,    0.,   nan],\n",
       "       [2192., 2316., 2305., 2479., 1867., 1333., 2946., 3088., 3307.,\n",
       "        3447., 3737., 3913.,   nan,   nan,   nan,   nan,   nan,   nan,\n",
       "          nan,   nan,   nan,   nan,   nan,    0.]])"
      ]
     },
     "execution_count": 5,
     "metadata": {},
     "output_type": "execute_result"
    }
   ],
   "source": [
    "for i in range(n_ant):\n",
    "    for j in range(n_ant):\n",
    "        if not np.isnan(m_ij[i,j]):\n",
    "            m_ij[j,i] = m_ij[i,j]\n",
    "\n",
    "m_ij\n"
   ]
  },
  {
   "cell_type": "code",
   "execution_count": 6,
   "metadata": {},
   "outputs": [
    {
     "data": {
      "text/plain": [
       "A 0      210.0\n",
       "A 1      410.0\n",
       "A 2      384.0\n",
       "A 3      638.0\n",
       "A 4      212.0\n",
       "A 5      753.0\n",
       "A 6     1261.0\n",
       "A 7     1436.0\n",
       "A 8     1707.0\n",
       "A 9     1864.0\n",
       "A 10    2199.0\n",
       "A 11    2386.0\n",
       "A 12     937.0\n",
       "A 13    1084.0\n",
       "A 14    1621.0\n",
       "A 15    1924.0\n",
       "A 16    2091.0\n",
       "A 17    2408.0\n",
       "A 18     914.0\n",
       "A 19    1254.0\n",
       "A 20    1575.0\n",
       "A 21    1696.0\n",
       "A 22    1856.0\n",
       "A 23    2076.0\n",
       "Name: 0, dtype: float64"
      ]
     },
     "execution_count": 6,
     "metadata": {},
     "output_type": "execute_result"
    }
   ],
   "source": [
    "radius"
   ]
  },
  {
   "cell_type": "markdown",
   "metadata": {},
   "source": [
    "## Plot the Initial Guess Points\n",
    "\n",
    "Initial Guesses are from JSON queried from the telescope API. These are converted to millimeters."
   ]
  },
  {
   "cell_type": "code",
   "execution_count": 7,
   "metadata": {
    "scrolled": true
   },
   "outputs": [],
   "source": [
    "import requests\n",
    "import json\n",
    "\n",
    "def get_data(path):\n",
    "    server = \"https://tart.elec.ac.nz/rhodes\"\n",
    "\n",
    "    r = requests.get('{}/{}'.format(server, path))\n",
    "    return json.loads(r.text)\n",
    "\n",
    "def get_pos():\n",
    "    return np.array(get_data('api/v1/imaging/antenna_positions'))\n",
    "\n",
    "if False:\n",
    "    with open('calibration_data.json', \"r\") as f:\n",
    "        data = f.read()\n",
    "    cal_json = json.loads(data)\n",
    "    current_pos = cal_json['ant_pos'] # get_pos()\n",
    "else:\n",
    "    current_pos = get_pos()\n",
    "\n",
    "\n",
    "current_pos = np.array(current_pos)\n"
   ]
  },
  {
   "cell_type": "code",
   "execution_count": 8,
   "metadata": {},
   "outputs": [
    {
     "name": "stdout",
     "output_type": "stream",
     "text": [
      "0.0 210.3682210217377\n",
      "0.0 408.94463668496695\n",
      "336.5217109276881 -194.29090039225414\n",
      "551.9521494344621 -318.6697220557791\n",
      "-181.86395484866577 -104.99920328776716\n",
      "-650.5866603031461 -375.61638345720115\n",
      "0.0 1267.4713276669354\n",
      "0.0 1444.0389909511996\n",
      "0.0 1710.1964824183096\n",
      "0.0 1860.515290235969\n",
      "0.0 2201.4358657407315\n",
      "0.0 2385.8293756103426\n",
      "815.9459560468532 -471.0866173678371\n",
      "943.0748212672769 -544.4845019246204\n",
      "1402.4770514974723 -809.7205032143381\n",
      "1668.724062605548 -963.4382867485189\n",
      "1809.4305611471693 -1044.6752215582535\n",
      "2084.00692492512 -1203.201959098562\n",
      "-787.4131193073963 -454.6131763955683\n",
      "-1083.9902859240754 -625.8420833772044\n",
      "-1363.9174061185142 -787.4580815749406\n",
      "-1465.9823431575373 -846.3853004492429\n",
      "-1608.7564431272458 -928.8159655000605\n",
      "-1800.0453836437807 -1039.2566868002802\n"
     ]
    },
    {
     "data": {
      "image/png": "[encoded data removed]",
      "text/plain": [
       "<Figure size 864x864 with 1 Axes>"
      ]
     },
     "metadata": {
      "needs_background": "light"
     },
     "output_type": "display_data"
    }
   ],
   "source": [
    "def i_y(i):\n",
    "    return 2*i+1\n",
    "\n",
    "def i_x(i):\n",
    "    return 2*i\n",
    "\n",
    "\n",
    "initial_guess = np.zeros(2*n_ant)\n",
    "\n",
    "for i in range(n_ant):\n",
    "    x,y = current_pos[i][0:2]*1000\n",
    "    initial_guess[i_x(i)] = x\n",
    "    initial_guess[i_y(i)] = y\n",
    "    \n",
    "    print(x,y)\n",
    "initial_guess\n",
    "\n",
    "pos_i = current_pos*1000\n",
    "import matplotlib.pyplot as plt\n",
    "\n",
    "fig, ax = plt.subplots(figsize=(12,12))\n",
    "\n",
    "ax.scatter(pos_i[:,0], pos_i[:,1])\n",
    "for i in range(0,pos_i.shape[0]):\n",
    "    ax.text(pos_i[i,0], pos_i[i,1],f\"{i}\")\n",
    "\n",
    "ax.grid(True)\n",
    "ax.set_title('Initial positions')\n",
    "ax.set_xlabel('x (mm)')\n",
    "ax.set_ylabel('y (mm)')\n",
    "plt.savefig('initial_positions.png')\n",
    "plt.show()"
   ]
  },
  {
   "cell_type": "markdown",
   "metadata": {},
   "source": [
    "## Criteria for Optimality\n",
    "\n",
    "The function below is minimized when the positions (in variable x) are consistent with the measured distances m[i,j]. The initial value of this function is more than 3 million.\n",
    "\n",
    "Note that the x input is a 1D vector of with 48 entries as [p0.x, p0.y, p1.x, p1.y]"
   ]
  },
  {
   "cell_type": "code",
   "execution_count": 9,
   "metadata": {},
   "outputs": [
    {
     "name": "stdout",
     "output_type": "stream",
     "text": [
      "617089.0794364027\n"
     ]
    },
    {
     "data": {
      "text/plain": [
       "      fun: 24659.599201564626\n",
       " hess_inv: <48x48 LbfgsInvHessProduct with dtype=float64>\n",
       "      jac: array([ 2.54658495e-03,  2.91038074e-03,  1.09139355e-03,  0.00000000e+00,\n",
       "        4.00177351e-03, -3.63797592e-03,  1.23691181e-02,  7.27595184e-04,\n",
       "        8.00354703e-03,  7.27596218e-04, -4.36557111e-03, -5.45696388e-03,\n",
       "        7.27595701e-03,  2.61937244e-02,  7.27595701e-04, -9.82264666e-03,\n",
       "        0.00000000e+00, -8.00363802e-03,  4.00177636e-03,  2.54661210e-03,\n",
       "       -1.09139355e-03,  5.82082765e-03, -3.96692487e+02, -3.49249659e-02,\n",
       "       -7.63974943e-03,  0.00000000e+00, -1.09139278e-03,  4.00177351e-03,\n",
       "        0.00000000e+00, -6.08196814e+00, -5.09322419e-03, -1.13349871e+02,\n",
       "       -1.38244657e-02, -1.66170007e+02, -6.54843111e-03, -2.05306412e+02,\n",
       "       -5.09316629e-03,  1.09139278e-03,  2.18281037e-03, -2.91038074e-03,\n",
       "        2.18281037e-03,  4.36557111e-03, -4.72942246e-03,  2.18278555e-03,\n",
       "        1.09140518e-03, -1.52794989e-02,  3.63801728e-04,  7.27603456e-04])\n",
       "  message: 'CONVERGENCE: REL_REDUCTION_OF_F_<=_FACTR*EPSMCH'\n",
       "     nfev: 2548\n",
       "      nit: 48\n",
       "     njev: 52\n",
       "   status: 0\n",
       "  success: True\n",
       "        x: array([-1.58889282e+01,  1.88610739e+02, -1.07248997e+01,  3.86943543e+02,\n",
       "        3.24404347e+02, -1.92435299e+02,  5.55915092e+02, -3.05658563e+02,\n",
       "       -1.95685105e+02, -1.27521180e+02, -6.55268373e+02, -4.03169018e+02,\n",
       "        1.35500104e+01,  1.23952584e+03,  2.07661837e+01,  1.41204605e+03,\n",
       "        2.98117746e+01,  1.67538611e+03,  3.22257304e+01,  1.84062637e+03,\n",
       "        4.10906032e+01,  2.16968738e+03,  2.00000000e+00,  2.36524006e+03,\n",
       "        8.24946887e+02, -4.37741183e+02,  9.52905072e+02, -5.03179648e+02,\n",
       "        1.43005529e+03, -7.39720503e+02,  1.69301964e+03, -8.93438287e+02,\n",
       "        1.83309789e+03, -9.74675222e+02,  2.10939084e+03, -1.13320196e+03,\n",
       "       -7.87902786e+02, -4.90835875e+02, -1.08452653e+03, -6.68046420e+02,\n",
       "       -1.36268503e+03, -8.32944955e+02, -1.46852179e+03, -8.96909634e+02,\n",
       "       -1.60070704e+03, -9.78832215e+02, -1.79362300e+03, -1.09020663e+03])"
      ]
     },
     "execution_count": 9,
     "metadata": {},
     "output_type": "execute_result"
    }
   ],
   "source": [
    "def dist(a,b):\n",
    "    return np.sqrt((a[0]-b[0])**2 + (a[1]-b[1])**2)\n",
    "\n",
    "\n",
    "def p(x, i):\n",
    "    return [x[i_x(i)],x[i_y(i)]]\n",
    "\n",
    "max_err = 70\n",
    "def bounds():\n",
    "    ret = [(0,0)]*48\n",
    "    for i in range(24):\n",
    "        _x,_y = pos_i[i,0], pos_i[i,1]\n",
    "        ret[i_x(i)] = (_x - max_err, _x + max_err)\n",
    "        ret[i_y(i)] = (_y - max_err, _y + max_err)\n",
    "    # x-component of the north arm set to zero.\n",
    "    for i in [11]: # 0,1,6,7,8,9,10,11]:\n",
    "        xval = pos_i[i,0]\n",
    "        ret[i_x(i)] = ( - 2, + 2)\n",
    "    \n",
    "    return ret\n",
    "\n",
    "bnd = bounds()\n",
    "\n",
    "center = [0,0]\n",
    "\n",
    "def radius_model(x):\n",
    "    ret = []\n",
    "    \n",
    "    for i in range(n_ant):\n",
    "        p_i = p(x,i)\n",
    "        ret.append(dist(center, p_i))\n",
    "        \n",
    "    return np.array(ret)\n",
    "\n",
    "non_nan_ij = []\n",
    "for i in range(n_ant):\n",
    "    for j in range(n_ant):\n",
    "        if not np.isnan(m_ij[i,j]):\n",
    "            non_nan_ij.append(m_ij[i,j])\n",
    "non_nan_ij = np.array(non_nan_ij)    \n",
    "\n",
    "def m_ij_model(x):\n",
    "    ret = []\n",
    "    for i in range(n_ant):\n",
    "        p_i = p(x,i)\n",
    "\n",
    "        for j in range(n_ant):\n",
    "            p_j = p(x,j)\n",
    "            if not np.isnan(m_ij[i,j]):\n",
    "                ret.append(dist(p_j, p_i))\n",
    "                \n",
    "    return np.array(ret)\n",
    "    \n",
    "def radius_residual(x):\n",
    "    predict = radius_model(x)\n",
    "    return predict - radius\n",
    "\n",
    "def m_ij_residual(x):\n",
    "    predict = m_ij_model(x)\n",
    "    return predict - non_nan_ij\n",
    "\n",
    "\n",
    "def f(x):\n",
    "    ret = 0\n",
    "    for i in range(n_ant):\n",
    "        p_i = p(x,i)\n",
    "        ret += (dist(center, p_i) - m_0[i])**2\n",
    "        for j in range(n_ant):\n",
    "            p_j = p(x,j)\n",
    "            if not np.isnan(m_ij[i,j]):\n",
    "                ret += (dist(p_j, p_i) - m_ij[i,j])**2\n",
    "    return ret\n",
    "\n",
    "def f(x):\n",
    "    ret = np.sum(radius_residual(x)**2)\n",
    "    ret += np.sum(m_ij_residual(x)**2)\n",
    "    return ret\n",
    "\n",
    "#for i in range(48):\n",
    "#    print(bnd[i])\n",
    "print(f(initial_guess))\n",
    "res = minimize(f, initial_guess, bounds=bnd)\n",
    "res"
   ]
  },
  {
   "cell_type": "code",
   "execution_count": 10,
   "metadata": {},
   "outputs": [
    {
     "name": "stdout",
     "output_type": "stream",
     "text": [
      "Ant 0:\tJac: 0.00\n",
      "Ant 1:\tJac: 0.00\n",
      "Ant 2:\tJac: 0.01\n",
      "Ant 3:\tJac: 0.01\n",
      "Ant 4:\tJac: 0.01\n",
      "Ant 5:\tJac: 0.01\n",
      "Ant 6:\tJac: 0.03\n",
      "Ant 7:\tJac: 0.01\n",
      "Ant 8:\tJac: 0.01\n",
      "Ant 9:\tJac: 0.00\n",
      "Ant 10:\tJac: 0.01\n",
      "Ant 11:\tJac: 396.69\n",
      "Ant 12:\tJac: 0.01\n",
      "Ant 13:\tJac: 0.00\n",
      "Ant 14:\tJac: 6.08\n",
      "Ant 15:\tJac: 113.35\n",
      "Ant 16:\tJac: 166.17\n",
      "Ant 17:\tJac: 205.31\n",
      "Ant 18:\tJac: 0.01\n",
      "Ant 19:\tJac: 0.00\n",
      "Ant 20:\tJac: 0.00\n",
      "Ant 21:\tJac: 0.01\n",
      "Ant 22:\tJac: 0.02\n",
      "Ant 23:\tJac: 0.00\n"
     ]
    }
   ],
   "source": [
    "err = res.jac.reshape((24,2))\n",
    "rms = np.sqrt(np.sum(err**2, axis=1))\n",
    "for i in range(24):\n",
    "    print(f\"Ant {i}:\\tJac: {rms[i]:4.2f}\")"
   ]
  },
  {
   "cell_type": "markdown",
   "metadata": {},
   "source": [
    "The optimized positions are now known. The final value of the function is 32. Far closer to zero than 3 million!\n",
    "\n",
    "We can recover the x,y coordinates by reshaping the array"
   ]
  },
  {
   "cell_type": "code",
   "execution_count": 11,
   "metadata": {},
   "outputs": [
    {
     "data": {
      "text/plain": [
       "array([[-1.58889282e+01,  1.88610739e+02],\n",
       "       [-1.07248997e+01,  3.86943543e+02],\n",
       "       [ 3.24404347e+02, -1.92435299e+02],\n",
       "       [ 5.55915092e+02, -3.05658563e+02],\n",
       "       [-1.95685105e+02, -1.27521180e+02],\n",
       "       [-6.55268373e+02, -4.03169018e+02],\n",
       "       [ 1.35500104e+01,  1.23952584e+03],\n",
       "       [ 2.07661837e+01,  1.41204605e+03],\n",
       "       [ 2.98117746e+01,  1.67538611e+03],\n",
       "       [ 3.22257304e+01,  1.84062637e+03],\n",
       "       [ 4.10906032e+01,  2.16968738e+03],\n",
       "       [ 2.00000000e+00,  2.36524006e+03],\n",
       "       [ 8.24946887e+02, -4.37741183e+02],\n",
       "       [ 9.52905072e+02, -5.03179648e+02],\n",
       "       [ 1.43005529e+03, -7.39720503e+02],\n",
       "       [ 1.69301964e+03, -8.93438287e+02],\n",
       "       [ 1.83309789e+03, -9.74675222e+02],\n",
       "       [ 2.10939084e+03, -1.13320196e+03],\n",
       "       [-7.87902786e+02, -4.90835875e+02],\n",
       "       [-1.08452653e+03, -6.68046420e+02],\n",
       "       [-1.36268503e+03, -8.32944955e+02],\n",
       "       [-1.46852179e+03, -8.96909634e+02],\n",
       "       [-1.60070704e+03, -9.78832215e+02],\n",
       "       [-1.79362300e+03, -1.09020663e+03]])"
      ]
     },
     "execution_count": 11,
     "metadata": {},
     "output_type": "execute_result"
    }
   ],
   "source": [
    "pos = res.x.reshape((24,2))\n",
    "pos"
   ]
  },
  {
   "cell_type": "code",
   "execution_count": 12,
   "metadata": {},
   "outputs": [
    {
     "data": {
      "image/png": "[encoded data removed]",
      "text/plain": [
       "<Figure size 864x864 with 1 Axes>"
      ]
     },
     "metadata": {
      "needs_background": "light"
     },
     "output_type": "display_data"
    }
   ],
   "source": [
    "fig, ax = plt.subplots(figsize=(12,12))\n",
    "\n",
    "ax.scatter(pos_i[:,0], pos_i[:,1], label='initial')\n",
    "ax.scatter(pos[:,0], pos[:,1], label='final')\n",
    "\n",
    "ax.grid(True)\n",
    "ax.set_title('Final Solution')\n",
    "ax.set_xlabel('x (mm)')\n",
    "ax.set_ylabel('y (mm)')\n",
    "ax.legend()\n",
    "plt.savefig('final_positions.png')\n",
    "plt.show()"
   ]
  },
  {
   "cell_type": "code",
   "execution_count": 13,
   "metadata": {},
   "outputs": [
    {
     "data": {
      "image/png": "[encoded data removed]",
      "text/plain": [
       "<Figure size 864x864 with 1 Axes>"
      ]
     },
     "metadata": {
      "needs_background": "light"
     },
     "output_type": "display_data"
    }
   ],
   "source": [
    "# Differences plot\n",
    "diff = pos - pos_i[:,0:2]\n",
    "\n",
    "\n",
    "fig, ax = plt.subplots(figsize=(12,12))\n",
    "\n",
    "ax.scatter(diff[:,0], diff[:,1], color='red')\n",
    "\n",
    "for i in range(0,diff.shape[0]):\n",
    "    ax.text(diff[i,0], diff[i,1],f\"{i}\")\n",
    "\n",
    "ax.grid(True)\n",
    "ax.set_title(\"Differences from initial position\")\n",
    "ax.set_xlabel('x (mm)')\n",
    "ax.set_xlabel('y (mm)')\n",
    "plt.savefig('differences.png')\n",
    "plt.show()"
   ]
  },
  {
   "cell_type": "code",
   "execution_count": 14,
   "metadata": {},
   "outputs": [
    {
     "data": {
      "text/plain": [
       "A 0    -20.721187\n",
       "A 1    -22.907855\n",
       "A 2     -6.813673\n",
       "A 3     -3.595754\n",
       "A 4     21.568644\n",
       "A 5     16.364607\n",
       "A 6    -21.400097\n",
       "A 7    -23.801262\n",
       "A 8    -31.348676\n",
       "A 9    -23.091550\n",
       "A 10   -28.923558\n",
       "A 11   -20.759095\n",
       "A 12    -3.107763\n",
       "A 13    -6.401821\n",
       "A 14   -10.955104\n",
       "A 15    -9.699224\n",
       "A 16   -14.888330\n",
       "A 17   -13.490360\n",
       "A 18    14.283716\n",
       "A 19    19.767567\n",
       "A 20    22.093547\n",
       "A 21    24.756562\n",
       "A 22    20.266383\n",
       "A 23    22.960209\n",
       "Name: 0, dtype: float64"
      ]
     },
     "execution_count": 14,
     "metadata": {},
     "output_type": "execute_result"
    }
   ],
   "source": [
    "# Residual plot\n",
    "rres = radius_residual(res.x)\n",
    "rres"
   ]
  },
  {
   "cell_type": "code",
   "execution_count": 15,
   "metadata": {},
   "outputs": [
    {
     "data": {
      "image/png": "[encoded data removed]",
      "text/plain": [
       "<Figure size 432x288 with 1 Axes>"
      ]
     },
     "metadata": {
      "needs_background": "light"
     },
     "output_type": "display_data"
    }
   ],
   "source": [
    "# ij resdual\n",
    "ijres = m_ij_residual(res.x)\n",
    "plt.hist(ijres, bins='fd');\n",
    "plt.title(\"Histogram of residuals\")\n",
    "plt.xlabel(\"Residual (mm)\")\n",
    "plt.grid(True)\n",
    "plt.savefig(\"residual_histogram.png\")"
   ]
  },
  {
   "cell_type": "markdown",
   "metadata": {},
   "source": [
    "The API expects 3D coordinates (with a z value which is zero in this case). Therefore we add a column of zeros."
   ]
  },
  {
   "cell_type": "code",
   "execution_count": 16,
   "metadata": {},
   "outputs": [
    {
     "data": {
      "text/plain": [
       "array([[-1.600e-02,  1.890e-01,  0.000e+00],\n",
       "       [-1.100e-02,  3.870e-01,  0.000e+00],\n",
       "       [ 3.240e-01, -1.920e-01,  0.000e+00],\n",
       "       [ 5.560e-01, -3.060e-01,  0.000e+00],\n",
       "       [-1.960e-01, -1.280e-01,  0.000e+00],\n",
       "       [-6.550e-01, -4.030e-01,  0.000e+00],\n",
       "       [ 1.400e-02,  1.240e+00,  0.000e+00],\n",
       "       [ 2.100e-02,  1.412e+00,  0.000e+00],\n",
       "       [ 3.000e-02,  1.675e+00,  0.000e+00],\n",
       "       [ 3.200e-02,  1.841e+00,  0.000e+00],\n",
       "       [ 4.100e-02,  2.170e+00,  0.000e+00],\n",
       "       [ 2.000e-03,  2.365e+00,  0.000e+00],\n",
       "       [ 8.250e-01, -4.380e-01,  0.000e+00],\n",
       "       [ 9.530e-01, -5.030e-01,  0.000e+00],\n",
       "       [ 1.430e+00, -7.400e-01,  0.000e+00],\n",
       "       [ 1.693e+00, -8.930e-01,  0.000e+00],\n",
       "       [ 1.833e+00, -9.750e-01,  0.000e+00],\n",
       "       [ 2.109e+00, -1.133e+00,  0.000e+00],\n",
       "       [-7.880e-01, -4.910e-01,  0.000e+00],\n",
       "       [-1.085e+00, -6.680e-01,  0.000e+00],\n",
       "       [-1.363e+00, -8.330e-01,  0.000e+00],\n",
       "       [-1.469e+00, -8.970e-01,  0.000e+00],\n",
       "       [-1.601e+00, -9.790e-01,  0.000e+00],\n",
       "       [-1.794e+00, -1.090e+00,  0.000e+00]])"
      ]
     },
     "execution_count": 16,
     "metadata": {},
     "output_type": "execute_result"
    }
   ],
   "source": [
    "result = np.zeros((n_ant, 3))\n",
    "result[:,:-1] = np.round(pos/1000.0, 3)\n",
    "result"
   ]
  },
  {
   "cell_type": "code",
   "execution_count": 17,
   "metadata": {},
   "outputs": [
    {
     "name": "stdout",
     "output_type": "stream",
     "text": [
      "{\n",
      "    \"antenna_positions\": [\n",
      "        [\n",
      "            -0.016,\n",
      "            0.189,\n",
      "            0.0\n",
      "        ],\n",
      "        [\n",
      "            -0.011,\n",
      "            0.387,\n",
      "            0.0\n",
      "        ],\n",
      "        [\n",
      "            0.324,\n",
      "            -0.192,\n",
      "            0.0\n",
      "        ],\n",
      "        [\n",
      "            0.556,\n",
      "            -0.306,\n",
      "            0.0\n",
      "        ],\n",
      "        [\n",
      "            -0.196,\n",
      "            -0.128,\n",
      "            0.0\n",
      "        ],\n",
      "        [\n",
      "            -0.655,\n",
      "            -0.403,\n",
      "            0.0\n",
      "        ],\n",
      "        [\n",
      "            0.014,\n",
      "            1.24,\n",
      "            0.0\n",
      "        ],\n",
      "        [\n",
      "            0.021,\n",
      "            1.412,\n",
      "            0.0\n",
      "        ],\n",
      "        [\n",
      "            0.03,\n",
      "            1.675,\n",
      "            0.0\n",
      "        ],\n",
      "        [\n",
      "            0.032,\n",
      "            1.841,\n",
      "            0.0\n",
      "        ],\n",
      "        [\n",
      "            0.041,\n",
      "            2.17,\n",
      "            0.0\n",
      "        ],\n",
      "        [\n",
      "            0.002,\n",
      "            2.365,\n",
      "            0.0\n",
      "        ],\n",
      "        [\n",
      "            0.825,\n",
      "            -0.438,\n",
      "            0.0\n",
      "        ],\n",
      "        [\n",
      "            0.953,\n",
      "            -0.503,\n",
      "            0.0\n",
      "        ],\n",
      "        [\n",
      "            1.43,\n",
      "            -0.74,\n",
      "            0.0\n",
      "        ],\n",
      "        [\n",
      "            1.693,\n",
      "            -0.893,\n",
      "            0.0\n",
      "        ],\n",
      "        [\n",
      "            1.833,\n",
      "            -0.975,\n",
      "            0.0\n",
      "        ],\n",
      "        [\n",
      "            2.109,\n",
      "            -1.133,\n",
      "            0.0\n",
      "        ],\n",
      "        [\n",
      "            -0.788,\n",
      "            -0.491,\n",
      "            0.0\n",
      "        ],\n",
      "        [\n",
      "            -1.085,\n",
      "            -0.668,\n",
      "            0.0\n",
      "        ],\n",
      "        [\n",
      "            -1.363,\n",
      "            -0.833,\n",
      "            0.0\n",
      "        ],\n",
      "        [\n",
      "            -1.469,\n",
      "            -0.897,\n",
      "            0.0\n",
      "        ],\n",
      "        [\n",
      "            -1.601,\n",
      "            -0.979,\n",
      "            0.0\n",
      "        ],\n",
      "        [\n",
      "            -1.794,\n",
      "            -1.09,\n",
      "            0.0\n",
      "        ]\n",
      "    ]\n",
      "}\n"
     ]
    }
   ],
   "source": [
    "json_result = {}\n",
    "json_result[\"antenna_positions\"] = result.tolist()\n",
    "print(json.dumps(json_result, indent=4, separators=(',', ': ')))"
   ]
  },
  {
   "cell_type": "markdown",
   "metadata": {
    "collapsed": true
   },
   "source": [
    "The position file above is in a format suitable for uploading to the telescope api. Also for using as the calibrated_antenna_positions.json file in TART/software/containers/telescope_web_api/config_data.\n",
    "\n",
    "\n",
    "    tart_upload_antenna_positions --api https://tart.elec.ac.nz/rhodes --pw=xxxx --file rhodes_antenna_positions.json\n"
   ]
  },
  {
   "cell_type": "code",
   "execution_count": null,
   "metadata": {},
   "outputs": [],
   "source": []
  }
 ],
 "metadata": {
  "kernelspec": {
   "display_name": "Python 3 (ipykernel)",
   "language": "python",
   "name": "python3"
  },
  "language_info": {
   "codemirror_mode": {
    "name": "ipython",
    "version": 3
   },
   "file_extension": ".py",
   "mimetype": "text/x-python",
   "name": "python",
   "nbconvert_exporter": "python",
   "pygments_lexer": "ipython3",
   "version": "3.10.5"
  }
 },
 "nbformat": 4,
 "nbformat_minor": 2
}
