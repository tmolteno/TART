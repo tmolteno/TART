{
 "cells": [
  {
   "cell_type": "markdown",
   "id": "4c2b3331",
   "metadata": {},
   "source": [
    "# Calibrating the global orientation of the TART\n",
    "\n",
    "Author: Tim Molteno tim@elec.ac.nz\n",
    "\n",
    "We use google maps to do this and find an arm that aligns closely to a distant landmark."
   ]
  },
  {
   "cell_type": "code",
   "execution_count": 1,
   "id": "efc7d92c",
   "metadata": {},
   "outputs": [],
   "source": [
    "import numpy as np\n",
    "\n",
    "from astropy.coordinates import EarthLocation, position_angle\n",
    "\n",
    "cargill = [-45.812575, 170.565170];\n",
    "tart = [-45.851825, 170.545451]; \n",
    "\n",
    "tart_loc = EarthLocation.from_geodetic(lon=tart[1], lat=tart[0])\n",
    "\n",
    "cargill_loc = EarthLocation.from_geodetic(lon=cargill[1], lat=cargill[0])\n"
   ]
  },
  {
   "cell_type": "code",
   "execution_count": 2,
   "id": "49d9fa0d",
   "metadata": {},
   "outputs": [],
   "source": [
    "'''\n",
    "const y = Math.sin(λ2-λ1) * Math.cos(φ2);\n",
    "const x = Math.cos(φ1)*Math.sin(φ2) -\n",
    "          Math.sin(φ1)*Math.cos(φ2)*Math.cos(λ2-λ1);\n",
    "const θ = Math.atan2(y, x);\n",
    "const brng = (θ*180/Math.PI + 360) % 360; // in degrees\n",
    "'''\n",
    "\n",
    "def angleFromCoordinate( lat1,  lon1,  lat2, lon2):\n",
    "\n",
    "    dLon = np.radians(lon2 - lon1)\n",
    "\n",
    "    l1r = np.radians(lat1)\n",
    "    l2r = np.radians(lat2)\n",
    "    \n",
    "    y = np.sin(dLon) * np.cos(l2r)\n",
    "    x = np.cos(l1r) * np.sin(l2r) - np.sin(l1r)*np.cos(l2r) \\\n",
    "        * np.cos(dLon)\n",
    "\n",
    "    brng = np.arctan2(y, x)\n",
    "\n",
    "    brng = np.degrees(brng)\n",
    "    brng = (brng + 360) % 360;\n",
    "    brng = 360 - brng; # count degrees counter-clockwise - remove to make clockwise\n",
    "\n",
    "    return brng"
   ]
  },
  {
   "cell_type": "code",
   "execution_count": 3,
   "id": "98f5d732",
   "metadata": {},
   "outputs": [],
   "source": [
    "import pyproj\n",
    "geodesic = pyproj.Geod(ellps='WGS84')\n",
    "\n",
    "def bearing(lat1,  lon1,  lat2, lon2):\n",
    "    fwd_azimuth,back_azimuth,distance = geodesic.inv(lon1, lat1, lon2, lat2)\n",
    "    return fwd_azimuth\n"
   ]
  },
  {
   "cell_type": "code",
   "execution_count": 4,
   "id": "88230b81",
   "metadata": {},
   "outputs": [],
   "source": [
    "ang_tart_cargill = bearing(lon1=tart[1], lat1=tart[0], lon2=cargill[1], lat2=cargill[0])\n",
    "\n",
    "# positive angles point west of geographic north. (clockwise)"
   ]
  },
  {
   "cell_type": "code",
   "execution_count": 5,
   "id": "e8c0112e",
   "metadata": {},
   "outputs": [
    {
     "data": {
      "text/plain": [
       "19.358094824603654"
      ]
     },
     "execution_count": 5,
     "metadata": {},
     "output_type": "execute_result"
    }
   ],
   "source": [
    "ang_tart_cargill"
   ]
  },
  {
   "cell_type": "code",
   "execution_count": 6,
   "id": "3a4fe893",
   "metadata": {},
   "outputs": [
    {
     "data": {
      "text/plain": [
       "-101.92133948345194"
      ]
     },
     "execution_count": 6,
     "metadata": {},
     "output_type": "execute_result"
    }
   ],
   "source": [
    "ang_tart_turbine"
   ]
  },
  {
   "cell_type": "code",
   "execution_count": 7,
   "id": "441cca73",
   "metadata": {},
   "outputs": [
    {
     "data": {
      "text/plain": [
       "101.17851999999999"
      ]
     },
     "execution_count": 7,
     "metadata": {},
     "output_type": "execute_result"
    }
   ],
   "source": [
    "360 - 258.82148"
   ]
  },
  {
   "cell_type": "markdown",
   "id": "473b1c92",
   "metadata": {},
   "source": [
    "## Calculating the rotation angle\n",
    "\n",
    "We need to find the angle that the array is rotated from geographic north. Start with the expected angle (positive angles point west of geographic north). In this case it is arm 5 that is expected to be 72 degrees"
   ]
  },
  {
   "cell_type": "code",
   "execution_count": 6,
   "id": "daefa522",
   "metadata": {},
   "outputs": [
    {
     "name": "stdout",
     "output_type": "stream",
     "text": [
      "expected angle 0\n",
      "actual angle 19.358094824603654\n"
     ]
    },
    {
     "data": {
      "text/plain": [
       "-19.358094824603654"
      ]
     },
     "execution_count": 6,
     "metadata": {},
     "output_type": "execute_result"
    }
   ],
   "source": [
    "expected_angle =  - (0)\n",
    "print(f\"expected angle {expected_angle}\")\n",
    "actual_angle = (ang_tart_cargill)\n",
    "print(f\"actual angle {actual_angle}\")\n",
    "rotation =  -(actual_angle - expected_angle)\n",
    "rotation"
   ]
  },
  {
   "cell_type": "markdown",
   "id": "e0388e1e",
   "metadata": {},
   "source": [
    "Now enter this information into the global_rotation field in the site survey notebook"
   ]
  },
  {
   "cell_type": "code",
   "execution_count": null,
   "id": "581acb28",
   "metadata": {},
   "outputs": [],
   "source": []
  }
 ],
 "metadata": {
  "kernelspec": {
   "display_name": "Python 3 (ipykernel)",
   "language": "python",
   "name": "python3"
  },
  "language_info": {
   "codemirror_mode": {
    "name": "ipython",
    "version": 3
   },
   "file_extension": ".py",
   "mimetype": "text/x-python",
   "name": "python",
   "nbconvert_exporter": "python",
   "pygments_lexer": "ipython3",
   "version": "3.11.6"
  }
 },
 "nbformat": 4,
 "nbformat_minor": 5
}
