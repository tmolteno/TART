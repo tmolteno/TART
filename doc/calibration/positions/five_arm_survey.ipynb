{
 "cells": [
  {
   "cell_type": "markdown",
   "metadata": {},
   "source": [
    "# Five-arm Antenna Position Calibration\n",
    "\n",
    "Author: Tim Molteno. tim@elec.ac.nz.\n",
    "\n",
    "The antennas are laid out on three arms which are placed approximately 120 degrees apart.  This notebook will use measurements to infer the actual layout of the antennas.\n",
    "\n",
    "Arm 1 will point geographically north (NOT magnetic). This arm forms the y-axis and will be used as a reference. We will assume that the x positions along this arm are approximately zero.\n",
    "\n",
    "The other reference point is the center of the array. This is assumed to be the point [0,0]. Make sure that a marker is present at this reference point at the same height as the level of the antennas (otherwise the distances will be wrong)."
   ]
  },
  {
   "cell_type": "code",
   "execution_count": 1,
   "metadata": {},
   "outputs": [],
   "source": [
    "import numpy as np\n",
    "from scipy.optimize import minimize "
   ]
  },
  {
   "cell_type": "code",
   "execution_count": 2,
   "metadata": {},
   "outputs": [],
   "source": [
    "x0 = [0,0]"
   ]
  },
  {
   "cell_type": "code",
   "execution_count": 3,
   "metadata": {},
   "outputs": [
    {
     "data": {
      "text/plain": [
       "A 0      695.0\n",
       "A 1     2555.0\n",
       "A 2     1120.0\n",
       "A 3     2045.0\n",
       "A 4     1730.0\n",
       "A 5     1813.0\n",
       "A 6     2575.0\n",
       "A 7      260.0\n",
       "A 8      565.0\n",
       "A 9      943.0\n",
       "A 10    2565.0\n",
       "A 11     680.0\n",
       "A 12    1530.0\n",
       "A 13    1204.0\n",
       "A 14    1944.0\n",
       "A 15     875.0\n",
       "A 16    2570.0\n",
       "A 17     350.0\n",
       "A 18    2285.0\n",
       "A 19    1280.0\n",
       "A 20    2530.0\n",
       "A 21    2233.0\n",
       "A 22    1810.0\n",
       "A 23    1283.0\n",
       "Name: 0, dtype: float64"
      ]
     },
     "execution_count": 3,
     "metadata": {},
     "output_type": "execute_result"
    }
   ],
   "source": [
    "# pip install pandas\n",
    "# pip install odfpy\n",
    "\n",
    "import pandas as pd\n",
    "\n",
    "#pd.read_excel('three_arm_measurements.ods', engine='odf')\n",
    "cols = [f\"A {i}\" for i in range(24)]\n",
    "data = pd.read_excel('antenna_measurements.ods', \"Sheet1\", usecols=cols)\n",
    "radius = data.loc[0]\n",
    "radius"
   ]
  },
  {
   "cell_type": "code",
   "execution_count": null,
   "metadata": {},
   "outputs": [],
   "source": []
  },
  {
   "cell_type": "markdown",
   "metadata": {},
   "source": [
    "## Finding the antennas\n",
    "\n",
    "This is done by measuring the distance from each antenna to x0 as well as each other antenna. The distance $m_0$ are the measurements to $x_0$. The array m_ij are the distances between antennas."
   ]
  },
  {
   "cell_type": "code",
   "execution_count": 4,
   "metadata": {},
   "outputs": [],
   "source": [
    "n_ant = 24\n",
    "m_0 = np.zeros(24)\n",
    "m_ij = np.zeros((24,24))\n",
    "\n",
    "radius = data.loc[0]\n",
    "\n",
    "for i in range(24):\n",
    "    m_ij[i,:] = data.loc[i+1]"
   ]
  },
  {
   "cell_type": "markdown",
   "metadata": {},
   "source": [
    "The following are the measured distances from [x1, x0, x2] from the reference points in millimeters. Note that their order must be the same as the order of the variable called 'reference_points'. In this case, they are x1,x0,x2."
   ]
  },
  {
   "cell_type": "code",
   "execution_count": 5,
   "metadata": {},
   "outputs": [
    {
     "data": {
      "text/plain": [
       "array([[   0., 1855.,  419., 1345., 1030., 1732., 2448.,  665.,  748.,\n",
       "         985., 3157., 1310., 2135., 1822., 2543., 1495., 3165., 1005.,\n",
       "        2883., 1890., 2402., 2120., 1724., 1253.],\n",
       "       [1855.,   nan,   nan,   nan,   nan,   nan, 3018.,   nan,   nan,\n",
       "          nan, 4872.,   nan,   nan,   nan,   nan,   nan, 4879.,   nan,\n",
       "          nan,   nan, 2975.,   nan,   nan,   nan],\n",
       "       [ 419.,   nan,   nan,   nan,   nan,   nan,   nan,   nan,   nan,\n",
       "          nan,   nan,   nan,   nan,   nan,   nan,   nan,   nan,   nan,\n",
       "        3255.,   nan,   nan,   nan,   nan,   nan],\n",
       "       [1345.,   nan,   nan,   nan,   nan,   nan,   nan,   nan,   nan,\n",
       "          nan,   nan,   nan,   nan,   nan,   nan,   nan,   nan,   nan,\n",
       "          nan,   nan,   nan,   nan,   nan,   nan],\n",
       "       [1030.,   nan,   nan,   nan,   nan,   nan,   nan,   nan,   nan,\n",
       "          nan,   nan,   nan,   nan,   nan, 3495.,   nan,   nan,   nan,\n",
       "          nan,   nan,   nan,   nan,   nan,   nan],\n",
       "       [1732.,   nan,   nan,   nan,   nan,   nan,   nan,   nan,   nan,\n",
       "          nan,   nan,   nan,   nan,   nan,   nan,   nan,   nan,   nan,\n",
       "          nan,   nan,   nan,   nan,   nan,   nan],\n",
       "       [2448., 3018.,   nan,   nan,   nan,   nan,   nan,   nan,   nan,\n",
       "          nan, 3025.,   nan,   nan,   nan,   nan,   nan,   nan,   nan,\n",
       "          nan,   nan, 4848.,   nan,   nan,   nan],\n",
       "       [ 665.,   nan,   nan,   nan,   nan,   nan,   nan,   nan,   nan,\n",
       "          nan,   nan,   nan,   nan,   nan,   nan,   nan,   nan,   nan,\n",
       "          nan,   nan,   nan,   nan,   nan,   nan],\n",
       "       [ 748.,   nan,   nan,   nan,   nan,   nan,   nan,   nan,   nan,\n",
       "          nan,   nan,   nan,   nan,   nan,   nan,   nan,   nan,   nan,\n",
       "          nan,   nan,   nan,   nan,   nan,   nan],\n",
       "       [ 985.,   nan,   nan,   nan,   nan,   nan,   nan,   nan,   nan,\n",
       "          nan,   nan,   nan,   nan,   nan,   nan,   nan,   nan,   nan,\n",
       "          nan,   nan,   nan,   nan,   nan,   nan],\n",
       "       [3157., 4872.,   nan,   nan,   nan,   nan, 3025.,   nan,   nan,\n",
       "          nan,   nan,   nan,   nan,   nan,   nan,   nan, 3025.,   nan,\n",
       "          nan,   nan, 4848.,   nan,   nan,   nan],\n",
       "       [1310.,   nan,   nan,   nan,   nan,   nan,   nan,   nan,   nan,\n",
       "          nan,   nan,   nan,   nan,   nan,   nan,   nan,   nan,   nan,\n",
       "          nan,   nan,   nan,   nan,   nan,   nan],\n",
       "       [2135.,   nan,   nan,   nan,   nan,   nan,   nan,   nan,   nan,\n",
       "          nan,   nan,   nan,   nan,   nan,   nan,   nan,   nan,   nan,\n",
       "          nan,   nan,   nan,   nan,   nan,   nan],\n",
       "       [1822.,   nan,   nan,   nan,   nan,   nan,   nan,   nan,   nan,\n",
       "          nan,   nan,   nan,   nan,   nan,   nan,   nan,   nan,   nan,\n",
       "          nan,   nan,   nan,   nan,   nan,   nan],\n",
       "       [2543.,   nan,   nan,   nan, 3495.,   nan,   nan,   nan,   nan,\n",
       "          nan,   nan,   nan,   nan,   nan,   nan,   nan,   nan,   nan,\n",
       "          nan,   nan,   nan,   nan,   nan,   nan],\n",
       "       [1495.,   nan,   nan,   nan,   nan,   nan,   nan,   nan,   nan,\n",
       "          nan,   nan,   nan,   nan,   nan,   nan,   nan,   nan,   nan,\n",
       "          nan,   nan,   nan,   nan,   nan,   nan],\n",
       "       [3165., 4879.,   nan,   nan,   nan,   nan,   nan,   nan,   nan,\n",
       "          nan, 3025.,   nan,   nan,   nan,   nan,   nan,   nan,   nan,\n",
       "          nan,   nan, 3000.,   nan,   nan,   nan],\n",
       "       [1005.,   nan,   nan,   nan,   nan,   nan,   nan,   nan,   nan,\n",
       "          nan,   nan,   nan,   nan,   nan,   nan,   nan,   nan,   nan,\n",
       "          nan,   nan,   nan,   nan,   nan,   nan],\n",
       "       [2883.,   nan, 3255.,   nan,   nan,   nan,   nan,   nan,   nan,\n",
       "          nan,   nan,   nan,   nan,   nan,   nan,   nan,   nan,   nan,\n",
       "          nan,   nan,   nan,   nan,   nan,   nan],\n",
       "       [1890.,   nan,   nan,   nan,   nan,   nan,   nan,   nan,   nan,\n",
       "          nan,   nan,   nan,   nan,   nan,   nan,   nan,   nan,   nan,\n",
       "          nan,   nan,   nan,   nan,   nan,   nan],\n",
       "       [2402., 2975.,   nan,   nan,   nan,   nan, 4848.,   nan,   nan,\n",
       "          nan, 4848.,   nan,   nan,   nan,   nan,   nan, 3000.,   nan,\n",
       "          nan,   nan,   nan,   nan,   nan,   nan],\n",
       "       [2120.,   nan,   nan,   nan,   nan,   nan,   nan,   nan,   nan,\n",
       "          nan,   nan,   nan,   nan,   nan,   nan,   nan,   nan,   nan,\n",
       "          nan,   nan,   nan,   nan,   nan,   nan],\n",
       "       [1724.,   nan,   nan,   nan,   nan,   nan,   nan,   nan,   nan,\n",
       "          nan,   nan,   nan,   nan,   nan,   nan,   nan,   nan,   nan,\n",
       "          nan,   nan,   nan,   nan,   nan,   nan],\n",
       "       [1253.,   nan,   nan,   nan,   nan,   nan,   nan,   nan,   nan,\n",
       "          nan,   nan,   nan,   nan,   nan,   nan,   nan,   nan,   nan,\n",
       "          nan,   nan,   nan,   nan,   nan,   nan]])"
      ]
     },
     "execution_count": 5,
     "metadata": {},
     "output_type": "execute_result"
    }
   ],
   "source": [
    "for i in range(n_ant):\n",
    "    for j in range(n_ant):\n",
    "        if not np.isnan(m_ij[i,j]):\n",
    "            m_ij[j,i] = m_ij[i,j]\n",
    "\n",
    "m_ij\n"
   ]
  },
  {
   "cell_type": "markdown",
   "metadata": {},
   "source": [
    "## Plot the Initial Guess Points\n",
    "\n",
    "Initial Guesses are from JSON queried from the telescope API. These are converted to millimeters."
   ]
  },
  {
   "cell_type": "code",
   "execution_count": 6,
   "metadata": {
    "scrolled": true
   },
   "outputs": [
    {
     "name": "stdout",
     "output_type": "stream",
     "text": [
      "{'C/N': 2.158123728118006, 'arm_degrees': [0.0, 72.0, 144.0, 216.0, 288.0], 'arms': [[0.6529630237476174, 2.504432694886343, 1.073494591195416, 2.0005486285280463, 1.693181081287429], [1.7817801673973575, 2.5479706468791354, 0.24027311461115142, 0.5448087496619634, 0.9209845465458897], [2.54993417924799, 0.7030967569347759, 1.5336789571128613, 1.2116849949441444, 1.932751799958924], [0.8609740214161916, 2.5468131744184697, 0.3521255703988069, 2.2409579872406376, 1.2609873402646041], [2.4973866033909307, 2.191993817667368, 1.7956789837968319, 1.2717328395565333]], 'entropy': 3.8594732373100027, 'fov_degrees': 160.0, 'num_arms': 5, 'penalty': 0.05830674870939684, 'radius': 2.55, 'radius_lower': 0.20000000298023224, 'res_arcmin': 180.0, 'spacing': 0.30000001192092896}\n",
      "0.0 [0.6529630237476174, 2.504432694886343, 1.073494591195416, 2.0005486285280463, 1.693181081287429]\n",
      "1.2566370614359172 [1.7817801673973575, 2.5479706468791354, 0.24027311461115142, 0.5448087496619634, 0.9209845465458897]\n",
      "2.5132741228718345 [2.54993417924799, 0.7030967569347759, 1.5336789571128613, 1.2116849949441444, 1.932751799958924]\n",
      "3.7699111843077517 [0.8609740214161916, 2.5468131744184697, 0.3521255703988069, 2.2409579872406376, 1.2609873402646041]\n",
      "5.026548245743669 [2.4973866033909307, 2.191993817667368, 1.7956789837968319, 1.2717328395565333]\n"
     ]
    }
   ],
   "source": [
    "import json\n",
    "\n",
    "global_rot_degrees = -33.4\n",
    "\n",
    "if True:\n",
    "    with open('rhodes_24_opt.json', \"r\") as f:\n",
    "        data = f.read()\n",
    "    cal_json = json.loads(data)\n",
    "    print(cal_json)\n",
    "    arm_angles = np.radians(cal_json['arm_degrees'])\n",
    "    narms = cal_json['num_arms']\n",
    "    arms = cal_json['arms']\n",
    "    current_pos = []\n",
    "    for arm_angle,arm in zip(arm_angles, arms):\n",
    "        print(arm_angle, arm)\n",
    "        r = np.array(arm)\n",
    "        arm_y = r*np.cos(arm_angle + np.radians(global_rot_degrees))\n",
    "        arm_x = r*np.sin(arm_angle + np.radians(global_rot_degrees))\n",
    "        for x,y in zip(arm_x, arm_y):\n",
    "            current_pos.append([x,y])\n",
    "    current_pos = np.array(current_pos)\n",
    "\n",
    "\n"
   ]
  },
  {
   "cell_type": "code",
   "execution_count": 7,
   "metadata": {},
   "outputs": [
    {
     "name": "stdout",
     "output_type": "stream",
     "text": [
      "-359.4435685607249 545.1247851657114\n",
      "-1378.6419633740938 2090.820284012879\n",
      "-590.9380970384922 896.2046656843172\n",
      "-1101.2634896081418 1670.153747881178\n",
      "-932.0635747250169 1413.5486078308345\n",
      "1111.616292260646 1392.4976781708647\n",
      "1589.6268996023089 1991.2912236582652\n",
      "149.90149384371327 187.77835804044804\n",
      "339.89506302285065 425.77919141372354\n",
      "574.5834674746267 719.7682779069753\n",
      "2386.8902039918135 -897.1730449501032\n",
      "658.1404238759441 -247.3787219479315\n",
      "1435.6148125676978 -539.612132394193\n",
      "1134.209293829296 -426.3212459683905\n",
      "1809.1707525682154 -680.0225792547024\n",
      "-39.056354313098346 -860.087708749136\n",
      "-115.53105579857146 -2544.1914079993176\n",
      "-15.973468070007693 -351.76308169917655\n",
      "-101.65655057335285 -2238.6510773908326\n",
      "-57.20215374756218 -1259.6892418030095\n",
      "-2407.71894692503 -663.1962902600652\n",
      "-2113.2911657226914 -582.0973677748349\n",
      "-1731.2058557583025 -476.8535391897455\n",
      "-1226.0717860300485 -337.7164353531081\n"
     ]
    },
    {
     "data": {
      "image/png": "[encoded data removed]",
      "text/plain": [
       "<Figure size 1200x1200 with 1 Axes>"
      ]
     },
     "metadata": {},
     "output_type": "display_data"
    }
   ],
   "source": [
    "def i_y(i):\n",
    "    return 2*i+1\n",
    "\n",
    "def i_x(i):\n",
    "    return 2*i\n",
    "\n",
    "\n",
    "initial_guess = np.zeros(2*n_ant)\n",
    "\n",
    "for i in range(n_ant):\n",
    "    x,y = current_pos[i][0:2]*1000\n",
    "    initial_guess[i_x(i)] = x\n",
    "    initial_guess[i_y(i)] = y\n",
    "    \n",
    "    print(x,y)\n",
    "initial_guess\n",
    "\n",
    "pos_i = current_pos*1000\n",
    "import matplotlib.pyplot as plt\n",
    "\n",
    "fig, ax = plt.subplots(figsize=(12,12))\n",
    "\n",
    "ax.scatter(pos_i[:,0], pos_i[:,1])\n",
    "for i in range(0,pos_i.shape[0]):\n",
    "    ax.text(pos_i[i,0], pos_i[i,1],f\"{i}\")\n",
    "\n",
    "ax.grid(True)\n",
    "ax.set_title('Initial positions')\n",
    "ax.set_xlabel('x (mm)')\n",
    "ax.set_ylabel('y (mm)')\n",
    "plt.savefig('initial_positions.png')\n",
    "plt.show()"
   ]
  },
  {
   "cell_type": "markdown",
   "metadata": {},
   "source": [
    "## Criteria for Optimality\n",
    "\n",
    "The function below is minimized when the positions (in variable x) are consistent with the measured distances m[i,j]. The initial value of this function is more than 3 million.\n",
    "\n",
    "Note that the x input is a 1D vector of with 48 entries as [p0.x, p0.y, p1.x, p1.y]"
   ]
  },
  {
   "cell_type": "code",
   "execution_count": 8,
   "metadata": {},
   "outputs": [
    {
     "name": "stdout",
     "output_type": "stream",
     "text": [
      "155907.24874903046\n"
     ]
    }
   ],
   "source": [
    "def dist(a,b):\n",
    "    return np.sqrt((a[0]-b[0])**2 + (a[1]-b[1])**2)\n",
    "\n",
    "\n",
    "def p(x, i):\n",
    "    return [x[i_x(i)],x[i_y(i)]]\n",
    "\n",
    "max_err = 1200\n",
    "def bounds():\n",
    "    ret = [(0,0)]*48\n",
    "    for i in range(24):\n",
    "        _x,_y = pos_i[i,0], pos_i[i,1]\n",
    "        ret[i_x(i)] = (_x - max_err, _x + max_err)\n",
    "        ret[i_y(i)] = (_y - max_err, _y + max_err)\n",
    "    # x-component of the north arm set to zero.\n",
    "    #for i in [0,1,2,3,4]:\n",
    "    #    xval = pos_i[i,0]\n",
    "    #    ret[i_x(i)] = ( - 2, + 2)\n",
    "    \n",
    "    return ret\n",
    "\n",
    "bnd = bounds()\n",
    "\n",
    "center = [0,0]\n",
    "\n",
    "def radius_model(x):\n",
    "    ret = []\n",
    "    \n",
    "    for i in range(n_ant):\n",
    "        p_i = p(x,i)\n",
    "        ret.append(dist(center, p_i))\n",
    "        \n",
    "    return np.array(ret)\n",
    "\n",
    "non_nan_ij = []\n",
    "non_nan_indices = []\n",
    "for i in range(n_ant):\n",
    "    for j in range(n_ant):\n",
    "        if not np.isnan(m_ij[i,j]):\n",
    "            non_nan_ij.append(m_ij[i,j])\n",
    "            non_nan_indices.append([i,j])\n",
    "non_nan_ij = np.array(non_nan_ij)\n",
    "non_nan_indices = np.array(non_nan_indices)\n",
    "\n",
    "def m_ij_model(x):\n",
    "    ret = []\n",
    "    for i in range(n_ant):\n",
    "        p_i = p(x,i)\n",
    "\n",
    "        for j in range(n_ant):\n",
    "            p_j = p(x,j)\n",
    "            if not np.isnan(m_ij[i,j]):\n",
    "                ret.append(dist(p_j, p_i))\n",
    "                \n",
    "    return np.array(ret)\n",
    "    \n",
    "def radius_residual(x):\n",
    "    predict = radius_model(x)\n",
    "    return predict - radius\n",
    "\n",
    "def m_ij_residual(x):\n",
    "    predict = m_ij_model(x)\n",
    "    return predict - non_nan_ij\n",
    "\n",
    "\n",
    "def f(x):\n",
    "    ret = 0\n",
    "    for i in range(n_ant):\n",
    "        p_i = p(x,i)\n",
    "        ret += (dist(center, p_i) - m_0[i])**2\n",
    "        for j in range(n_ant):\n",
    "            p_j = p(x,j)\n",
    "            if not np.isnan(m_ij[i,j]):\n",
    "                ret += (dist(p_j, p_i) - m_ij[i,j])**2\n",
    "    return ret\n",
    "\n",
    "def f(x):\n",
    "    # This is the final criterion for optimality. The sum of squared residuals.\n",
    "    ret = np.sum(radius_residual(x)**2)\n",
    "    ret += np.sum(m_ij_residual(x)**2)\n",
    "    return ret\n",
    "\n",
    "print(f(initial_guess))"
   ]
  },
  {
   "cell_type": "markdown",
   "metadata": {},
   "source": [
    "We can see that the initial value of this optimality condition is about 600,000."
   ]
  },
  {
   "cell_type": "code",
   "execution_count": 9,
   "metadata": {},
   "outputs": [
    {
     "data": {
      "text/plain": [
       "  message: CONVERGENCE: REL_REDUCTION_OF_F_<=_FACTR*EPSMCH\n",
       "  success: True\n",
       "   status: 0\n",
       "      fun: 98.6178339491941\n",
       "        x: [-3.852e+02  5.837e+02 ... -1.239e+03 -3.335e+02]\n",
       "      nit: 175\n",
       "      jac: [ 9.550e-04 -1.563e-04 ...  7.248e-05 -4.221e-04]\n",
       "     nfev: 9212\n",
       "     njev: 188\n",
       " hess_inv: <48x48 LbfgsInvHessProduct with dtype=float64>"
      ]
     },
     "execution_count": 9,
     "metadata": {},
     "output_type": "execute_result"
    }
   ],
   "source": [
    "res = minimize(f, initial_guess, bounds=bnd)\n",
    "res"
   ]
  },
  {
   "cell_type": "code",
   "execution_count": 10,
   "metadata": {},
   "outputs": [
    {
     "name": "stdout",
     "output_type": "stream",
     "text": [
      "Ant 0:\tJac: 000.00, \t-00.00\n",
      "Ant 1:\tJac: -00.00, \t-00.00\n",
      "Ant 2:\tJac: -00.00, \t-00.00\n",
      "Ant 3:\tJac: -00.00, \t000.00\n",
      "Ant 4:\tJac: -00.00, \t-00.00\n",
      "Ant 5:\tJac: -00.00, \t-00.00\n",
      "Ant 6:\tJac: -00.00, \t-00.00\n",
      "Ant 7:\tJac: -00.00, \t000.00\n",
      "Ant 8:\tJac: -00.00, \t-00.00\n",
      "Ant 9:\tJac: -00.00, \t000.00\n",
      "Ant 10:\tJac: 000.00, \t000.00\n",
      "Ant 11:\tJac: -00.00, \t-00.00\n",
      "Ant 12:\tJac: -00.00, \t-00.00\n",
      "Ant 13:\tJac: -00.00, \t-00.00\n",
      "Ant 14:\tJac: -00.00, \t000.00\n",
      "Ant 15:\tJac: -00.00, \t000.00\n",
      "Ant 16:\tJac: -00.00, \t000.00\n",
      "Ant 17:\tJac: -00.00, \t000.00\n",
      "Ant 18:\tJac: -00.00, \t-00.00\n",
      "Ant 19:\tJac: -00.00, \t-00.00\n",
      "Ant 20:\tJac: 000.00, \t-00.00\n",
      "Ant 21:\tJac: -00.00, \t000.00\n",
      "Ant 22:\tJac: -00.00, \t000.00\n",
      "Ant 23:\tJac: 000.00, \t-00.00\n"
     ]
    }
   ],
   "source": [
    "err = res.jac.reshape((24,2))\n",
    "rms = err # np.sqrt(np.sum(err**2, axis=1))\n",
    "for i in range(24):\n",
    "    print(f\"Ant {i}:\\tJac: {rms[i,0]:06.2f}, \\t{rms[i,1]:06.2f}\")"
   ]
  },
  {
   "cell_type": "markdown",
   "metadata": {},
   "source": [
    "The optimized positions are now known. The final value of the function is 32. Far closer to zero than 3 million!\n",
    "\n",
    "We can recover the x,y coordinates by reshaping the array"
   ]
  },
  {
   "cell_type": "code",
   "execution_count": 11,
   "metadata": {},
   "outputs": [
    {
     "data": {
      "text/plain": [
       "array([[ -385.23535563,   583.71980502],\n",
       "       [-1414.19500711,  2129.71571125],\n",
       "       [ -628.22989202,   925.76558187],\n",
       "       [-1125.510398  ,  1706.91716867],\n",
       "       [ -955.34464269,  1441.80031675],\n",
       "       [ 1134.83900098,  1413.89889318],\n",
       "       [ 1600.82915414,  2016.45444738],\n",
       "       [  160.87102854,   204.25610857],\n",
       "       [  349.57511419,   443.87170783],\n",
       "       [  587.69007093,   737.47525233],\n",
       "       [ 2402.12002447,  -899.97014241],\n",
       "       [  638.69136117,  -233.3938101 ],\n",
       "       [ 1433.74730393,  -534.10331638],\n",
       "       [ 1118.99050161,  -444.38045271],\n",
       "       [ 1820.52717994,  -681.77108729],\n",
       "       [  -51.25847859,  -873.49792439],\n",
       "       [ -120.13401569, -2570.67800934],\n",
       "       [  -12.89705874,  -349.76241433],\n",
       "       [  -84.18497165, -2283.47592031],\n",
       "       [  -62.28388727, -1278.48380242],\n",
       "       [-2438.743206  ,  -664.21447577],\n",
       "       [-2155.71922604,  -582.37892052],\n",
       "       [-1746.9401402 ,  -473.60491905],\n",
       "       [-1238.90116684,  -333.48474478]])"
      ]
     },
     "execution_count": 11,
     "metadata": {},
     "output_type": "execute_result"
    }
   ],
   "source": [
    "pos = res.x.reshape((24,2))\n",
    "pos"
   ]
  },
  {
   "cell_type": "code",
   "execution_count": 12,
   "metadata": {},
   "outputs": [
    {
     "data": {
      "image/png": "[encoded data removed]",
      "text/plain": [
       "<Figure size 1200x1200 with 1 Axes>"
      ]
     },
     "metadata": {},
     "output_type": "display_data"
    }
   ],
   "source": [
    "fig, ax = plt.subplots(figsize=(12,12))\n",
    "\n",
    "ax.scatter(pos_i[:,0], pos_i[:,1], label='initial')\n",
    "ax.scatter(pos[:,0], pos[:,1], label='final')\n",
    "\n",
    "ax.grid(True)\n",
    "ax.set_title('Final Solution')\n",
    "ax.set_xlabel('x (mm)')\n",
    "ax.set_ylabel('y (mm)')\n",
    "ax.legend()\n",
    "plt.savefig('final_positions.png')\n",
    "plt.show()"
   ]
  },
  {
   "cell_type": "code",
   "execution_count": 13,
   "metadata": {},
   "outputs": [
    {
     "data": {
      "image/png": "[encoded data removed]",
      "text/plain": [
       "<Figure size 1200x1200 with 1 Axes>"
      ]
     },
     "metadata": {},
     "output_type": "display_data"
    }
   ],
   "source": [
    "# Differences plot\n",
    "diff = pos - pos_i[:,0:2]\n",
    "\n",
    "\n",
    "fig, ax = plt.subplots(figsize=(12,12))\n",
    "\n",
    "ax.scatter(diff[:,0], diff[:,1], color='red')\n",
    "\n",
    "for i in range(0,diff.shape[0]):\n",
    "    ax.text(diff[i,0], diff[i,1],f\"{i}\")\n",
    "\n",
    "ax.grid(True)\n",
    "ax.set_title(\"Differences from initial position\")\n",
    "ax.set_xlabel('x (mm)')\n",
    "ax.set_xlabel('y (mm)')\n",
    "plt.savefig('differences.png')\n",
    "plt.show()"
   ]
  },
  {
   "cell_type": "code",
   "execution_count": 14,
   "metadata": {},
   "outputs": [
    {
     "data": {
      "text/plain": [
       "A 0     4.381934\n",
       "A 1     1.489102\n",
       "A 2    -1.199433\n",
       "A 3    -0.412052\n",
       "A 4    -0.412899\n",
       "A 5     0.000176\n",
       "A 6    -0.365556\n",
       "A 7     0.000088\n",
       "A 8    -0.000130\n",
       "A 9     0.000195\n",
       "A 10    0.175797\n",
       "A 11   -0.000496\n",
       "A 12   -0.000757\n",
       "A 13   -0.000943\n",
       "A 14   -0.001279\n",
       "A 15    0.000603\n",
       "A 16    3.483555\n",
       "A 17    0.000115\n",
       "A 18    0.027218\n",
       "A 19    0.000045\n",
       "A 20   -2.422248\n",
       "A 21    0.000356\n",
       "A 22    0.000407\n",
       "A 23   -0.000321\n",
       "Name: 0, dtype: float64"
      ]
     },
     "execution_count": 14,
     "metadata": {},
     "output_type": "execute_result"
    }
   ],
   "source": [
    "# Residual plot\n",
    "rres = radius_residual(res.x)\n",
    "rres"
   ]
  },
  {
   "cell_type": "code",
   "execution_count": 15,
   "metadata": {},
   "outputs": [
    {
     "data": {
      "image/png": "[encoded data removed]",
      "text/plain": [
       "<Figure size 640x480 with 1 Axes>"
      ]
     },
     "metadata": {},
     "output_type": "display_data"
    }
   ],
   "source": [
    "# ij resdual\n",
    "ijres = m_ij_residual(res.x)\n",
    "plt.hist(ijres, bins='fd');\n",
    "plt.title(\"Histogram of residuals\")\n",
    "plt.xlabel(\"Residual (mm)\")\n",
    "plt.grid(True)\n",
    "plt.savefig(\"residual_histogram.png\")"
   ]
  },
  {
   "cell_type": "markdown",
   "metadata": {},
   "source": [
    "The API expects 3D coordinates (with a z value which is zero in this case). Therefore we add a column of zeros."
   ]
  },
  {
   "cell_type": "code",
   "execution_count": 16,
   "metadata": {},
   "outputs": [
    {
     "name": "stdout",
     "output_type": "stream",
     "text": [
      "95th percentile of residuals is 1.97 mm\n",
      " res[0,1] = 2.1\n",
      " res[1,0] = 2.1\n",
      " res[1,16] = -3.7\n",
      " res[16,1] = -3.7\n"
     ]
    }
   ],
   "source": [
    "absres = np.abs(ijres)\n",
    "p95 = np.percentile(absres, 95)\n",
    "\n",
    "print(f\"95th percentile of residuals is {p95:4.2f} mm\")\n",
    "ijres_matrix = np.zeros_like(m_ij)\n",
    "for r, i, j in zip(ijres, non_nan_indices[:,0], non_nan_indices[:,1]):\n",
    "    if np.abs(r) > p95:\n",
    "        print(f\" res[{i},{j}] = {r:3.1f}\")\n",
    "    ijres_matrix[i,j] = r\n",
    "    \n"
   ]
  },
  {
   "cell_type": "markdown",
   "metadata": {},
   "source": [
    "## Output best estimates\n",
    "\n",
    "Write some json files..."
   ]
  },
  {
   "cell_type": "code",
   "execution_count": 17,
   "metadata": {},
   "outputs": [
    {
     "data": {
      "text/plain": [
       "array([[-0.385,  0.584,  0.   ],\n",
       "       [-1.414,  2.13 ,  0.   ],\n",
       "       [-0.628,  0.926,  0.   ],\n",
       "       [-1.126,  1.707,  0.   ],\n",
       "       [-0.955,  1.442,  0.   ],\n",
       "       [ 1.135,  1.414,  0.   ],\n",
       "       [ 1.601,  2.016,  0.   ],\n",
       "       [ 0.161,  0.204,  0.   ],\n",
       "       [ 0.35 ,  0.444,  0.   ],\n",
       "       [ 0.588,  0.737,  0.   ],\n",
       "       [ 2.402, -0.9  ,  0.   ],\n",
       "       [ 0.639, -0.233,  0.   ],\n",
       "       [ 1.434, -0.534,  0.   ],\n",
       "       [ 1.119, -0.444,  0.   ],\n",
       "       [ 1.821, -0.682,  0.   ],\n",
       "       [-0.051, -0.873,  0.   ],\n",
       "       [-0.12 , -2.571,  0.   ],\n",
       "       [-0.013, -0.35 ,  0.   ],\n",
       "       [-0.084, -2.283,  0.   ],\n",
       "       [-0.062, -1.278,  0.   ],\n",
       "       [-2.439, -0.664,  0.   ],\n",
       "       [-2.156, -0.582,  0.   ],\n",
       "       [-1.747, -0.474,  0.   ],\n",
       "       [-1.239, -0.333,  0.   ]])"
      ]
     },
     "execution_count": 17,
     "metadata": {},
     "output_type": "execute_result"
    }
   ],
   "source": [
    "result = np.zeros((n_ant, 3))\n",
    "result[:,:-1] = np.round(pos/1000.0, 3)\n",
    "result"
   ]
  },
  {
   "cell_type": "code",
   "execution_count": 18,
   "metadata": {},
   "outputs": [
    {
     "name": "stdout",
     "output_type": "stream",
     "text": [
      "{\n",
      "    \"antenna_positions\": [\n",
      "        [\n",
      "            -0.385,\n",
      "            0.584,\n",
      "            0.0\n",
      "        ],\n",
      "        [\n",
      "            -1.414,\n",
      "            2.13,\n",
      "            0.0\n",
      "        ],\n",
      "        [\n",
      "            -0.628,\n",
      "            0.926,\n",
      "            0.0\n",
      "        ],\n",
      "        [\n",
      "            -1.126,\n",
      "            1.707,\n",
      "            0.0\n",
      "        ],\n",
      "        [\n",
      "            -0.955,\n",
      "            1.442,\n",
      "            0.0\n",
      "        ],\n",
      "        [\n",
      "            1.135,\n",
      "            1.414,\n",
      "            0.0\n",
      "        ],\n",
      "        [\n",
      "            1.601,\n",
      "            2.016,\n",
      "            0.0\n",
      "        ],\n",
      "        [\n",
      "            0.161,\n",
      "            0.204,\n",
      "            0.0\n",
      "        ],\n",
      "        [\n",
      "            0.35,\n",
      "            0.444,\n",
      "            0.0\n",
      "        ],\n",
      "        [\n",
      "            0.588,\n",
      "            0.737,\n",
      "            0.0\n",
      "        ],\n",
      "        [\n",
      "            2.402,\n",
      "            -0.9,\n",
      "            0.0\n",
      "        ],\n",
      "        [\n",
      "            0.639,\n",
      "            -0.233,\n",
      "            0.0\n",
      "        ],\n",
      "        [\n",
      "            1.434,\n",
      "            -0.534,\n",
      "            0.0\n",
      "        ],\n",
      "        [\n",
      "            1.119,\n",
      "            -0.444,\n",
      "            0.0\n",
      "        ],\n",
      "        [\n",
      "            1.821,\n",
      "            -0.682,\n",
      "            0.0\n",
      "        ],\n",
      "        [\n",
      "            -0.051,\n",
      "            -0.873,\n",
      "            0.0\n",
      "        ],\n",
      "        [\n",
      "            -0.12,\n",
      "            -2.571,\n",
      "            0.0\n",
      "        ],\n",
      "        [\n",
      "            -0.013,\n",
      "            -0.35,\n",
      "            0.0\n",
      "        ],\n",
      "        [\n",
      "            -0.084,\n",
      "            -2.283,\n",
      "            0.0\n",
      "        ],\n",
      "        [\n",
      "            -0.062,\n",
      "            -1.278,\n",
      "            0.0\n",
      "        ],\n",
      "        [\n",
      "            -2.439,\n",
      "            -0.664,\n",
      "            0.0\n",
      "        ],\n",
      "        [\n",
      "            -2.156,\n",
      "            -0.582,\n",
      "            0.0\n",
      "        ],\n",
      "        [\n",
      "            -1.747,\n",
      "            -0.474,\n",
      "            0.0\n",
      "        ],\n",
      "        [\n",
      "            -1.239,\n",
      "            -0.333,\n",
      "            0.0\n",
      "        ]\n",
      "    ]\n",
      "}\n"
     ]
    }
   ],
   "source": [
    "json_result = {}\n",
    "json_result[\"antenna_positions\"] = result.tolist()\n",
    "print(json.dumps(json_result, indent=4, separators=(',', ': ')))"
   ]
  },
  {
   "cell_type": "markdown",
   "metadata": {
    "collapsed": true
   },
   "source": [
    "The position file above is in a format suitable for uploading to the telescope api. Also for using as the calibrated_antenna_positions.json file in TART/software/containers/telescope_web_api/config_data.\n",
    "\n",
    "\n",
    "    tart_upload_antenna_positions --api https://tart.elec.ac.nz/rhodes --pw=xxxx --file rhodes_antenna_positions.json\n"
   ]
  },
  {
   "cell_type": "code",
   "execution_count": null,
   "metadata": {},
   "outputs": [],
   "source": []
  }
 ],
 "metadata": {
  "kernelspec": {
   "display_name": "Python 3 (ipykernel)",
   "language": "python",
   "name": "python3"
  },
  "language_info": {
   "codemirror_mode": {
    "name": "ipython",
    "version": 3
   },
   "file_extension": ".py",
   "mimetype": "text/x-python",
   "name": "python",
   "nbconvert_exporter": "python",
   "pygments_lexer": "ipython3",
   "version": "3.11.5"
  }
 },
 "nbformat": 4,
 "nbformat_minor": 2
}
