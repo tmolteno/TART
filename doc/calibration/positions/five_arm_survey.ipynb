{
 "cells": [
  {
   "cell_type": "markdown",
   "metadata": {},
   "source": [
    "# Five-arm Antenna Position Calibration\n",
    "\n",
    "Author: Tim Molteno. tim@elec.ac.nz.\n",
    "\n",
    "The antennas are laid out on three arms which are placed approximately 120 degrees apart.  This notebook will use measurements to infer the actual layout of the antennas.\n",
    "\n",
    "Arm 1 will point geographically north (NOT magnetic). This arm forms the y-axis and will be used as a reference. We will assume that the x positions along this arm are approximately zero.\n",
    "\n",
    "The other reference point is the center of the array. This is assumed to be the point [0,0]. Make sure that a marker is present at this reference point at the same height as the level of the antennas (otherwise the distances will be wrong)."
   ]
  },
  {
   "cell_type": "code",
   "execution_count": 1,
   "metadata": {},
   "outputs": [],
   "source": [
    "import numpy as np\n",
    "from scipy.optimize import minimize "
   ]
  },
  {
   "cell_type": "code",
   "execution_count": 2,
   "metadata": {},
   "outputs": [],
   "source": [
    "x0 = [0,0]\n",
    "global_rot_degrees = -45.07826156287494"
   ]
  },
  {
   "cell_type": "code",
   "execution_count": 3,
   "metadata": {},
   "outputs": [
    {
     "data": {
      "text/plain": [
       "A 0      695.0\n",
       "A 1     2555.0\n",
       "A 2     1120.0\n",
       "A 3     2045.0\n",
       "A 4     1730.0\n",
       "A 5     1813.0\n",
       "A 6     2575.0\n",
       "A 7      260.0\n",
       "A 8      565.0\n",
       "A 9      943.0\n",
       "A 10    2565.0\n",
       "A 11     680.0\n",
       "A 12    1530.0\n",
       "A 13    1204.0\n",
       "A 14    1944.0\n",
       "A 15     875.0\n",
       "A 16    2570.0\n",
       "A 17     350.0\n",
       "A 18    2285.0\n",
       "A 19    1280.0\n",
       "A 20    2530.0\n",
       "A 21    2233.0\n",
       "A 22    1810.0\n",
       "A 23    1283.0\n",
       "Name: 0, dtype: float64"
      ]
     },
     "execution_count": 3,
     "metadata": {},
     "output_type": "execute_result"
    }
   ],
   "source": [
    "# pip install pandas\n",
    "# pip install odfpy\n",
    "\n",
    "import pandas as pd\n",
    "\n",
    "#pd.read_excel('three_arm_measurements.ods', engine='odf')\n",
    "cols = [f\"A {i}\" for i in range(24)]\n",
    "data = pd.read_excel('antenna_measurements.ods', \"Sheet1\", usecols=cols)\n",
    "radius = data.loc[0]\n",
    "radius"
   ]
  },
  {
   "cell_type": "code",
   "execution_count": null,
   "metadata": {},
   "outputs": [],
   "source": []
  },
  {
   "cell_type": "markdown",
   "metadata": {},
   "source": [
    "## Finding the antennas\n",
    "\n",
    "This is done by measuring the distance from each antenna to x0 as well as each other antenna. The distance $m_0$ are the measurements to $x_0$. The array m_ij are the distances between antennas."
   ]
  },
  {
   "cell_type": "code",
   "execution_count": 4,
   "metadata": {},
   "outputs": [],
   "source": [
    "n_ant = 24\n",
    "m_0 = np.zeros(24)\n",
    "m_ij = np.zeros((24,24))\n",
    "\n",
    "radius = data.loc[0]\n",
    "\n",
    "for i in range(24):\n",
    "    m_ij[i,:] = data.loc[i+1]"
   ]
  },
  {
   "cell_type": "markdown",
   "metadata": {},
   "source": [
    "The following are the measured distances from [x1, x0, x2] from the reference points in millimeters. Note that their order must be the same as the order of the variable called 'reference_points'. In this case, they are x1,x0,x2."
   ]
  },
  {
   "cell_type": "code",
   "execution_count": 5,
   "metadata": {},
   "outputs": [
    {
     "data": {
      "text/plain": [
       "array([[   0., 1855.,  419., 1345., 1030., 1732., 2448.,  665.,  748.,\n",
       "         985., 3157., 1310., 2135., 1822., 2543., 1495., 3165., 1005.,\n",
       "        2883., 1890., 2402., 2120., 1724., 1253.],\n",
       "       [1855.,   nan,   nan,   nan,   nan,   nan, 3018.,   nan,   nan,\n",
       "          nan, 4872.,   nan,   nan,   nan,   nan,   nan, 4879.,   nan,\n",
       "          nan,   nan, 2975.,   nan,   nan,   nan],\n",
       "       [ 419.,   nan,   nan,   nan,   nan,   nan,   nan,   nan, 1085.,\n",
       "          nan,   nan,   nan,   nan,   nan,   nan,   nan,   nan,   nan,\n",
       "        3255.,   nan,   nan,   nan,   nan,   nan],\n",
       "       [1345.,   nan,   nan,   nan,   nan,   nan,   nan,   nan,   nan,\n",
       "          nan,   nan,   nan,   nan,   nan,   nan,   nan,   nan,   nan,\n",
       "          nan,   nan,   nan,   nan,   nan,   nan],\n",
       "       [1030.,   nan,   nan,   nan,   nan,   nan,   nan,   nan,   nan,\n",
       "          nan,   nan,   nan,   nan,   nan, 3495.,   nan,   nan,   nan,\n",
       "          nan,   nan,   nan,   nan,   nan,   nan],\n",
       "       [1732.,   nan,   nan,   nan,   nan,   nan,   nan,   nan, 1253.,\n",
       "          nan,   nan,   nan,   nan,   nan,   nan,   nan,   nan,   nan,\n",
       "          nan,   nan,   nan,   nan,   nan,   nan],\n",
       "       [2448., 3018.,   nan,   nan,   nan,   nan,   nan,   nan,   nan,\n",
       "          nan, 3025.,   nan,   nan,   nan,   nan,   nan,   nan,   nan,\n",
       "          nan,   nan, 4848.,   nan,   nan,   nan],\n",
       "       [ 665.,   nan,   nan,   nan,   nan,   nan,   nan,   nan,   nan,\n",
       "          nan,   nan,   nan,   nan,   nan,   nan,   nan,   nan,   nan,\n",
       "          nan,   nan,   nan,   nan,   nan,   nan],\n",
       "       [ 748.,   nan, 1085.,   nan,   nan, 1253.,   nan,   nan,   nan,\n",
       "          nan, 2458.,   nan,   nan,   nan,   nan,   nan, 3055.,   nan,\n",
       "        2767., 1770.,   nan,   nan,   nan, 1768.],\n",
       "       [ 985.,   nan,   nan,   nan,   nan,   nan,   nan,   nan,   nan,\n",
       "          nan,   nan,   nan,   nan,   nan,   nan,   nan,   nan,   nan,\n",
       "          nan,   nan,   nan,   nan,   nan,   nan],\n",
       "       [3157., 4872.,   nan,   nan,   nan,   nan, 3025.,   nan, 2458.,\n",
       "          nan,   nan,   nan,   nan,   nan,   nan,   nan, 3025.,   nan,\n",
       "          nan,   nan, 4848.,   nan,   nan,   nan],\n",
       "       [1310.,   nan,   nan,   nan,   nan,   nan,   nan,   nan,   nan,\n",
       "          nan,   nan,   nan,   nan,   nan,   nan,   nan,   nan,   nan,\n",
       "          nan,   nan,   nan,   nan,   nan,   nan],\n",
       "       [2135.,   nan,   nan,   nan,   nan,   nan,   nan,   nan,   nan,\n",
       "          nan,   nan,   nan,   nan,   nan,   nan,   nan,   nan,   nan,\n",
       "          nan,   nan,   nan,   nan,   nan,   nan],\n",
       "       [1822.,   nan,   nan,   nan,   nan,   nan,   nan,   nan,   nan,\n",
       "          nan,   nan,   nan,   nan,   nan,   nan,   nan,   nan,   nan,\n",
       "          nan,   nan,   nan,   nan,   nan,   nan],\n",
       "       [2543.,   nan,   nan,   nan, 3495.,   nan,   nan,   nan,   nan,\n",
       "          nan,   nan,   nan,   nan,   nan,   nan,   nan,   nan,   nan,\n",
       "          nan,   nan,   nan,   nan,   nan,   nan],\n",
       "       [1495.,   nan,   nan,   nan,   nan,   nan,   nan,   nan,   nan,\n",
       "          nan,   nan,   nan,   nan,   nan,   nan,   nan,   nan,   nan,\n",
       "          nan,   nan,   nan,   nan,   nan,   nan],\n",
       "       [3165., 4879.,   nan,   nan,   nan,   nan,   nan,   nan, 3055.,\n",
       "          nan, 3025.,   nan,   nan,   nan,   nan,   nan,   nan,   nan,\n",
       "          nan,   nan, 3000.,   nan,   nan,   nan],\n",
       "       [1005.,   nan,   nan,   nan,   nan,   nan,   nan,   nan,   nan,\n",
       "          nan,   nan,   nan,   nan,   nan,   nan,   nan,   nan,   nan,\n",
       "          nan,   nan,   nan,   nan,   nan,   nan],\n",
       "       [2883.,   nan, 3255.,   nan,   nan,   nan,   nan,   nan, 2767.,\n",
       "          nan,   nan,   nan,   nan,   nan,   nan,   nan,   nan,   nan,\n",
       "          nan,   nan,   nan,   nan,   nan,   nan],\n",
       "       [1890.,   nan,   nan,   nan,   nan,   nan,   nan,   nan, 1770.,\n",
       "          nan,   nan,   nan,   nan,   nan,   nan,   nan,   nan,   nan,\n",
       "          nan,   nan,   nan,   nan,   nan,   nan],\n",
       "       [2402., 2975.,   nan,   nan,   nan,   nan, 4848.,   nan,   nan,\n",
       "          nan, 4848.,   nan,   nan,   nan,   nan,   nan, 3000.,   nan,\n",
       "          nan,   nan,   nan,   nan,   nan,   nan],\n",
       "       [2120.,   nan,   nan,   nan,   nan,   nan,   nan,   nan,   nan,\n",
       "          nan,   nan,   nan,   nan,   nan,   nan,   nan,   nan,   nan,\n",
       "          nan,   nan,   nan,   nan,   nan,   nan],\n",
       "       [1724.,   nan,   nan,   nan,   nan,   nan,   nan,   nan,   nan,\n",
       "          nan,   nan,   nan,   nan,   nan,   nan,   nan,   nan,   nan,\n",
       "          nan,   nan,   nan,   nan,   nan,   nan],\n",
       "       [1253.,   nan,   nan,   nan,   nan,   nan,   nan,   nan, 1768.,\n",
       "          nan,   nan,   nan,   nan,   nan,   nan,   nan,   nan,   nan,\n",
       "          nan,   nan,   nan,   nan,   nan,   nan]])"
      ]
     },
     "execution_count": 5,
     "metadata": {},
     "output_type": "execute_result"
    }
   ],
   "source": [
    "for i in range(n_ant):\n",
    "    for j in range(n_ant):\n",
    "        if not np.isnan(m_ij[i,j]):\n",
    "            m_ij[j,i] = m_ij[i,j]\n",
    "\n",
    "m_ij\n"
   ]
  },
  {
   "cell_type": "markdown",
   "metadata": {},
   "source": [
    "## Plot the Initial Guess Points\n",
    "\n",
    "Initial Guesses are from JSON queried from the telescope API. These are converted to millimeters."
   ]
  },
  {
   "cell_type": "code",
   "execution_count": 6,
   "metadata": {
    "scrolled": true
   },
   "outputs": [
    {
     "name": "stdout",
     "output_type": "stream",
     "text": [
      "{'C/N': 2.158123728118006, 'arm_degrees': [0.0, 72.0, 144.0, 216.0, 288.0], 'arms': [[0.6529630237476174, 2.504432694886343, 1.073494591195416, 2.0005486285280463, 1.693181081287429], [1.7817801673973575, 2.5479706468791354, 0.24027311461115142, 0.5448087496619634, 0.9209845465458897], [2.54993417924799, 0.7030967569347759, 1.5336789571128613, 1.2116849949441444, 1.932751799958924], [0.8609740214161916, 2.5468131744184697, 0.3521255703988069, 2.2409579872406376, 1.2609873402646041], [2.4973866033909307, 2.191993817667368, 1.7956789837968319, 1.2717328395565333]], 'entropy': 3.8594732373100027, 'fov_degrees': 160.0, 'num_arms': 5, 'penalty': 0.05830674870939684, 'radius': 2.55, 'radius_lower': 0.20000000298023224, 'res_arcmin': 180.0, 'spacing': 0.30000001192092896}\n",
      "0.0 [0.6529630237476174, 2.504432694886343, 1.073494591195416, 2.0005486285280463, 1.693181081287429]\n",
      "1.2566370614359172 [1.7817801673973575, 2.5479706468791354, 0.24027311461115142, 0.5448087496619634, 0.9209845465458897]\n",
      "2.5132741228718345 [2.54993417924799, 0.7030967569347759, 1.5336789571128613, 1.2116849949441444, 1.932751799958924]\n",
      "3.7699111843077517 [0.8609740214161916, 2.5468131744184697, 0.3521255703988069, 2.2409579872406376, 1.2609873402646041]\n",
      "5.026548245743669 [2.4973866033909307, 2.191993817667368, 1.7956789837968319, 1.2717328395565333]\n"
     ]
    }
   ],
   "source": [
    "import json\n",
    "import requests\n",
    "\n",
    "def get_data(path):\n",
    "    server = \"https://tart.elec.ac.nz/rhodes\"\n",
    "\n",
    "    r = requests.get('{}/{}'.format(server, path))\n",
    "    return json.loads(r.text)\n",
    "\n",
    "def get_pos():\n",
    "    return np.array(get_data('api/v1/imaging/antenna_positions'))\n",
    "\n",
    "if True:\n",
    "    with open('rhodes_24_opt.json', \"r\") as f:\n",
    "        data = f.read()\n",
    "    cal_json = json.loads(data)\n",
    "    print(cal_json)\n",
    "    arm_angles = np.radians(cal_json['arm_degrees'])\n",
    "    narms = cal_json['num_arms']\n",
    "    arms = cal_json['arms']\n",
    "    current_pos = []\n",
    "    for arm_angle,arm in zip(arm_angles, arms):\n",
    "        print(arm_angle, arm)\n",
    "        r = np.array(arm)\n",
    "        arm_y = r*np.cos(arm_angle + np.radians(global_rot_degrees))\n",
    "        arm_x = r*np.sin(arm_angle + np.radians(global_rot_degrees))\n",
    "        for x,y in zip(arm_x, arm_y):\n",
    "            current_pos.append([x,y])\n",
    "    current_pos = np.array(current_pos)\n",
    "else:\n",
    "    current_pos = get_pos()\n",
    "    json_result = {}\n",
    "    json_result[\"antenna_positions\"] = current_pos.tolist()\n",
    "    print(json.dumps(json_result, indent=4, separators=(',', ': ')))\n",
    "\n"
   ]
  },
  {
   "cell_type": "code",
   "execution_count": 7,
   "metadata": {},
   "outputs": [
    {
     "name": "stdout",
     "output_type": "stream",
     "text": [
      "-462.3448171217413 461.0834853497738\n",
      "-1773.3186018179351 1768.4807772950642\n",
      "-760.1114341801718 758.0377595835022\n",
      "-1416.5324163247844 1412.6679470443557\n",
      "-1198.8940704311744 1195.623344500532\n",
      "806.742007385838 1588.6811821286308\n",
      "1153.6523932837408 2271.836387777161\n",
      "108.78918642662138 214.23371004950954\n",
      "246.67470902747047 485.7655418351992\n",
      "416.9969648596217 821.1735908285175\n",
      "2519.0827714579505 -395.45708874775744\n",
      "694.5900570597046 -109.03991125269563\n",
      "1515.1231232760656 -237.85092979631932\n",
      "1197.024935011492 -187.91442715641625\n",
      "1909.3676222720117 -299.741227167343\n",
      "135.84742896355272 -850.1892386978097\n",
      "401.84490262106146 -2514.9111355332125\n",
      "55.55957813026621 -347.71475465771067\n",
      "353.586023979252 -2212.88716933877\n",
      "198.9629000056999 -1245.1918875132951\n",
      "-2223.6370133461987 -1136.8281662913203\n",
      "-1951.7196814354063 -997.8111954621668\n",
      "-1598.846669168861 -817.4058608410278\n",
      "-1132.3325788991217 -578.9018448495285\n"
     ]
    },
    {
     "data": {
      "image/png": "[encoded data removed]",
      "text/plain": [
       "<Figure size 1200x1200 with 1 Axes>"
      ]
     },
     "metadata": {},
     "output_type": "display_data"
    }
   ],
   "source": [
    "def i_y(i):\n",
    "    return 2*i+1\n",
    "\n",
    "def i_x(i):\n",
    "    return 2*i\n",
    "\n",
    "\n",
    "initial_guess = np.zeros(2*n_ant)\n",
    "\n",
    "for i in range(n_ant):\n",
    "    x,y = current_pos[i][0:2]*1000\n",
    "    initial_guess[i_x(i)] = x\n",
    "    initial_guess[i_y(i)] = y\n",
    "    \n",
    "    print(x,y)\n",
    "initial_guess\n",
    "\n",
    "pos_i = current_pos*1000\n",
    "import matplotlib.pyplot as plt\n",
    "\n",
    "fig, ax = plt.subplots(figsize=(12,12))\n",
    "\n",
    "ax.scatter(pos_i[:,0], pos_i[:,1])\n",
    "for i in range(0,pos_i.shape[0]):\n",
    "    ax.text(pos_i[i,0], pos_i[i,1],f\"{i}\")\n",
    "\n",
    "ax.grid(True)\n",
    "ax.set_title('Initial positions')\n",
    "ax.set_xlabel('x (mm)')\n",
    "ax.set_ylabel('y (mm)')\n",
    "plt.savefig('initial_positions.png')\n",
    "plt.show()"
   ]
  },
  {
   "cell_type": "markdown",
   "metadata": {},
   "source": [
    "## Criteria for Optimality\n",
    "\n",
    "The function below is minimized when the positions (in variable x) are consistent with the measured distances m[i,j]. The initial value of this function is more than 3 million.\n",
    "\n",
    "Note that the x input is a 1D vector of with 48 entries as [p0.x, p0.y, p1.x, p1.y]"
   ]
  },
  {
   "cell_type": "code",
   "execution_count": 8,
   "metadata": {},
   "outputs": [
    {
     "name": "stdout",
     "output_type": "stream",
     "text": [
      "178931.16352158433\n"
     ]
    }
   ],
   "source": [
    "def dist(a,b):\n",
    "    return np.sqrt((a[0]-b[0])**2 + (a[1]-b[1])**2)\n",
    "\n",
    "\n",
    "def p(x, i):\n",
    "    return [x[i_x(i)],x[i_y(i)]]\n",
    "\n",
    "max_err = 1200\n",
    "def bounds():\n",
    "    ret = [(0,0)]*48\n",
    "    for i in range(24):\n",
    "        _x,_y = pos_i[i,0], pos_i[i,1]\n",
    "        ret[i_x(i)] = (_x - max_err, _x + max_err)\n",
    "        ret[i_y(i)] = (_y - max_err, _y + max_err)\n",
    "    # x-component of the north arm set to zero.\n",
    "    #for i in [0,1,2,3,4]:\n",
    "    #    xval = pos_i[i,0]\n",
    "    #    ret[i_x(i)] = ( - 2, + 2)\n",
    "    \n",
    "    return ret\n",
    "\n",
    "bnd = bounds()\n",
    "\n",
    "center = [0,0]\n",
    "\n",
    "def radius_model(x):\n",
    "    ret = []\n",
    "    \n",
    "    for i in range(n_ant):\n",
    "        p_i = p(x,i)\n",
    "        ret.append(dist(center, p_i))\n",
    "        \n",
    "    return np.array(ret)\n",
    "\n",
    "non_nan_ij = []\n",
    "non_nan_indices = []\n",
    "for i in range(n_ant):\n",
    "    for j in range(n_ant):\n",
    "        if not np.isnan(m_ij[i,j]):\n",
    "            non_nan_ij.append(m_ij[i,j])\n",
    "            non_nan_indices.append([i,j])\n",
    "non_nan_ij = np.array(non_nan_ij)\n",
    "non_nan_indices = np.array(non_nan_indices)\n",
    "\n",
    "def m_ij_model(x):\n",
    "    ret = []\n",
    "    for i in range(n_ant):\n",
    "        p_i = p(x,i)\n",
    "\n",
    "        for j in range(n_ant):\n",
    "            p_j = p(x,j)\n",
    "            if not np.isnan(m_ij[i,j]):\n",
    "                ret.append(dist(p_j, p_i))\n",
    "                \n",
    "    return np.array(ret)\n",
    "    \n",
    "def radius_residual(x):\n",
    "    predict = radius_model(x)\n",
    "    return predict - radius\n",
    "\n",
    "def m_ij_residual(x):\n",
    "    predict = m_ij_model(x)\n",
    "    return predict - non_nan_ij\n",
    "\n",
    "\n",
    "def f(x):\n",
    "    ret = 0\n",
    "    for i in range(n_ant):\n",
    "        p_i = p(x,i)\n",
    "        ret += (dist(center, p_i) - m_0[i])**2\n",
    "        for j in range(n_ant):\n",
    "            p_j = p(x,j)\n",
    "            if not np.isnan(m_ij[i,j]):\n",
    "                ret += (dist(p_j, p_i) - m_ij[i,j])**2\n",
    "    return ret\n",
    "\n",
    "def f(x):\n",
    "    # This is the final criterion for optimality. The sum of squared residuals.\n",
    "    ret = np.sum(radius_residual(x)**2)\n",
    "    ret += np.sum(m_ij_residual(x)**2)\n",
    "    return ret\n",
    "\n",
    "print(f(initial_guess))"
   ]
  },
  {
   "cell_type": "markdown",
   "metadata": {},
   "source": [
    "We can see that the initial value of this optimality condition is about 600,000."
   ]
  },
  {
   "cell_type": "code",
   "execution_count": 9,
   "metadata": {},
   "outputs": [
    {
     "data": {
      "text/plain": [
       "  message: CONVERGENCE: REL_REDUCTION_OF_F_<=_FACTR*EPSMCH\n",
       "  success: True\n",
       "   status: 0\n",
       "      fun: 139.8470550717171\n",
       "        x: [-4.961e+02  4.931e+02 ... -1.145e+03 -5.786e+02]\n",
       "      nit: 169\n",
       "      jac: [ 7.475e-04 -1.677e-04 ...  1.791e-04 -1.165e-04]\n",
       "     nfev: 8967\n",
       "     njev: 183\n",
       " hess_inv: <48x48 LbfgsInvHessProduct with dtype=float64>"
      ]
     },
     "execution_count": 9,
     "metadata": {},
     "output_type": "execute_result"
    }
   ],
   "source": [
    "res = minimize(f, initial_guess, bounds=bnd)\n",
    "res"
   ]
  },
  {
   "cell_type": "code",
   "execution_count": 10,
   "metadata": {},
   "outputs": [
    {
     "name": "stdout",
     "output_type": "stream",
     "text": [
      "Ant 0:\tJac: 000.00, \t-00.00\n",
      "Ant 1:\tJac: -00.00, \t-00.00\n",
      "Ant 2:\tJac: 000.00, \t000.00\n",
      "Ant 3:\tJac: 000.00, \t000.00\n",
      "Ant 4:\tJac: 000.00, \t-00.00\n",
      "Ant 5:\tJac: -00.00, \t000.00\n",
      "Ant 6:\tJac: -00.00, \t-00.00\n",
      "Ant 7:\tJac: -00.00, \t000.00\n",
      "Ant 8:\tJac: -00.00, \t000.00\n",
      "Ant 9:\tJac: 000.00, \t000.00\n",
      "Ant 10:\tJac: 000.00, \t000.00\n",
      "Ant 11:\tJac: 000.00, \t000.00\n",
      "Ant 12:\tJac: -00.00, \t000.00\n",
      "Ant 13:\tJac: -00.00, \t-00.00\n",
      "Ant 14:\tJac: -00.00, \t000.00\n",
      "Ant 15:\tJac: -00.00, \t-00.00\n",
      "Ant 16:\tJac: 000.00, \t-00.00\n",
      "Ant 17:\tJac: -00.00, \t-00.00\n",
      "Ant 18:\tJac: 000.00, \t-00.00\n",
      "Ant 19:\tJac: -00.00, \t-00.00\n",
      "Ant 20:\tJac: 000.00, \t000.00\n",
      "Ant 21:\tJac: -00.00, \t-00.00\n",
      "Ant 22:\tJac: -00.00, \t000.00\n",
      "Ant 23:\tJac: 000.00, \t-00.00\n"
     ]
    }
   ],
   "source": [
    "err = res.jac.reshape((24,2))\n",
    "rms = err # np.sqrt(np.sum(err**2, axis=1))\n",
    "for i in range(24):\n",
    "    print(f\"Ant {i}:\\tJac: {rms[i,0]:06.2f}, \\t{rms[i,1]:06.2f}\")"
   ]
  },
  {
   "cell_type": "markdown",
   "metadata": {},
   "source": [
    "The optimized positions are now known. The final value of the function is 32. Far closer to zero than 3 million!\n",
    "\n",
    "We can recover the x,y coordinates by reshaping the array"
   ]
  },
  {
   "cell_type": "code",
   "execution_count": 11,
   "metadata": {},
   "outputs": [
    {
     "data": {
      "text/plain": [
       "array([[ -496.13063392,   493.11941426],\n",
       "       [-1814.75851556,  1800.3318121 ],\n",
       "       [ -799.96514531,   782.00819306],\n",
       "       [-1447.86658536,  1443.73262629],\n",
       "       [-1229.28476239,  1216.80792468],\n",
       "       [  817.28947539,  1622.19606842],\n",
       "       [ 1161.36611931,  2296.49371862],\n",
       "       [  115.79561835,   232.7904066 ],\n",
       "       [  249.81663607,   507.01672871],\n",
       "       [  425.11154118,   841.74223445],\n",
       "       [ 2533.63132069,  -399.00595834],\n",
       "       [  672.8945518 ,   -98.048492  ],\n",
       "       [ 1512.56559955,  -230.31908444],\n",
       "       [ 1186.13292001,  -206.64788748],\n",
       "       [ 1921.32879991,  -296.02194106],\n",
       "       [  127.29440496,  -865.69116493],\n",
       "       [  399.28251474, -2543.38117203],\n",
       "       [   58.30248754,  -345.11010764],\n",
       "       [  366.34631744, -2257.12904054],\n",
       "       [  204.01551168, -1262.65742573],\n",
       "       [-2255.57501151, -1142.77901122],\n",
       "       [-1991.93178632, -1009.20535628],\n",
       "       [-1613.88556325,  -819.43520258],\n",
       "       [-1145.37654041,  -578.63167347]])"
      ]
     },
     "execution_count": 11,
     "metadata": {},
     "output_type": "execute_result"
    }
   ],
   "source": [
    "pos = res.x.reshape((24,2))\n",
    "pos"
   ]
  },
  {
   "cell_type": "code",
   "execution_count": 12,
   "metadata": {},
   "outputs": [
    {
     "data": {
      "image/png": "[encoded data removed]",
      "text/plain": [
       "<Figure size 1200x1200 with 1 Axes>"
      ]
     },
     "metadata": {},
     "output_type": "display_data"
    }
   ],
   "source": [
    "fig, ax = plt.subplots(figsize=(12,12))\n",
    "\n",
    "ax.scatter(pos_i[:,0], pos_i[:,1], label='initial')\n",
    "ax.scatter(pos[:,0], pos[:,1], label='final')\n",
    "\n",
    "ax.grid(True)\n",
    "ax.set_title('Final Solution')\n",
    "ax.set_xlabel('x (mm)')\n",
    "ax.set_ylabel('y (mm)')\n",
    "ax.legend()\n",
    "plt.savefig('final_positions.png')\n",
    "plt.show()"
   ]
  },
  {
   "cell_type": "code",
   "execution_count": 13,
   "metadata": {},
   "outputs": [
    {
     "data": {
      "image/png": "[encoded data removed]",
      "text/plain": [
       "<Figure size 1200x1200 with 1 Axes>"
      ]
     },
     "metadata": {},
     "output_type": "display_data"
    }
   ],
   "source": [
    "# Differences plot\n",
    "diff = pos - pos_i[:,0:2]\n",
    "\n",
    "\n",
    "fig, ax = plt.subplots(figsize=(12,12))\n",
    "\n",
    "ax.scatter(diff[:,0], diff[:,1], color='red')\n",
    "\n",
    "for i in range(0,diff.shape[0]):\n",
    "    ax.text(diff[i,0], diff[i,1],f\"{i}\")\n",
    "\n",
    "ax.grid(True)\n",
    "ax.set_title(\"Differences from initial position\")\n",
    "ax.set_xlabel('x (mm)')\n",
    "ax.set_xlabel('y (mm)')\n",
    "plt.savefig('differences.png')\n",
    "plt.show()"
   ]
  },
  {
   "cell_type": "code",
   "execution_count": 14,
   "metadata": {},
   "outputs": [
    {
     "data": {
      "text/plain": [
       "A 0     4.508658\n",
       "A 1     1.275240\n",
       "A 2    -1.303863\n",
       "A 3    -0.328499\n",
       "A 4    -0.328773\n",
       "A 5     3.447679\n",
       "A 6    -1.548104\n",
       "A 7    -0.000003\n",
       "A 8     0.220590\n",
       "A 9     0.000430\n",
       "A 10   -0.142611\n",
       "A 11    0.000430\n",
       "A 12    0.000514\n",
       "A 13   -0.000559\n",
       "A 14   -0.000682\n",
       "A 15    0.000033\n",
       "A 16    4.531863\n",
       "A 17    0.000238\n",
       "A 18    1.665942\n",
       "A 19   -0.966731\n",
       "A 20   -1.450514\n",
       "A 21   -0.000293\n",
       "A 22    0.000183\n",
       "A 23    0.238884\n",
       "Name: 0, dtype: float64"
      ]
     },
     "execution_count": 14,
     "metadata": {},
     "output_type": "execute_result"
    }
   ],
   "source": [
    "# Residual plot\n",
    "rres = radius_residual(res.x)\n",
    "rres"
   ]
  },
  {
   "cell_type": "code",
   "execution_count": 15,
   "metadata": {},
   "outputs": [
    {
     "data": {
      "image/png": "[encoded data removed]",
      "text/plain": [
       "<Figure size 640x480 with 1 Axes>"
      ]
     },
     "metadata": {},
     "output_type": "display_data"
    }
   ],
   "source": [
    "# ij resdual\n",
    "ijres = m_ij_residual(res.x)\n",
    "plt.hist(ijres, bins='fd');\n",
    "plt.title(\"Histogram of residuals\")\n",
    "plt.xlabel(\"Residual (mm)\")\n",
    "plt.grid(True)\n",
    "plt.savefig(\"residual_histogram.png\")"
   ]
  },
  {
   "cell_type": "markdown",
   "metadata": {},
   "source": [
    "The API expects 3D coordinates (with a z value which is zero in this case). Therefore we add a column of zeros."
   ]
  },
  {
   "cell_type": "code",
   "execution_count": 16,
   "metadata": {},
   "outputs": [
    {
     "name": "stdout",
     "output_type": "stream",
     "text": [
      "95th percentile of residuals is 1.77 mm\n",
      " res[0,8] = -1.9\n",
      " res[1,16] = -3.6\n",
      " res[8,0] = -1.9\n",
      " res[16,1] = -3.6\n"
     ]
    }
   ],
   "source": [
    "absres = np.abs(ijres)\n",
    "p95 = np.percentile(absres, 95)\n",
    "\n",
    "print(f\"95th percentile of residuals is {p95:4.2f} mm\")\n",
    "ijres_matrix = np.zeros_like(m_ij)\n",
    "for r, i, j in zip(ijres, non_nan_indices[:,0], non_nan_indices[:,1]):\n",
    "    if np.abs(r) > p95:\n",
    "        print(f\" res[{i},{j}] = {r:3.1f}\")\n",
    "    ijres_matrix[i,j] = r\n",
    "    \n"
   ]
  },
  {
   "cell_type": "raw",
   "metadata": {},
   "source": [
    "## Output best estimates\n",
    "\n",
    "Write some json files..."
   ]
  },
  {
   "cell_type": "code",
   "execution_count": 17,
   "metadata": {},
   "outputs": [
    {
     "data": {
      "text/plain": [
       "array([[-0.496,  0.493,  0.   ],\n",
       "       [-1.815,  1.8  ,  0.   ],\n",
       "       [-0.8  ,  0.782,  0.   ],\n",
       "       [-1.448,  1.444,  0.   ],\n",
       "       [-1.229,  1.217,  0.   ],\n",
       "       [ 0.817,  1.622,  0.   ],\n",
       "       [ 1.161,  2.296,  0.   ],\n",
       "       [ 0.116,  0.233,  0.   ],\n",
       "       [ 0.25 ,  0.507,  0.   ],\n",
       "       [ 0.425,  0.842,  0.   ],\n",
       "       [ 2.534, -0.399,  0.   ],\n",
       "       [ 0.673, -0.098,  0.   ],\n",
       "       [ 1.513, -0.23 ,  0.   ],\n",
       "       [ 1.186, -0.207,  0.   ],\n",
       "       [ 1.921, -0.296,  0.   ],\n",
       "       [ 0.127, -0.866,  0.   ],\n",
       "       [ 0.399, -2.543,  0.   ],\n",
       "       [ 0.058, -0.345,  0.   ],\n",
       "       [ 0.366, -2.257,  0.   ],\n",
       "       [ 0.204, -1.263,  0.   ],\n",
       "       [-2.256, -1.143,  0.   ],\n",
       "       [-1.992, -1.009,  0.   ],\n",
       "       [-1.614, -0.819,  0.   ],\n",
       "       [-1.145, -0.579,  0.   ]])"
      ]
     },
     "execution_count": 17,
     "metadata": {},
     "output_type": "execute_result"
    }
   ],
   "source": [
    "result = np.zeros((n_ant, 3))\n",
    "result[:,:-1] = np.round(pos/1000.0, 3)\n",
    "result"
   ]
  },
  {
   "cell_type": "code",
   "execution_count": 18,
   "metadata": {},
   "outputs": [
    {
     "name": "stdout",
     "output_type": "stream",
     "text": [
      "{\n",
      "    \"antenna_positions\": [\n",
      "        [\n",
      "            -0.496,\n",
      "            0.493,\n",
      "            0.0\n",
      "        ],\n",
      "        [\n",
      "            -1.815,\n",
      "            1.8,\n",
      "            0.0\n",
      "        ],\n",
      "        [\n",
      "            -0.8,\n",
      "            0.782,\n",
      "            0.0\n",
      "        ],\n",
      "        [\n",
      "            -1.448,\n",
      "            1.444,\n",
      "            0.0\n",
      "        ],\n",
      "        [\n",
      "            -1.229,\n",
      "            1.217,\n",
      "            0.0\n",
      "        ],\n",
      "        [\n",
      "            0.817,\n",
      "            1.622,\n",
      "            0.0\n",
      "        ],\n",
      "        [\n",
      "            1.161,\n",
      "            2.296,\n",
      "            0.0\n",
      "        ],\n",
      "        [\n",
      "            0.116,\n",
      "            0.233,\n",
      "            0.0\n",
      "        ],\n",
      "        [\n",
      "            0.25,\n",
      "            0.507,\n",
      "            0.0\n",
      "        ],\n",
      "        [\n",
      "            0.425,\n",
      "            0.842,\n",
      "            0.0\n",
      "        ],\n",
      "        [\n",
      "            2.534,\n",
      "            -0.399,\n",
      "            0.0\n",
      "        ],\n",
      "        [\n",
      "            0.673,\n",
      "            -0.098,\n",
      "            0.0\n",
      "        ],\n",
      "        [\n",
      "            1.513,\n",
      "            -0.23,\n",
      "            0.0\n",
      "        ],\n",
      "        [\n",
      "            1.186,\n",
      "            -0.207,\n",
      "            0.0\n",
      "        ],\n",
      "        [\n",
      "            1.921,\n",
      "            -0.296,\n",
      "            0.0\n",
      "        ],\n",
      "        [\n",
      "            0.127,\n",
      "            -0.866,\n",
      "            0.0\n",
      "        ],\n",
      "        [\n",
      "            0.399,\n",
      "            -2.543,\n",
      "            0.0\n",
      "        ],\n",
      "        [\n",
      "            0.058,\n",
      "            -0.345,\n",
      "            0.0\n",
      "        ],\n",
      "        [\n",
      "            0.366,\n",
      "            -2.257,\n",
      "            0.0\n",
      "        ],\n",
      "        [\n",
      "            0.204,\n",
      "            -1.263,\n",
      "            0.0\n",
      "        ],\n",
      "        [\n",
      "            -2.256,\n",
      "            -1.143,\n",
      "            0.0\n",
      "        ],\n",
      "        [\n",
      "            -1.992,\n",
      "            -1.009,\n",
      "            0.0\n",
      "        ],\n",
      "        [\n",
      "            -1.614,\n",
      "            -0.819,\n",
      "            0.0\n",
      "        ],\n",
      "        [\n",
      "            -1.145,\n",
      "            -0.579,\n",
      "            0.0\n",
      "        ]\n",
      "    ]\n",
      "}\n"
     ]
    }
   ],
   "source": [
    "json_result = {}\n",
    "json_result[\"antenna_positions\"] = result.tolist()\n",
    "\n",
    "f = open(\"rhodes_antenna_positions.json\", \"w\")\n",
    "f.write(json.dumps(json_result))\n",
    "f.close()\n",
    "\n",
    "pos_json = json.dumps(json_result, indent=4, separators=(',', ': '))\n",
    "print(pos_json)"
   ]
  },
  {
   "cell_type": "markdown",
   "metadata": {
    "collapsed": true
   },
   "source": [
    "The position file above is in a format suitable for uploading to the telescope api. Also for using as the calibrated_antenna_positions.json file in TART/software/containers/telescope_web_api/config_data.\n",
    "\n",
    "\n",
    "    tart_upload_antenna_positions --api https://tart.elec.ac.nz/rhodes --pw=xxxx --file rhodes_antenna_positions.json\n"
   ]
  },
  {
   "cell_type": "code",
   "execution_count": null,
   "metadata": {},
   "outputs": [],
   "source": []
  }
 ],
 "metadata": {
  "kernelspec": {
   "display_name": "Python 3 (ipykernel)",
   "language": "python",
   "name": "python3"
  },
  "language_info": {
   "codemirror_mode": {
    "name": "ipython",
    "version": 3
   },
   "file_extension": ".py",
   "mimetype": "text/x-python",
   "name": "python",
   "nbconvert_exporter": "python",
   "pygments_lexer": "ipython3",
   "version": "3.11.6"
  }
 },
 "nbformat": 4,
 "nbformat_minor": 2
}
