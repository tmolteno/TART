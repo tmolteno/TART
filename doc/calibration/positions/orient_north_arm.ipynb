{
 "cells": [
  {
   "cell_type": "code",
   "execution_count": 1,
   "id": "efc7d92c",
   "metadata": {},
   "outputs": [],
   "source": [
    "import numpy as np\n",
    "\n",
    "from astropy.coordinates import EarthLocation, position_angle\n",
    "\n",
    "tree = [-33.314532, 26.504503];\n",
    "tart = [-33.319524, 26.507458];\n",
    "\n",
    "tree_loc = EarthLocation.from_geodetic(lon=tree[1], lat=tree[0])\n",
    "tart_loc = EarthLocation.from_geodetic(lon=tart[1], lat=tart[0])"
   ]
  },
  {
   "cell_type": "code",
   "execution_count": 2,
   "id": "88230b81",
   "metadata": {},
   "outputs": [],
   "source": [
    "ang = position_angle(lon1=tart[1], lat1=tart[0], lon2=tree[1], lat2=tree[0])"
   ]
  },
  {
   "cell_type": "code",
   "execution_count": 3,
   "id": "e8c0112e",
   "metadata": {},
   "outputs": [
    {
     "data": {
      "text/latex": [
       "$10^\\circ47{}^\\prime15.93045225{}^{\\prime\\prime}$"
      ],
      "text/plain": [
       "<Angle 10.78775846 deg>"
      ]
     },
     "execution_count": 3,
     "metadata": {},
     "output_type": "execute_result"
    }
   ],
   "source": [
    "np.degrees(ang)"
   ]
  },
  {
   "cell_type": "code",
   "execution_count": null,
   "id": "3a4fe893",
   "metadata": {},
   "outputs": [],
   "source": []
  }
 ],
 "metadata": {
  "kernelspec": {
   "display_name": "Python 3 (ipykernel)",
   "language": "python",
   "name": "python3"
  },
  "language_info": {
   "codemirror_mode": {
    "name": "ipython",
    "version": 3
   },
   "file_extension": ".py",
   "mimetype": "text/x-python",
   "name": "python",
   "nbconvert_exporter": "python",
   "pygments_lexer": "ipython3",
   "version": "3.10.5"
  }
 },
 "nbformat": 4,
 "nbformat_minor": 5
}
