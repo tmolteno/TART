{
 "cells": [
  {
   "cell_type": "code",
   "execution_count": 1,
   "id": "efc7d92c",
   "metadata": {},
   "outputs": [],
   "source": [
    "import numpy as np\n",
    "\n",
    "from astropy.coordinates import EarthLocation, position_angle\n",
    "\n",
    "tree = [-33.314532, 26.504503];\n",
    "monument = [-33.319285, 26.519030]\n",
    "turbine = [-33.323780, 26.464046]\n",
    "tart = [-33.319524, 26.507458];\n",
    "\n",
    "tree_loc = EarthLocation.from_geodetic(lon=tree[1], lat=tree[0])\n",
    "tart_loc = EarthLocation.from_geodetic(lon=tart[1], lat=tart[0])\n",
    "turbine_loc = EarthLocation.from_geodetic(lon=turbine[1], lat=turbine[0])\n",
    "monument_loc = EarthLocation.from_geodetic(lon=monument[1], lat=monument[0])"
   ]
  },
  {
   "cell_type": "code",
   "execution_count": 2,
   "id": "88230b81",
   "metadata": {},
   "outputs": [],
   "source": [
    "ang_tart_tree = position_angle(lon1=tart[1], lat1=tart[0], lon2=tree[1], lat2=tree[0])\n",
    "ang_tart_turbine = position_angle(lon1=tart[1], lat1=tart[0], lon2=turbine[1], lat2=turbine[0])\n",
    "ang_tart_monument = position_angle(lon1=tart[1], lat1=tart[0], lon2=monument[1], lat2=monument[0])\n",
    "\n",
    "# positive angles point west of geographic north. (clockwise)"
   ]
  },
  {
   "cell_type": "code",
   "execution_count": 3,
   "id": "e8c0112e",
   "metadata": {},
   "outputs": [
    {
     "data": {
      "text/latex": [
       "$10^\\circ47{}^\\prime15.93045225{}^{\\prime\\prime}$"
      ],
      "text/plain": [
       "<Angle 10.78775846 deg>"
      ]
     },
     "execution_count": 3,
     "metadata": {},
     "output_type": "execute_result"
    }
   ],
   "source": [
    "np.degrees(ang_tart_tree)"
   ]
  },
  {
   "cell_type": "code",
   "execution_count": 4,
   "id": "3a4fe893",
   "metadata": {},
   "outputs": [
    {
     "data": {
      "text/latex": [
       "$105^\\circ25{}^\\prime49.69309055{}^{\\prime\\prime}$"
      ],
      "text/plain": [
       "<Angle 105.4304703 deg>"
      ]
     },
     "execution_count": 4,
     "metadata": {},
     "output_type": "execute_result"
    }
   ],
   "source": [
    "np.degrees(ang_tart_turbine)"
   ]
  },
  {
   "cell_type": "code",
   "execution_count": 5,
   "id": "0c1639ec",
   "metadata": {},
   "outputs": [
    {
     "data": {
      "text/latex": [
       "$1.84011\\;\\mathrm{rad}$"
      ],
      "text/plain": [
       "<Angle 1.84010884 rad>"
      ]
     },
     "execution_count": 5,
     "metadata": {},
     "output_type": "execute_result"
    }
   ],
   "source": [
    "ang_tart_turbine"
   ]
  },
  {
   "cell_type": "code",
   "execution_count": 9,
   "id": "daefa522",
   "metadata": {},
   "outputs": [
    {
     "data": {
      "text/plain": [
       "33.43047030293165"
      ]
     },
     "execution_count": 9,
     "metadata": {},
     "output_type": "execute_result"
    }
   ],
   "source": [
    "expected_angle = 72.0\n",
    "actual_angle = np.degrees(ang_tart_turbine.value)\n",
    "rotation = actual_angle - expected_angle\n",
    "rotation"
   ]
  },
  {
   "cell_type": "code",
   "execution_count": null,
   "id": "1090a824",
   "metadata": {},
   "outputs": [],
   "source": []
  }
 ],
 "metadata": {
  "kernelspec": {
   "display_name": "Python 3 (ipykernel)",
   "language": "python",
   "name": "python3"
  },
  "language_info": {
   "codemirror_mode": {
    "name": "ipython",
    "version": 3
   },
   "file_extension": ".py",
   "mimetype": "text/x-python",
   "name": "python",
   "nbconvert_exporter": "python",
   "pygments_lexer": "ipython3",
   "version": "3.11.5"
  }
 },
 "nbformat": 4,
 "nbformat_minor": 5
}
