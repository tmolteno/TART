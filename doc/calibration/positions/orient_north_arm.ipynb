{
 "cells": [
  {
   "cell_type": "markdown",
   "id": "4c2b3331",
   "metadata": {},
   "source": [
    "# Calibrating the global orientation of the TART\n",
    "\n",
    "Author: Tim Molteno tim@elec.ac.nz\n",
    "\n",
    "We use google maps to do this and find an arm that aligns closely to a distant landmark."
   ]
  },
  {
   "cell_type": "code",
   "execution_count": 1,
   "id": "efc7d92c",
   "metadata": {},
   "outputs": [],
   "source": [
    "import numpy as np\n",
    "\n",
    "from astropy.coordinates import EarthLocation, position_angle\n",
    "\n",
    "tree = [-33.314532, 26.504503];\n",
    "monument = [-33.319285, 26.519030]\n",
    "turbine = [-33.326303, 26.469101] \n",
    "tart = [-33.319449, 26.507807]; \n",
    "tart_bing = [-33,319480, 26,507804]\n",
    "\n",
    "tart_loc = EarthLocation.from_geodetic(lon=tart[1], lat=tart[0])\n",
    "\n",
    "tree_loc = EarthLocation.from_geodetic(lon=tree[1], lat=tree[0])\n",
    "turbine_loc = EarthLocation.from_geodetic(lon=turbine[1], lat=turbine[0])\n",
    "monument_loc = EarthLocation.from_geodetic(lon=monument[1], lat=monument[0])"
   ]
  },
  {
   "cell_type": "code",
   "execution_count": 2,
   "id": "49d9fa0d",
   "metadata": {},
   "outputs": [],
   "source": [
    "'''\n",
    "const y = Math.sin(λ2-λ1) * Math.cos(φ2);\n",
    "const x = Math.cos(φ1)*Math.sin(φ2) -\n",
    "          Math.sin(φ1)*Math.cos(φ2)*Math.cos(λ2-λ1);\n",
    "const θ = Math.atan2(y, x);\n",
    "const brng = (θ*180/Math.PI + 360) % 360; // in degrees\n",
    "'''\n",
    "\n",
    "def angleFromCoordinate( lat1,  lon1,  lat2, lon2):\n",
    "\n",
    "    dLon = np.radians(lon2 - lon1)\n",
    "\n",
    "    l1r = np.radians(lat1)\n",
    "    l2r = np.radians(lat2)\n",
    "    \n",
    "    y = np.sin(dLon) * np.cos(l2r)\n",
    "    x = np.cos(l1r) * np.sin(l2r) - np.sin(l1r)*np.cos(l2r) \\\n",
    "        * np.cos(dLon)\n",
    "\n",
    "    brng = np.arctan2(y, x)\n",
    "\n",
    "    brng = np.degrees(brng)\n",
    "    brng = (brng + 360) % 360;\n",
    "    brng = 360 - brng; # count degrees counter-clockwise - remove to make clockwise\n",
    "\n",
    "    return brng"
   ]
  },
  {
   "cell_type": "code",
   "execution_count": 3,
   "id": "88230b81",
   "metadata": {},
   "outputs": [],
   "source": [
    "ang_tart_tree = angleFromCoordinate(lon1=tart[1], lat1=tart[0], lon2=tree[1], lat2=tree[0])\n",
    "ang_tart_turbine = angleFromCoordinate(lon1=tart[1], lat1=tart[0], lon2=turbine[1], lat2=turbine[0])\n",
    "ang_tart_monument = angleFromCoordinate(lon1=tart[1], lat1=tart[0], lon2=monument[1], lat2=monument[0])\n",
    "\n",
    "# positive angles point west of geographic north. (clockwise)"
   ]
  },
  {
   "cell_type": "code",
   "execution_count": 4,
   "id": "e8c0112e",
   "metadata": {},
   "outputs": [
    {
     "data": {
      "text/plain": [
       "29.315773423055532"
      ]
     },
     "execution_count": 4,
     "metadata": {},
     "output_type": "execute_result"
    }
   ],
   "source": [
    "ang_tart_tree"
   ]
  },
  {
   "cell_type": "code",
   "execution_count": 5,
   "id": "3a4fe893",
   "metadata": {},
   "outputs": [
    {
     "data": {
      "text/plain": [
       "101.97577440181601"
      ]
     },
     "execution_count": 5,
     "metadata": {},
     "output_type": "execute_result"
    }
   ],
   "source": [
    "ang_tart_turbine"
   ]
  },
  {
   "cell_type": "code",
   "execution_count": 6,
   "id": "441cca73",
   "metadata": {},
   "outputs": [
    {
     "data": {
      "text/plain": [
       "101.17851999999999"
      ]
     },
     "execution_count": 6,
     "metadata": {},
     "output_type": "execute_result"
    }
   ],
   "source": [
    "360 - 258.82148"
   ]
  },
  {
   "cell_type": "markdown",
   "id": "473b1c92",
   "metadata": {},
   "source": [
    "## Calculating the rotation angle\n",
    "\n",
    "We need to find the angle that the array is rotated from geographic north. Start with the expected angle (positive angles point west of geographic north). In this case it is arm 5 that is expected to be 72 degrees"
   ]
  },
  {
   "cell_type": "code",
   "execution_count": 9,
   "id": "daefa522",
   "metadata": {},
   "outputs": [
    {
     "name": "stdout",
     "output_type": "stream",
     "text": [
      "expected angle 72\n",
      "actual angle 101.97577440181601\n"
     ]
    },
    {
     "data": {
      "text/plain": [
       "-29.97577440181601"
      ]
     },
     "execution_count": 9,
     "metadata": {},
     "output_type": "execute_result"
    }
   ],
   "source": [
    "expected_angle = 360 - (72*4)\n",
    "print(f\"expected angle {expected_angle}\")\n",
    "actual_angle = (ang_tart_turbine)\n",
    "print(f\"actual angle {actual_angle}\")\n",
    "rotation =  -(actual_angle - expected_angle)\n",
    "rotation"
   ]
  },
  {
   "cell_type": "markdown",
   "id": "e0388e1e",
   "metadata": {},
   "source": [
    "Now enter this information into the global_rotation field in the site survey notebook"
   ]
  },
  {
   "cell_type": "code",
   "execution_count": null,
   "id": "581acb28",
   "metadata": {},
   "outputs": [],
   "source": []
  }
 ],
 "metadata": {
  "kernelspec": {
   "display_name": "Python 3 (ipykernel)",
   "language": "python",
   "name": "python3"
  },
  "language_info": {
   "codemirror_mode": {
    "name": "ipython",
    "version": 3
   },
   "file_extension": ".py",
   "mimetype": "text/x-python",
   "name": "python",
   "nbconvert_exporter": "python",
   "pygments_lexer": "ipython3",
   "version": "3.11.6"
  }
 },
 "nbformat": 4,
 "nbformat_minor": 5
}
