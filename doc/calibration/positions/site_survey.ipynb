{
 "cells": [
  {
   "cell_type": "markdown",
   "metadata": {},
   "source": [
    "# Antenna Position Measurement\n",
    "\n",
    "Author: Tim Molteno. tim@elec.ac.nz.\n",
    "\n",
    "The antennas are laid out on tiles, and these tiles are placed on site. Once this is done, a survey is needed to refine the positions of each antenna in the array.\n",
    "\n",
    "Three reference posts are placed. The first is at the centre of the array, the second approximately 2.5 meters due north. The first and second post defines the $y$ axis. The third post is placed approximately 2.5 meters east of the centre, and reasonably close to at right angles to the $y$ axis.\n",
    "\n",
    "The first reference point, x0, has coordinates (0,0). The second reference point, x1, has coordinates (0, y) and the third is not known, but must be established by measurement.\n",
    "\n",
    "All measurements are made from the height of the antennas on the reference points."
   ]
  },
  {
   "cell_type": "code",
   "execution_count": 1,
   "metadata": {},
   "outputs": [],
   "source": [
    "import numpy as np\n",
    "from scipy.optimize import minimize "
   ]
  },
  {
   "cell_type": "code",
   "execution_count": 2,
   "metadata": {},
   "outputs": [],
   "source": [
    "x0 = [0,0]\n",
    "x1 = [0, 2209]"
   ]
  },
  {
   "cell_type": "markdown",
   "metadata": {},
   "source": [
    "### Locating the third reference point\n",
    "\n",
    "The distances from reference point 2 to the other two reference points (0,1) are measured (in mm)"
   ]
  },
  {
   "cell_type": "code",
   "execution_count": 3,
   "metadata": {},
   "outputs": [],
   "source": [
    "d_0_2 = 2047\n",
    "d_1_2 = 3020"
   ]
  },
  {
   "cell_type": "markdown",
   "metadata": {},
   "source": [
    "Now a least squares estimator is used to work out the x-y coordinates of the third reference point (x2)"
   ]
  },
  {
   "cell_type": "code",
   "execution_count": 4,
   "metadata": {},
   "outputs": [],
   "source": [
    "def dist(a,b):\n",
    "    return np.sqrt((a[0]-b[0])**2 + (a[1]-b[1])**2)\n",
    "\n",
    "def f(x):\n",
    "    return (dist(x0, x) - d_0_2)**2 + (dist(x1, x) - d_1_2)**2\n",
    "\n",
    "initial_guess = [2047, 0]\n",
    "res = minimize(f, initial_guess)\n",
    "x2 = res.x"
   ]
  },
  {
   "cell_type": "code",
   "execution_count": 5,
   "metadata": {},
   "outputs": [
    {
     "data": {
      "text/plain": [
       "[[0, 2209], [0, 0], array([2046.96807079,  -11.43277996])]"
      ]
     },
     "execution_count": 5,
     "metadata": {},
     "output_type": "execute_result"
    }
   ],
   "source": [
    "reference_points = [x1, x0, x2]\n",
    "reference_points"
   ]
  },
  {
   "cell_type": "markdown",
   "metadata": {},
   "source": [
    "## Finding the antennas\n",
    "\n",
    "This is done by measuring the distance from each antenna to the three reference points x0, x1 and x2."
   ]
  },
  {
   "cell_type": "code",
   "execution_count": 6,
   "metadata": {},
   "outputs": [],
   "source": [
    "n_ant = 24\n",
    "m = np.zeros((24,3))"
   ]
  },
  {
   "cell_type": "markdown",
   "metadata": {},
   "source": [
    "The following are the measured distances from [x1, x0, x2] from the reference points in millimeters. Note that their order must be the same as the order of the variable called 'reference_points'. In this case, they are x1,x0,x2."
   ]
  },
  {
   "cell_type": "code",
   "execution_count": 7,
   "metadata": {},
   "outputs": [],
   "source": [
    "m[0,:] = [1563, 855, 2618]\n",
    "m[1,:] = [1407, 825, 2355]\n",
    "m[2,:] = [1750, 765, 2644]\n",
    "m[3,:] = [839, 1373, 2416]\n",
    "m[4,:] = [1151, 1422, 2986]\n",
    "m[5,:] = [842, 1410, 2662]\n",
    "m[6,:] = [2527, 1119, 929]\n",
    "m[7,:] = [2274, 1200, 915]\n",
    "m[8,:] = [2715, 1261, 824]\n",
    "m[9,:] = [1684, 1064, 1457]\n",
    "m[10,:] = [2238, 546, 1501]\n",
    "m[11,:] = [1834, 805, 1493]\n",
    "m[12,:] = [3320, 1111, 2370]\n",
    "m[13,:] = [3385, 1192, 2131]\n",
    "m[14,:] = [3446, 1247, 2555]\n",
    "m[15,:] = [3063, 1048, 1531]\n",
    "m[16,:] = [2760, 550, 2096]\n",
    "m[17,:] = [2873, 784, 1689]\n",
    "m[18,:] = [2342, 934, 2979]\n",
    "m[19,:] = [2638, 1142, 3179]\n",
    "m[20,:] = [2186, 993, 3020]\n",
    "m[21,:] = [3130, 1260, 3140]\n",
    "m[22,:] = [2545, 565, 2544]\n",
    "m[23,:] = [2942, 1000, 2891]"
   ]
  },
  {
   "cell_type": "markdown",
   "metadata": {},
   "source": [
    "## Plot the Initial Guess Points\n",
    "\n",
    "Initial Guesses are from JSON queried from the telescope API. These are converted to millimeters."
   ]
  },
  {
   "cell_type": "code",
   "execution_count": 8,
   "metadata": {
    "scrolled": true
   },
   "outputs": [
    {
     "data": {
      "text/plain": [
       "array([[-0.16674626,  0.83926973,  0.        ],\n",
       "       [ 0.15281671,  0.81138589,  0.        ],\n",
       "       [-0.29700909,  0.70509971,  0.        ],\n",
       "       [ 0.57166882,  1.24897348,  0.        ],\n",
       "       [-0.13757589,  1.41472007,  0.        ],\n",
       "       [ 0.32087803,  1.37318691,  0.        ],\n",
       "       [ 1.01655214, -0.46882273,  0.        ],\n",
       "       [ 1.18460541, -0.19466385,  0.        ],\n",
       "       [ 1.08012255, -0.6515898 ,  0.        ],\n",
       "       [ 0.99613714,  0.37536222,  0.        ],\n",
       "       [ 0.52094819, -0.16784811,  0.        ],\n",
       "       [ 0.77635267,  0.2167407 ,  0.        ],\n",
       "       [-0.4621337 , -1.01061439,  0.        ],\n",
       "       [-0.19670087, -1.17624775,  0.        ],\n",
       "       [-0.64174045, -1.06898746,  0.        ],\n",
       "       [ 0.37797358, -0.97886923,  0.        ],\n",
       "       [-0.18511602, -0.51833682,  0.        ],\n",
       "       [ 0.20654109, -0.75610501,  0.        ],\n",
       "       [-0.84278599,  0.40241245,  0.        ],\n",
       "       [-1.11251412,  0.25626616,  0.        ],\n",
       "       [-0.80143781,  0.58622302,  0.        ],\n",
       "       [-1.21411153, -0.32786308,  0.        ],\n",
       "       [-0.55621795, -0.08950193,  0.        ],\n",
       "       [-0.95578611, -0.29349773,  0.        ]])"
      ]
     },
     "execution_count": 8,
     "metadata": {},
     "output_type": "execute_result"
    }
   ],
   "source": [
    "import requests\n",
    "import json\n",
    "\n",
    "pos_url = \"https://tart.elec.ac.nz/signal/api/v1/imaging/antenna_positions\"\n",
    "\n",
    "def get_data(path):\n",
    "    server = \"https://tart.elec.ac.nz/signal\"\n",
    "\n",
    "    r = requests.get('{}/{}'.format(server, path))\n",
    "    return json.loads(r.text)\n",
    "\n",
    "def get_pos():\n",
    "    return np.array(get_data('api/v1/imaging/antenna_positions'))\n",
    "\n",
    "current_pos = get_pos()\n",
    "current_pos\n"
   ]
  },
  {
   "cell_type": "code",
   "execution_count": 9,
   "metadata": {},
   "outputs": [
    {
     "data": {
      "text/plain": [
       "<Figure size 640x480 with 1 Axes>"
      ]
     },
     "metadata": {},
     "output_type": "display_data"
    }
   ],
   "source": [
    "initial_guess = np.zeros(2*n_ant)\n",
    "\n",
    "for i in range(n_ant):\n",
    "    initial_guess[2*i:2*i+2] = current_pos[i][0:2]*1000\n",
    "    #print(current_pos[i][0:2]*1000)\n",
    "initial_guess\n",
    "\n",
    "pos_i = current_pos*1000\n",
    "import matplotlib.pyplot as plt\n",
    "plt.scatter(pos_i[:,0], pos_i[:,1])\n",
    "plt.xlim(-2000,2000)\n",
    "plt.ylim(-2000,2000)\n",
    "plt.show()"
   ]
  },
  {
   "cell_type": "markdown",
   "metadata": {},
   "source": [
    "## Criteria for Optimality\n",
    "\n",
    "The function below is minimized when the positions (in variable x) are consistent with the measured distances m[i,j]. The initial value of this function is more than 3 million.\n",
    "\n",
    "Note that the x input is a 1D vector of with 48 entries as [p0.x, p0.y, p1.x, p1.y]"
   ]
  },
  {
   "cell_type": "code",
   "execution_count": 10,
   "metadata": {},
   "outputs": [
    {
     "name": "stdout",
     "output_type": "stream",
     "text": [
      "3411328.315183782\n"
     ]
    },
    {
     "data": {
      "text/plain": [
       "      fun: 32.160056269667926\n",
       " hess_inv: array([[ 0.2946435 ,  0.02120059,  0.09454364, ...,  0.18697445,\n",
       "         0.31788384, -0.3197244 ],\n",
       "       [ 0.02120059,  0.07272489, -0.00096405, ...,  0.02710196,\n",
       "         0.0513227 , -0.09185489],\n",
       "       [ 0.09454364, -0.00096405,  0.12357619, ...,  0.08690188,\n",
       "         0.03530764, -0.04157134],\n",
       "       ...,\n",
       "       [ 0.18697445,  0.02710196,  0.08690188, ...,  0.19583251,\n",
       "         0.26934106, -0.18633359],\n",
       "       [ 0.31788384,  0.0513227 ,  0.03530764, ...,  0.26934106,\n",
       "         0.90710054, -0.49866779],\n",
       "       [-0.3197244 , -0.09185489, -0.04157134, ..., -0.18633359,\n",
       "        -0.49866779,  0.83659813]])\n",
       "      jac: array([ 1.47819519e-05,  3.43322754e-05,  1.43051147e-06, -9.53674316e-07,\n",
       "        1.43051147e-06, -4.76837158e-07,  1.19209290e-05,  1.23977661e-05,\n",
       "        1.04904175e-05,  7.62939453e-06, -9.53674316e-07, -9.53674316e-06,\n",
       "        4.29153442e-06, -9.53674316e-07, -2.57492065e-05, -2.76565552e-05,\n",
       "       -1.04904175e-05, -1.19209290e-05,  2.43186951e-05,  8.10623169e-06,\n",
       "       -1.33514404e-05, -3.43322754e-05,  7.62939453e-06,  1.00135803e-05,\n",
       "       -1.52587891e-05,  4.76837158e-06,  2.95639038e-05, -1.90734863e-05,\n",
       "       -4.76837158e-07,  3.33786011e-06,  4.72068787e-05,  2.90870667e-05,\n",
       "        3.62396240e-05,  1.52587891e-05,  1.43051147e-06, -2.38418579e-06,\n",
       "        1.19209290e-05,  2.86102295e-06, -7.15255737e-06, -4.29153442e-06,\n",
       "       -9.53674316e-07,  1.43051147e-06,  1.54972076e-04,  7.77244568e-05,\n",
       "        6.10351562e-05,  2.00271606e-05,  2.86102295e-06,  5.24520874e-06])\n",
       "  message: 'Desired error not necessarily achieved due to precision loss.'\n",
       "     nfev: 9561\n",
       "      nit: 57\n",
       "     njev: 191\n",
       "   status: 2\n",
       "  success: False\n",
       "        x: array([ -467.10643795,   716.95500445,  -159.71634223,   810.30413613,\n",
       "        -538.08115987,   543.77684569,    66.14022252,  1371.98030351,\n",
       "        -654.13109108,  1262.21216365,  -213.47586306,  1394.16820878,\n",
       "        1118.33585422,   -56.97044365,  1172.17166935,   259.8430332 ,\n",
       "        1245.1138546 ,  -203.3819925 ,   785.23723459,   718.53157375,\n",
       "         545.70924   ,    38.43417428,   639.76701475,   489.53626281,\n",
       "         -52.94193561, -1110.16183524,   255.2326478 , -1165.33724169,\n",
       "        -198.03723354, -1231.24224944,   715.13335894,  -767.93745977,\n",
       "          21.38590115,  -550.24834224,   473.34891585,  -624.84387213,\n",
       "        -931.61343872,    60.28627326, -1128.08558873,  -175.67238529,\n",
       "        -962.0310572 ,   246.06998176, -1004.91356482,  -756.39665198,\n",
       "        -482.86815159,  -290.44619064,  -777.54827876,  -628.49753864])"
      ]
     },
     "execution_count": 10,
     "metadata": {},
     "output_type": "execute_result"
    }
   ],
   "source": [
    "def f(x):\n",
    "    ret = 0\n",
    "    for i in range(n_ant):\n",
    "        for j in range(3):\n",
    "            p = [x[2*i],x[2*i+1]]\n",
    "            ret += (dist(reference_points[j], p) - m[i,j])**2\n",
    "    return ret\n",
    "\n",
    "print(f(initial_guess))\n",
    "res = minimize(f, initial_guess)\n",
    "res"
   ]
  },
  {
   "cell_type": "markdown",
   "metadata": {},
   "source": [
    "The optimized positions are now known. The final value of the function is 32. Far closer to zero than 3 million!\n",
    "\n",
    "We can recover the x,y coordinates by reshaping the array"
   ]
  },
  {
   "cell_type": "code",
   "execution_count": 11,
   "metadata": {},
   "outputs": [
    {
     "data": {
      "text/plain": [
       "array([[ -467.10643795,   716.95500445],\n",
       "       [ -159.71634223,   810.30413613],\n",
       "       [ -538.08115987,   543.77684569],\n",
       "       [   66.14022252,  1371.98030351],\n",
       "       [ -654.13109108,  1262.21216365],\n",
       "       [ -213.47586306,  1394.16820878],\n",
       "       [ 1118.33585422,   -56.97044365],\n",
       "       [ 1172.17166935,   259.8430332 ],\n",
       "       [ 1245.1138546 ,  -203.3819925 ],\n",
       "       [  785.23723459,   718.53157375],\n",
       "       [  545.70924   ,    38.43417428],\n",
       "       [  639.76701475,   489.53626281],\n",
       "       [  -52.94193561, -1110.16183524],\n",
       "       [  255.2326478 , -1165.33724169],\n",
       "       [ -198.03723354, -1231.24224944],\n",
       "       [  715.13335894,  -767.93745977],\n",
       "       [   21.38590115,  -550.24834224],\n",
       "       [  473.34891585,  -624.84387213],\n",
       "       [ -931.61343872,    60.28627326],\n",
       "       [-1128.08558873,  -175.67238529],\n",
       "       [ -962.0310572 ,   246.06998176],\n",
       "       [-1004.91356482,  -756.39665198],\n",
       "       [ -482.86815159,  -290.44619064],\n",
       "       [ -777.54827876,  -628.49753864]])"
      ]
     },
     "execution_count": 11,
     "metadata": {},
     "output_type": "execute_result"
    }
   ],
   "source": [
    "pos = res.x.reshape((24,2))\n",
    "pos"
   ]
  },
  {
   "cell_type": "code",
   "execution_count": 12,
   "metadata": {},
   "outputs": [
    {
     "data": {
      "image/png": "[encoded data removed]",
      "text/plain": [
       "<Figure size 432x288 with 1 Axes>"
      ]
     },
     "metadata": {
      "needs_background": "light"
     },
     "output_type": "display_data"
    }
   ],
   "source": [
    "plt.scatter(pos[:,0], pos[:,1], color='red')\n",
    "plt.scatter(pos_i[:,0], pos_i[:,1], color='blue')\n",
    "\n",
    "plt.xlim(-2000,2000)\n",
    "plt.ylim(-2000,2000)\n",
    "plt.grid(True)\n",
    "plt.show()"
   ]
  },
  {
   "cell_type": "markdown",
   "metadata": {},
   "source": [
    "The API expects 3D coordinates (with a z value which is zero in this case). Therefore we add a column of zeros."
   ]
  },
  {
   "cell_type": "code",
   "execution_count": 13,
   "metadata": {},
   "outputs": [
    {
     "data": {
      "text/plain": [
       "array([[-0.467,  0.717,  0.   ],\n",
       "       [-0.16 ,  0.81 ,  0.   ],\n",
       "       [-0.538,  0.544,  0.   ],\n",
       "       [ 0.066,  1.372,  0.   ],\n",
       "       [-0.654,  1.262,  0.   ],\n",
       "       [-0.213,  1.394,  0.   ],\n",
       "       [ 1.118, -0.057,  0.   ],\n",
       "       [ 1.172,  0.26 ,  0.   ],\n",
       "       [ 1.245, -0.203,  0.   ],\n",
       "       [ 0.785,  0.719,  0.   ],\n",
       "       [ 0.546,  0.038,  0.   ],\n",
       "       [ 0.64 ,  0.49 ,  0.   ],\n",
       "       [-0.053, -1.11 ,  0.   ],\n",
       "       [ 0.255, -1.165,  0.   ],\n",
       "       [-0.198, -1.231,  0.   ],\n",
       "       [ 0.715, -0.768,  0.   ],\n",
       "       [ 0.021, -0.55 ,  0.   ],\n",
       "       [ 0.473, -0.625,  0.   ],\n",
       "       [-0.932,  0.06 ,  0.   ],\n",
       "       [-1.128, -0.176,  0.   ],\n",
       "       [-0.962,  0.246,  0.   ],\n",
       "       [-1.005, -0.756,  0.   ],\n",
       "       [-0.483, -0.29 ,  0.   ],\n",
       "       [-0.778, -0.628,  0.   ]])"
      ]
     },
     "execution_count": 13,
     "metadata": {},
     "output_type": "execute_result"
    }
   ],
   "source": [
    "result = np.zeros((n_ant, 3))\n",
    "result[:,:-1] = np.round(pos/1000.0, 3)\n",
    "result"
   ]
  },
  {
   "cell_type": "code",
   "execution_count": 14,
   "metadata": {},
   "outputs": [
    {
     "name": "stdout",
     "output_type": "stream",
     "text": [
      "{\n",
      "    \"antenna_positions\": [\n",
      "        [\n",
      "            -0.467,\n",
      "            0.717,\n",
      "            0.0\n",
      "        ],\n",
      "        [\n",
      "            -0.16,\n",
      "            0.81,\n",
      "            0.0\n",
      "        ],\n",
      "        [\n",
      "            -0.538,\n",
      "            0.544,\n",
      "            0.0\n",
      "        ],\n",
      "        [\n",
      "            0.066,\n",
      "            1.372,\n",
      "            0.0\n",
      "        ],\n",
      "        [\n",
      "            -0.654,\n",
      "            1.262,\n",
      "            0.0\n",
      "        ],\n",
      "        [\n",
      "            -0.213,\n",
      "            1.394,\n",
      "            0.0\n",
      "        ],\n",
      "        [\n",
      "            1.118,\n",
      "            -0.057,\n",
      "            0.0\n",
      "        ],\n",
      "        [\n",
      "            1.172,\n",
      "            0.26,\n",
      "            0.0\n",
      "        ],\n",
      "        [\n",
      "            1.245,\n",
      "            -0.203,\n",
      "            0.0\n",
      "        ],\n",
      "        [\n",
      "            0.785,\n",
      "            0.719,\n",
      "            0.0\n",
      "        ],\n",
      "        [\n",
      "            0.546,\n",
      "            0.038,\n",
      "            0.0\n",
      "        ],\n",
      "        [\n",
      "            0.64,\n",
      "            0.49,\n",
      "            0.0\n",
      "        ],\n",
      "        [\n",
      "            -0.053,\n",
      "            -1.11,\n",
      "            0.0\n",
      "        ],\n",
      "        [\n",
      "            0.255,\n",
      "            -1.165,\n",
      "            0.0\n",
      "        ],\n",
      "        [\n",
      "            -0.198,\n",
      "            -1.231,\n",
      "            0.0\n",
      "        ],\n",
      "        [\n",
      "            0.715,\n",
      "            -0.768,\n",
      "            0.0\n",
      "        ],\n",
      "        [\n",
      "            0.021,\n",
      "            -0.55,\n",
      "            0.0\n",
      "        ],\n",
      "        [\n",
      "            0.473,\n",
      "            -0.625,\n",
      "            0.0\n",
      "        ],\n",
      "        [\n",
      "            -0.932,\n",
      "            0.06,\n",
      "            0.0\n",
      "        ],\n",
      "        [\n",
      "            -1.128,\n",
      "            -0.176,\n",
      "            0.0\n",
      "        ],\n",
      "        [\n",
      "            -0.962,\n",
      "            0.246,\n",
      "            0.0\n",
      "        ],\n",
      "        [\n",
      "            -1.005,\n",
      "            -0.756,\n",
      "            0.0\n",
      "        ],\n",
      "        [\n",
      "            -0.483,\n",
      "            -0.29,\n",
      "            0.0\n",
      "        ],\n",
      "        [\n",
      "            -0.778,\n",
      "            -0.628,\n",
      "            0.0\n",
      "        ]\n",
      "    ]\n",
      "}\n"
     ]
    }
   ],
   "source": [
    "json_result = {}\n",
    "json_result[\"antenna_positions\"] = result.tolist()\n",
    "print(json.dumps(json_result, indent=4, separators=(',', ': ')))\n",
    "\n",
    "f = open(\"signal_antenna_positions.json\", \"w\")\n",
    "f.write(json.dumps(json_result))\n",
    "f.close()\n"
   ]
  },
  {
   "cell_type": "markdown",
   "metadata": {
    "collapsed": true
   },
   "source": [
    "The position file above is in a format suitable for uploading to the telescope api. Also for using as the calibrated_antenna_positions.json file in TART/software/containers/telescope_web_api/config_data."
   ]
  }
 ],
 "metadata": {
  "kernelspec": {
   "display_name": "Python 3 (ipykernel)",
   "language": "python",
   "name": "python3"
  },
  "language_info": {
   "codemirror_mode": {
    "name": "ipython",
    "version": 3
   },
   "file_extension": ".py",
   "mimetype": "text/x-python",
   "name": "python",
   "nbconvert_exporter": "python",
   "pygments_lexer": "ipython3",
   "version": "3.11.6"
  }
 },
 "nbformat": 4,
 "nbformat_minor": 2
}
